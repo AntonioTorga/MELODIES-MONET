{
 "cells": [
  {
   "cell_type": "markdown",
   "metadata": {},
   "source": [
    "# Air Quality from Local to Global Scales:\n",
    "# An Introduction to the MELODIES-MONET Python Package"
   ]
  },
  {
   "cell_type": "markdown",
   "metadata": {},
   "source": [
    "## Author(s)\n",
    "\n",
    "- Author = {\"name\": \"David Fillmore\", \"affiliation\": \"NCAR\", \"email\": \"fillmore@ucar.edu\"}\n"
   ]
  },
  {
   "cell_type": "markdown",
   "metadata": {},
   "source": [
    "## Purpose\n",
    "An Introduction to the MELODIES-MONET Python Package\n",
    "\n",
    "## Technical Contributions\n",
    "\n",
    "MELODIES (Model Evaluation using Observations, Diagnostics and Experiments Software) is a modular python framework for evaluation and assessment of regional and global atmospheric chemistry models.  Its core functionality includes the spatial and temporal alignment of a diverse set of model and observational datasets, including observations from surface networks, aircraft, and Earth orbiting satellites.  In addition to a standard suite of spatial pattern and time series plots, MELODIES generates a set of statistical metrics, and is designed to be both highly extensible and customizable.\n",
    "\n",
    "MELODIES incorporates the python package MONET (Model and Observation Evaluation Toolkit), in particular its dataset readers and plotting library.  The combined MELODIES-MONET package is further based on the pandas (for time series) and the xarray/numpy (for numerical array computations) python modules.  This Jupyter notebook gives an overview of the essential functionality of MELODIES-MONET, and includes several examples for exploring and visualizing air quality data.\n",
    "\n",
    "## Methodology\n",
    "\n",
    "A illustrative example explores the 2020 wildfire season and the persistent smoke plumes that covered the Western states for much of the summer and early fall.  This example uses the AirNow and AeroNet (Aerosol Robotic Network) datasets, along with data products from the MODIS (Moderate Resolution Imaging Spectroradiometer) instruments flying onboard the NASA Terra and Aqua Earth observing satellites.\n",
    "\n",
    "## Results\n",
    "\n",
    "## Funding\n",
    "\n",
    "- Award = {\"agency\": \"NSF EarthCube\", \"award_code\": \"award_code\", \"award_URL\": \"award_URL\"}\n",
    "\n",
    "## Keywords\n",
    "\n",
    "keywords=[\"Air Quality\", \"Python\", \"MELODIES-MONET\", \"MODIS\", \"AeroNet\"]\n",
    "\n",
    "## Work In Progress - Improvements\n",
    "\n",
    "Notable TODOs:\n",
    "- todo;\n",
    "- todo;"
   ]
  },
  {
   "cell_type": "markdown",
   "metadata": {},
   "source": [
    "# Setup\n",
    "\n",
    "## Library Import"
   ]
  },
  {
   "cell_type": "code",
   "execution_count": null,
   "metadata": {},
   "outputs": [],
   "source": [
    "import numpy as np\n",
    "import xarray as xr"
   ]
  },
  {
   "cell_type": "markdown",
   "metadata": {},
   "source": [
    "## Local Library Import"
   ]
  },
  {
   "cell_type": "code",
   "execution_count": null,
   "metadata": {},
   "outputs": [],
   "source": [
    "# Append local path\n",
    "import sys\n",
    "# sys.path.append('')"
   ]
  },
  {
   "cell_type": "markdown",
   "metadata": {},
   "source": [
    "# Parameter Definitions"
   ]
  },
  {
   "cell_type": "markdown",
   "metadata": {},
   "source": [
    "# Data Import"
   ]
  },
  {
   "cell_type": "markdown",
   "metadata": {},
   "source": [
    "# Data Processing and Analysis"
   ]
  },
  {
   "cell_type": "code",
   "execution_count": null,
   "metadata": {},
   "outputs": [],
   "source": []
  },
  {
   "cell_type": "code",
   "execution_count": null,
   "metadata": {},
   "outputs": [],
   "source": []
  }
 ],
 "metadata": {
  "kernelspec": {
   "display_name": "Python 3 (ipykernel)",
   "language": "python",
   "name": "python3"
  },
  "language_info": {
   "codemirror_mode": {
    "name": "ipython",
    "version": 3
   },
   "file_extension": ".py",
   "mimetype": "text/x-python",
   "name": "python",
   "nbconvert_exporter": "python",
   "pygments_lexer": "ipython3",
   "version": "3.9.7"
  },
  "toc": {
   "base_numbering": 1,
   "nav_menu": {},
   "number_sections": true,
   "sideBar": true,
   "skip_h1_title": false,
   "title_cell": "Table of Contents",
   "title_sidebar": "Contents",
   "toc_cell": false,
   "toc_position": {
    "height": "calc(100% - 180px)",
    "left": "10px",
    "top": "150px",
    "width": "248.182px"
   },
   "toc_section_display": true,
   "toc_window_display": true
  }
 },
 "nbformat": 4,
 "nbformat_minor": 4
}

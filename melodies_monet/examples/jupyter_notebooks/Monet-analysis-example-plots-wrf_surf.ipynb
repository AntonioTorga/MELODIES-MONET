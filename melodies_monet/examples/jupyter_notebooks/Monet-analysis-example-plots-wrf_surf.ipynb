{
 "cells": [
  {
   "cell_type": "markdown",
   "metadata": {},
   "source": [
    "# MONET-analysis dev \n",
    "\n",
    "First lets just import the driver to see how it happens and so we can play around with it a little "
   ]
  },
  {
   "cell_type": "code",
   "execution_count": 1,
   "metadata": {
    "scrolled": false
   },
   "outputs": [
    {
     "name": "stderr",
     "output_type": "stream",
     "text": [
      "/scratch2/BMC/rcm1/rhs/anaconda3/envs/py36_monet_default/lib/python3.6/site-packages/pyresample/bilinear/__init__.py:49: UserWarning: XArray and/or zarr not found, XArrayBilinearResampler won't be available.\n",
      "  warnings.warn(\"XArray and/or zarr not found, XArrayBilinearResampler won't be available.\")\n"
     ]
    },
    {
     "name": "stdout",
     "output_type": "stream",
     "text": [
      "Please install h5py to open files from the Amazon S3 servers.\n",
      "Please install h5netcdf to open files from the Amazon S3 servers.\n"
     ]
    }
   ],
   "source": [
    "import sys\n",
    "sys.path.append('../../')\n",
    "import driver"
   ]
  },
  {
   "cell_type": "markdown",
   "metadata": {},
   "source": [
    "### Driver class\n",
    "\n",
    "Now lets create an instance of the python driver analysis class. It consists of 4 main parts; model instances, observation instances, a paired instance of both.  This will allow us to move things around the plotting function for spatial and overlays and more complex plots."
   ]
  },
  {
   "cell_type": "code",
   "execution_count": 2,
   "metadata": {},
   "outputs": [],
   "source": [
    "an = driver.analysis()"
   ]
  },
  {
   "cell_type": "markdown",
   "metadata": {},
   "source": [
    "### Control File\n",
    "\n",
    "set the yaml control file and begin by reading the file"
   ]
  },
  {
   "cell_type": "code",
   "execution_count": 3,
   "metadata": {
    "scrolled": false
   },
   "outputs": [
    {
     "data": {
      "text/plain": [
       "{'analysis': {'start_time': '2019-08-02-12:00:00',\n",
       "  'end_time': '2019-08-03-12:00:00',\n",
       "  'output_dir': '/scratch2/BMC/rcm1/rhs/wrfchem/processed/run_CONUS_fv19_BEIS_1.0xISO_RACM_v4.2.2_racm_vcp_noI/0802',\n",
       "  'debug': True},\n",
       " 'model': {'wrfchem_v4.2': {'files': '/scratch2/BMC/rcm1/rhs/wrfchem/runs_firex/run_CONUS_fv19_BEIS_1.0xISO_RACM_v4.2.2_racm_vcp_noI/Output/0802/*',\n",
       "   'mod_type': 'wrfchem',\n",
       "   'mod_kwargs': {'mech': 'racm_esrl_vcp'},\n",
       "   'radius_of_influence': 12000,\n",
       "   'mapping': {'airnow': {'co': 'CO',\n",
       "     'no2': 'NO2',\n",
       "     'no': 'NO',\n",
       "     'o3': 'OZONE'}},\n",
       "   'projection': 'None',\n",
       "   'plot_kwargs': {'color': 'dodgerblue', 'marker': '^', 'linestyle': ':'}}},\n",
       " 'obs': {'airnow': {'use_airnow': True,\n",
       "   'filename': '/scratch2/BMC/rcm1/rhs/MONET/MELODIES-MONET/melodies_monet/data/AIRNOW_20190831_20190831.nc',\n",
       "   'obs_type': 'pt_sfc',\n",
       "   'variables': {'PM2.5': {'unit_scale': 1,\n",
       "     'unit_scale_method': '*',\n",
       "     'nan_value': -1.0,\n",
       "     'ylabel_plot': 'PM2.5 (ug/m3)',\n",
       "     'ty_scale': 2.0,\n",
       "     'vmin_plot': 0.0,\n",
       "     'vmax_plot': 22.0,\n",
       "     'vdiff_plot': 15.0,\n",
       "     'nlevels_plot': 23},\n",
       "    'OZONE': {'unit_scale': 1,\n",
       "     'unit_scale_method': '*',\n",
       "     'nan_value': -1.0,\n",
       "     'ylabel_plot': 'Ozone (ppbv)',\n",
       "     'vmin_plot': 15.0,\n",
       "     'vmax_plot': 55.0,\n",
       "     'vdiff_plot': 20.0,\n",
       "     'nlevels_plot': 21},\n",
       "    'WS': {'unit_scale': 0.514, 'unit_scale_method': '*', 'obs_min': 0.2},\n",
       "    'PRSFC': {'unit_scale': 0.01, 'unit_scale_method': '*'},\n",
       "    'PRECIP': {'unit_scale': 0.1, 'unit_scale_method': '*'},\n",
       "    'TEMP': {'unit_scale': 273.16, 'unit_scale_method': '-'},\n",
       "    'CO': {'unit_scale': 1000.0,\n",
       "     'unit_scale_method': '*',\n",
       "     'nan_value': -1.0,\n",
       "     'ylabel_plot': 'CO (ppbv)',\n",
       "     'vmin_plot': 50.0,\n",
       "     'vmax_plot': 750.0,\n",
       "     'vdiff_plot': 400.0,\n",
       "     'nlevels_plot': 15},\n",
       "    'SO2': {'nan_value': -1.0, 'ylabel_plot': 'SO2 (ppbv)'},\n",
       "    'NO': {'nan_value': -1.0,\n",
       "     'ylabel_plot': 'NO (ppbv)',\n",
       "     'vmin_plot': 0.0,\n",
       "     'vmax_plot': 20.0,\n",
       "     'vdiff_plot': 15.0,\n",
       "     'nlevels_plot': 21},\n",
       "    'NO2': {'nan_value': -1.0,\n",
       "     'ylabel_plot': 'NO2 (ppbv)',\n",
       "     'vmin_plot': 0.0,\n",
       "     'vmax_plot': 20.0,\n",
       "     'vdiff_plot': 15.0,\n",
       "     'nlevels_plot': 21}}}},\n",
       " 'plots': {'plot_grp1': {'type': 'timeseries',\n",
       "   'fig_kwargs': {'figsize': [12, 6]},\n",
       "   'default_plot_kwargs': {'linewidth': 2.0, 'markersize': 10.0},\n",
       "   'text_kwargs': {'fontsize': 18.0},\n",
       "   'domain_type': ['all'],\n",
       "   'domain_name': ['CONUS'],\n",
       "   'data': ['airnow_wrfchem_v4.2'],\n",
       "   'data_proc': {'rem_obs_nan': True,\n",
       "    'ts_select_time': 'time_local',\n",
       "    'ts_avg_window': 'H',\n",
       "    'set_axis': False}},\n",
       "  'plot_grp2': {'type': 'taylor',\n",
       "   'fig_kwargs': {'figsize': [8, 8]},\n",
       "   'default_plot_kwargs': {'linewidth': 2.0, 'markersize': 10.0},\n",
       "   'text_kwargs': {'fontsize': 16.0},\n",
       "   'domain_type': ['all'],\n",
       "   'domain_name': ['CONUS'],\n",
       "   'data': ['airnow_wrfchem_v4.2'],\n",
       "   'data_proc': {'rem_obs_nan': True, 'set_axis': True}},\n",
       "  'plot_grp3': {'type': 'spatial_bias',\n",
       "   'fig_kwargs': {'states': True, 'figsize': [10, 5]},\n",
       "   'text_kwargs': {'fontsize': 16.0},\n",
       "   'domain_type': ['all'],\n",
       "   'domain_name': ['CONUS'],\n",
       "   'data': ['airnow_wrfchem_v4.2'],\n",
       "   'data_proc': {'rem_obs_nan': True, 'set_axis': True}},\n",
       "  'plot_grp4': {'type': 'spatial_overlay',\n",
       "   'fig_kwargs': {'states': True, 'figsize': [10, 5]},\n",
       "   'text_kwargs': {'fontsize': 16.0},\n",
       "   'domain_type': ['all'],\n",
       "   'domain_name': ['CONUS'],\n",
       "   'data': ['airnow_wrfchem_v4.2'],\n",
       "   'data_proc': {'rem_obs_nan': True, 'set_axis': True}},\n",
       "  'plot_grp5': {'type': 'boxplot',\n",
       "   'fig_kwargs': {'figsize': [8, 6]},\n",
       "   'text_kwargs': {'fontsize': 20.0},\n",
       "   'domain_type': ['all'],\n",
       "   'domain_name': ['CONUS'],\n",
       "   'data': ['airnow_wrfchem_v4.2'],\n",
       "   'data_proc': {'rem_obs_nan': True, 'set_axis': False}}},\n",
       " 'stats': {'stat_list': ['MB', 'MdnB', 'NMB', 'NMdnB', 'R2', 'RMSE'],\n",
       "  'round_output': 2,\n",
       "  'output_table': False,\n",
       "  'output_table_kwargs': {'figsize': [7, 3],\n",
       "   'fontsize': 12.0,\n",
       "   'xscale': 1.4,\n",
       "   'yscale': 1.4,\n",
       "   'edges': 'horizontal'},\n",
       "  'domain_type': ['all'],\n",
       "  'domain_name': ['CONUS'],\n",
       "  'data': ['airnow_wrfchem_v4.2']}}"
      ]
     },
     "execution_count": 3,
     "metadata": {},
     "output_type": "execute_result"
    }
   ],
   "source": [
    "an.control = '../yaml/control_wrfchem.yaml'\n",
    "an.read_control() # control='control.yaml')\n",
    "an.control_dict"
   ]
  },
  {
   "cell_type": "markdown",
   "metadata": {},
   "source": [
    "### Loading the model data \n",
    "\n",
    "driver will automatically loop through the \"models\" found in the model section of the yaml file and create an instance of the driver.model class for each that includes the label, mapping information, and xarray object as well as the filenames.  Note it can open multiple files easily by including hot keys "
   ]
  },
  {
   "cell_type": "code",
   "execution_count": null,
   "metadata": {
    "scrolled": false
   },
   "outputs": [
    {
     "name": "stdout",
     "output_type": "stream",
     "text": [
      "wrfchem_v4.2\n",
      "{'files': '/scratch2/BMC/rcm1/rhs/wrfchem/runs_firex/run_CONUS_fv19_BEIS_1.0xISO_RACM_v4.2.2_racm_vcp_noI/Output/0802/*', 'mod_type': 'wrfchem', 'mod_kwargs': {'mech': 'racm_esrl_vcp'}, 'radius_of_influence': 12000, 'mapping': {'airnow': {'co': 'CO', 'no2': 'NO2', 'no': 'NO', 'o3': 'OZONE'}}, 'projection': 'None', 'plot_kwargs': {'color': 'dodgerblue', 'marker': '^', 'linestyle': ':'}}\n",
      "/scratch2/BMC/rcm1/rhs/wrfchem/runs_firex/run_CONUS_fv19_BEIS_1.0xISO_RACM_v4.2.2_racm_vcp_noI/Output/0802/*\n"
     ]
    }
   ],
   "source": [
    "an.open_models()"
   ]
  },
  {
   "cell_type": "code",
   "execution_count": null,
   "metadata": {
    "scrolled": true
   },
   "outputs": [],
   "source": [
    "an.models"
   ]
  },
  {
   "cell_type": "code",
   "execution_count": null,
   "metadata": {
    "scrolled": true
   },
   "outputs": [],
   "source": [
    "an.models['wrfchem_v4.0'].obj"
   ]
  },
  {
   "cell_type": "code",
   "execution_count": null,
   "metadata": {
    "scrolled": false
   },
   "outputs": [],
   "source": [
    "#All the info in the model class can be called here.\n",
    "print(an.models['wrfchem_v4.0'].label)\n",
    "print(an.models['wrfchem_v4.0'].mapping)"
   ]
  },
  {
   "cell_type": "code",
   "execution_count": null,
   "metadata": {
    "scrolled": true
   },
   "outputs": [],
   "source": [
    "#All the info in the analysis class can also be called.\n",
    "print(an.start_time)\n",
    "print(an.end_time)"
   ]
  },
  {
   "cell_type": "markdown",
   "metadata": {},
   "source": [
    "### Open Obs\n",
    "\n",
    "Now for monet-analysis we will open preprocessed data in either netcdf icartt or some other format.  We will not be retrieving data like monetio does for some observations (ie aeronet, airnow, etc....).  Instead we will provide utitilies to do this so that users can add more data easily.\n",
    "\n",
    "Like models we list all obs objects in the yaml file and it will loop through and create driver.observation instances that include the model type, file, objects (i.e. data object) and label  "
   ]
  },
  {
   "cell_type": "code",
   "execution_count": null,
   "metadata": {},
   "outputs": [],
   "source": [
    "an.open_obs()"
   ]
  },
  {
   "cell_type": "code",
   "execution_count": null,
   "metadata": {},
   "outputs": [],
   "source": [
    "#All the info in the observation class can also be called.\n",
    "an.obs['airnow'].obj"
   ]
  },
  {
   "cell_type": "code",
   "execution_count": null,
   "metadata": {
    "scrolled": true
   },
   "outputs": [],
   "source": [
    "#This just pairs the data\n",
    "an.pair_data()"
   ]
  },
  {
   "cell_type": "code",
   "execution_count": null,
   "metadata": {
    "scrolled": true
   },
   "outputs": [],
   "source": [
    "#And this generates all the plots.\n",
    "an.plotting()"
   ]
  },
  {
   "cell_type": "code",
   "execution_count": null,
   "metadata": {
    "scrolled": true
   },
   "outputs": [],
   "source": [
    "                                             "
   ]
  },
  {
   "cell_type": "code",
   "execution_count": null,
   "metadata": {
    "scrolled": false
   },
   "outputs": [],
   "source": []
  },
  {
   "cell_type": "code",
   "execution_count": null,
   "metadata": {
    "scrolled": true
   },
   "outputs": [],
   "source": []
  },
  {
   "cell_type": "code",
   "execution_count": null,
   "metadata": {
    "scrolled": true
   },
   "outputs": [],
   "source": []
  },
  {
   "cell_type": "code",
   "execution_count": null,
   "metadata": {
    "scrolled": true
   },
   "outputs": [],
   "source": [
    "\n"
   ]
  },
  {
   "cell_type": "code",
   "execution_count": null,
   "metadata": {
    "scrolled": false
   },
   "outputs": [],
   "source": []
  },
  {
   "cell_type": "code",
   "execution_count": null,
   "metadata": {
    "scrolled": true
   },
   "outputs": [],
   "source": []
  },
  {
   "cell_type": "code",
   "execution_count": null,
   "metadata": {},
   "outputs": [],
   "source": []
  },
  {
   "cell_type": "code",
   "execution_count": null,
   "metadata": {
    "scrolled": false
   },
   "outputs": [],
   "source": []
  },
  {
   "cell_type": "code",
   "execution_count": null,
   "metadata": {
    "scrolled": false
   },
   "outputs": [],
   "source": []
  },
  {
   "cell_type": "code",
   "execution_count": null,
   "metadata": {},
   "outputs": [],
   "source": []
  },
  {
   "cell_type": "code",
   "execution_count": null,
   "metadata": {},
   "outputs": [],
   "source": []
  },
  {
   "cell_type": "code",
   "execution_count": null,
   "metadata": {},
   "outputs": [],
   "source": []
  },
  {
   "cell_type": "code",
   "execution_count": null,
   "metadata": {},
   "outputs": [],
   "source": []
  },
  {
   "cell_type": "code",
   "execution_count": null,
   "metadata": {},
   "outputs": [],
   "source": []
  },
  {
   "cell_type": "code",
   "execution_count": null,
   "metadata": {
    "scrolled": true
   },
   "outputs": [],
   "source": []
  },
  {
   "cell_type": "code",
   "execution_count": null,
   "metadata": {
    "scrolled": true
   },
   "outputs": [],
   "source": []
  },
  {
   "cell_type": "code",
   "execution_count": null,
   "metadata": {},
   "outputs": [],
   "source": []
  },
  {
   "cell_type": "code",
   "execution_count": null,
   "metadata": {
    "scrolled": true
   },
   "outputs": [],
   "source": []
  },
  {
   "cell_type": "code",
   "execution_count": null,
   "metadata": {},
   "outputs": [],
   "source": []
  },
  {
   "cell_type": "code",
   "execution_count": null,
   "metadata": {},
   "outputs": [],
   "source": []
  },
  {
   "cell_type": "code",
   "execution_count": null,
   "metadata": {},
   "outputs": [],
   "source": []
  },
  {
   "cell_type": "code",
   "execution_count": null,
   "metadata": {},
   "outputs": [],
   "source": []
  },
  {
   "cell_type": "code",
   "execution_count": null,
   "metadata": {},
   "outputs": [],
   "source": []
  },
  {
   "cell_type": "code",
   "execution_count": null,
   "metadata": {},
   "outputs": [],
   "source": []
  },
  {
   "cell_type": "code",
   "execution_count": null,
   "metadata": {},
   "outputs": [],
   "source": []
  },
  {
   "cell_type": "code",
   "execution_count": null,
   "metadata": {
    "scrolled": true
   },
   "outputs": [],
   "source": []
  },
  {
   "cell_type": "code",
   "execution_count": null,
   "metadata": {},
   "outputs": [],
   "source": []
  },
  {
   "cell_type": "code",
   "execution_count": null,
   "metadata": {},
   "outputs": [],
   "source": []
  },
  {
   "cell_type": "code",
   "execution_count": null,
   "metadata": {},
   "outputs": [],
   "source": []
  },
  {
   "cell_type": "code",
   "execution_count": null,
   "metadata": {
    "scrolled": true
   },
   "outputs": [],
   "source": []
  },
  {
   "cell_type": "code",
   "execution_count": null,
   "metadata": {},
   "outputs": [],
   "source": []
  },
  {
   "cell_type": "code",
   "execution_count": null,
   "metadata": {},
   "outputs": [],
   "source": [
    "\n"
   ]
  },
  {
   "cell_type": "code",
   "execution_count": null,
   "metadata": {},
   "outputs": [],
   "source": []
  },
  {
   "cell_type": "code",
   "execution_count": null,
   "metadata": {},
   "outputs": [],
   "source": []
  },
  {
   "cell_type": "code",
   "execution_count": null,
   "metadata": {},
   "outputs": [],
   "source": []
  },
  {
   "cell_type": "code",
   "execution_count": null,
   "metadata": {},
   "outputs": [],
   "source": []
  },
  {
   "cell_type": "code",
   "execution_count": null,
   "metadata": {},
   "outputs": [],
   "source": []
  },
  {
   "cell_type": "code",
   "execution_count": null,
   "metadata": {},
   "outputs": [],
   "source": []
  },
  {
   "cell_type": "code",
   "execution_count": null,
   "metadata": {
    "scrolled": false
   },
   "outputs": [],
   "source": []
  },
  {
   "cell_type": "code",
   "execution_count": null,
   "metadata": {
    "scrolled": true
   },
   "outputs": [],
   "source": []
  },
  {
   "cell_type": "code",
   "execution_count": null,
   "metadata": {},
   "outputs": [],
   "source": []
  },
  {
   "cell_type": "code",
   "execution_count": null,
   "metadata": {
    "scrolled": true
   },
   "outputs": [],
   "source": []
  },
  {
   "cell_type": "code",
   "execution_count": null,
   "metadata": {},
   "outputs": [],
   "source": []
  },
  {
   "cell_type": "code",
   "execution_count": null,
   "metadata": {},
   "outputs": [],
   "source": []
  },
  {
   "cell_type": "code",
   "execution_count": null,
   "metadata": {},
   "outputs": [],
   "source": []
  },
  {
   "cell_type": "code",
   "execution_count": null,
   "metadata": {},
   "outputs": [],
   "source": []
  },
  {
   "cell_type": "code",
   "execution_count": null,
   "metadata": {},
   "outputs": [],
   "source": []
  }
 ],
 "metadata": {
  "kernelspec": {
   "display_name": "Python 3",
   "language": "python",
   "name": "python3"
  },
  "language_info": {
   "codemirror_mode": {
    "name": "ipython",
    "version": 3
   },
   "file_extension": ".py",
   "mimetype": "text/x-python",
   "name": "python",
   "nbconvert_exporter": "python",
   "pygments_lexer": "ipython3",
   "version": "3.6.12"
  }
 },
 "nbformat": 4,
 "nbformat_minor": 5
}

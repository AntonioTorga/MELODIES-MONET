{
 "cells": [
  {
   "cell_type": "markdown",
   "id": "5d7309d7",
   "metadata": {},
   "source": [
    "# MELODIES-MONET example with TROPOMI NO2\n",
    "\n",
    "First lets just import the driver"
   ]
  },
  {
   "cell_type": "code",
   "execution_count": 1,
   "id": "67a852a4",
   "metadata": {
    "execution": {
     "iopub.execute_input": "2025-03-21T15:03:58.076171Z",
     "iopub.status.busy": "2025-03-21T15:03:58.075988Z",
     "iopub.status.idle": "2025-03-21T15:04:48.034601Z",
     "shell.execute_reply": "2025-03-21T15:04:48.032667Z"
    }
   },
   "outputs": [],
   "source": [
    "import sys\n",
    "sys.path.append('../../')\n",
    "from melodies_monet import driver"
   ]
  },
  {
   "cell_type": "markdown",
   "id": "3ce382fa",
   "metadata": {},
   "source": [
    "### Driver class\n",
    "\n",
    "First, we initialize the python driver analysis class. It consists of 3 main components/processes; 1. model instances, 2. observation instances, 3. a paired instance of both.  This helps us set up the comparisons."
   ]
  },
  {
   "cell_type": "code",
   "execution_count": 2,
   "id": "cc06d0f1",
   "metadata": {
    "execution": {
     "iopub.execute_input": "2025-03-21T15:04:48.038956Z",
     "iopub.status.busy": "2025-03-21T15:04:48.038698Z",
     "iopub.status.idle": "2025-03-21T15:04:48.041892Z",
     "shell.execute_reply": "2025-03-21T15:04:48.041411Z"
    }
   },
   "outputs": [],
   "source": [
    "an = driver.analysis()"
   ]
  },
  {
   "cell_type": "markdown",
   "id": "9e64adc7",
   "metadata": {},
   "source": [
    "### Control File\n",
    "\n",
    "Read in all the comparison definitions from the yaml control file.\n",
    "\n",
    "There are pairing options that should now be specified in the analysis section.\n"
   ]
  },
  {
   "cell_type": "code",
   "execution_count": 3,
   "id": "52285916",
   "metadata": {
    "execution": {
     "iopub.execute_input": "2025-03-21T15:04:48.043511Z",
     "iopub.status.busy": "2025-03-21T15:04:48.043351Z",
     "iopub.status.idle": "2025-03-21T15:04:48.093533Z",
     "shell.execute_reply": "2025-03-21T15:04:48.092697Z"
    },
    "tags": []
   },
   "outputs": [],
   "source": [
    "an.control = '../yaml/control_ufsaqm_tropomi.yaml'\n",
    "an.read_control()\n",
    "#an.control_dict\n",
    "#an.control_dict['obs']['mopitt']"
   ]
  },
  {
   "cell_type": "markdown",
   "id": "11454f7f",
   "metadata": {},
   "source": [
    "### Open Obs\n",
    "\n",
    "Load all the data files. Satellites data is usually hdf or netCDF, although sometimes are saved as ascii or other unusual formats. Note the data needs to be already accessible on the system you are working on. Future functionality will include OpenDap. \n"
   ]
  },
  {
   "cell_type": "code",
   "execution_count": 4,
   "id": "5bb5f935",
   "metadata": {
    "execution": {
     "iopub.execute_input": "2025-03-21T15:04:48.095258Z",
     "iopub.status.busy": "2025-03-21T15:04:48.095046Z",
     "iopub.status.idle": "2025-03-21T15:07:48.708823Z",
     "shell.execute_reply": "2025-03-21T15:07:48.708082Z"
    }
   },
   "outputs": [
    {
     "name": "stdout",
     "output_type": "stream",
     "text": [
      "Reading TROPOMI L2 NO2\n",
      "reading /scratch1/BMC/rcm2/mbruckner/tropomi/no2/S5P_OFFL_L2__NO2____20230627T014024_20230627T032154_29548_03_020500_20230628T172501.nc\n"
     ]
    },
    {
     "name": "stderr",
     "output_type": "stream",
     "text": [
      "/scratch1/BMC/rcm2/mbruckner/melodies_monet/MELODIES-MONET/melodies_monet/driver.py:298: FutureWarning: read_trpdataset is an alias for open_dataset and may be removed in the future\n",
      "  self.obj = mio.sat._tropomi_l2_no2_mm.read_trpdataset(\n"
     ]
    },
    {
     "name": "stderr",
     "output_type": "stream",
     "text": [
      "/scratch1/BMC/rcm2/mbruckner/melodies_monet/monetio/monetio/sat/_tropomi_l2_no2_mm.py:48: UserWarning: Converting non-nanosecond precision timedelta values to nanosecond precision. This behavior can eventually be relaxed in xarray, as it is an artifact from pandas which is now beginning to support non-nanosecond precision values. This warning is caused by passing non-nanosecond np.datetime64 or np.timedelta64 values to the DataArray or Variable constructor; it can be silenced by converting the values to nanosecond precision ahead of time.\n",
      "  dtime = xr.DataArray(dtime_var[:].squeeze(), dims=(\"y\",)).astype(\"timedelta64[ms]\")\n"
     ]
    },
    {
     "name": "stderr",
     "output_type": "stream",
     "text": [
      "/scratch1/BMC/rcm2/mbruckner/melodies_monet/monetio/monetio/sat/_tropomi_l2_no2_mm.py:60: UserWarning: Converting non-nanosecond precision datetime values to nanosecond precision. This behavior can eventually be relaxed in xarray, as it is an artifact from pandas which is now beginning to support non-nanosecond precision values. This warning is caused by passing non-nanosecond np.datetime64 or np.timedelta64 values to the DataArray or Variable constructor; it can be silenced by converting the values to nanosecond precision ahead of time.\n",
      "  ds[\"time\"] = ((), ref_time_val, {\"long_name\": \"reference time\"})\n",
      "/scratch1/BMC/rcm2/mbruckner/melodies_monet/monetio/monetio/sat/_tropomi_l2_no2_mm.py:60: UserWarning: Converting non-nanosecond precision datetime values to nanosecond precision. This behavior can eventually be relaxed in xarray, as it is an artifact from pandas which is now beginning to support non-nanosecond precision values. This warning is caused by passing non-nanosecond np.datetime64 or np.timedelta64 values to the DataArray or Variable constructor; it can be silenced by converting the values to nanosecond precision ahead of time.\n",
      "  ds[\"time\"] = ((), ref_time_val, {\"long_name\": \"reference time\"})\n"
     ]
    },
    {
     "name": "stdout",
     "output_type": "stream",
     "text": [
      "- qa_value\n"
     ]
    },
    {
     "name": "stdout",
     "output_type": "stream",
     "text": [
      "- nitrogendioxide_tropospheric_column\n",
      "- averaging_kernel\n"
     ]
    },
    {
     "name": "stdout",
     "output_type": "stream",
     "text": [
      "- air_mass_factor_total\n",
      "- air_mass_factor_troposphere\n",
      "- latitude\n",
      "- longitude\n",
      "- preslev\n"
     ]
    },
    {
     "name": "stdout",
     "output_type": "stream",
     "text": [
      "reading /scratch1/BMC/rcm2/mbruckner/tropomi/no2/S5P_OFFL_L2__NO2____20230627T032154_20230627T050324_29549_03_020500_20230628T192005.nc\n"
     ]
    },
    {
     "name": "stderr",
     "output_type": "stream",
     "text": [
      "/scratch1/BMC/rcm2/mbruckner/melodies_monet/monetio/monetio/sat/_tropomi_l2_no2_mm.py:48: UserWarning: Converting non-nanosecond precision timedelta values to nanosecond precision. This behavior can eventually be relaxed in xarray, as it is an artifact from pandas which is now beginning to support non-nanosecond precision values. This warning is caused by passing non-nanosecond np.datetime64 or np.timedelta64 values to the DataArray or Variable constructor; it can be silenced by converting the values to nanosecond precision ahead of time.\n",
      "  dtime = xr.DataArray(dtime_var[:].squeeze(), dims=(\"y\",)).astype(\"timedelta64[ms]\")\n"
     ]
    },
    {
     "name": "stderr",
     "output_type": "stream",
     "text": [
      "/scratch1/BMC/rcm2/mbruckner/melodies_monet/monetio/monetio/sat/_tropomi_l2_no2_mm.py:60: UserWarning: Converting non-nanosecond precision datetime values to nanosecond precision. This behavior can eventually be relaxed in xarray, as it is an artifact from pandas which is now beginning to support non-nanosecond precision values. This warning is caused by passing non-nanosecond np.datetime64 or np.timedelta64 values to the DataArray or Variable constructor; it can be silenced by converting the values to nanosecond precision ahead of time.\n",
      "  ds[\"time\"] = ((), ref_time_val, {\"long_name\": \"reference time\"})\n",
      "/scratch1/BMC/rcm2/mbruckner/melodies_monet/monetio/monetio/sat/_tropomi_l2_no2_mm.py:60: UserWarning: Converting non-nanosecond precision datetime values to nanosecond precision. This behavior can eventually be relaxed in xarray, as it is an artifact from pandas which is now beginning to support non-nanosecond precision values. This warning is caused by passing non-nanosecond np.datetime64 or np.timedelta64 values to the DataArray or Variable constructor; it can be silenced by converting the values to nanosecond precision ahead of time.\n",
      "  ds[\"time\"] = ((), ref_time_val, {\"long_name\": \"reference time\"})\n"
     ]
    },
    {
     "name": "stdout",
     "output_type": "stream",
     "text": [
      "- qa_value\n",
      "- nitrogendioxide_tropospheric_column\n",
      "- averaging_kernel\n"
     ]
    },
    {
     "name": "stdout",
     "output_type": "stream",
     "text": [
      "- air_mass_factor_total\n",
      "- air_mass_factor_troposphere\n",
      "- latitude\n",
      "- longitude\n",
      "- preslev\n"
     ]
    },
    {
     "name": "stdout",
     "output_type": "stream",
     "text": [
      "reading /scratch1/BMC/rcm2/mbruckner/tropomi/no2/S5P_OFFL_L2__NO2____20230627T050324_20230627T064453_29550_03_020500_20230628T211310.nc\n"
     ]
    },
    {
     "name": "stderr",
     "output_type": "stream",
     "text": [
      "/scratch1/BMC/rcm2/mbruckner/melodies_monet/monetio/monetio/sat/_tropomi_l2_no2_mm.py:48: UserWarning: Converting non-nanosecond precision timedelta values to nanosecond precision. This behavior can eventually be relaxed in xarray, as it is an artifact from pandas which is now beginning to support non-nanosecond precision values. This warning is caused by passing non-nanosecond np.datetime64 or np.timedelta64 values to the DataArray or Variable constructor; it can be silenced by converting the values to nanosecond precision ahead of time.\n",
      "  dtime = xr.DataArray(dtime_var[:].squeeze(), dims=(\"y\",)).astype(\"timedelta64[ms]\")\n"
     ]
    },
    {
     "name": "stderr",
     "output_type": "stream",
     "text": [
      "/scratch1/BMC/rcm2/mbruckner/melodies_monet/monetio/monetio/sat/_tropomi_l2_no2_mm.py:60: UserWarning: Converting non-nanosecond precision datetime values to nanosecond precision. This behavior can eventually be relaxed in xarray, as it is an artifact from pandas which is now beginning to support non-nanosecond precision values. This warning is caused by passing non-nanosecond np.datetime64 or np.timedelta64 values to the DataArray or Variable constructor; it can be silenced by converting the values to nanosecond precision ahead of time.\n",
      "  ds[\"time\"] = ((), ref_time_val, {\"long_name\": \"reference time\"})\n",
      "/scratch1/BMC/rcm2/mbruckner/melodies_monet/monetio/monetio/sat/_tropomi_l2_no2_mm.py:60: UserWarning: Converting non-nanosecond precision datetime values to nanosecond precision. This behavior can eventually be relaxed in xarray, as it is an artifact from pandas which is now beginning to support non-nanosecond precision values. This warning is caused by passing non-nanosecond np.datetime64 or np.timedelta64 values to the DataArray or Variable constructor; it can be silenced by converting the values to nanosecond precision ahead of time.\n",
      "  ds[\"time\"] = ((), ref_time_val, {\"long_name\": \"reference time\"})\n"
     ]
    },
    {
     "name": "stdout",
     "output_type": "stream",
     "text": [
      "- qa_value\n",
      "- nitrogendioxide_tropospheric_column\n",
      "- averaging_kernel\n"
     ]
    },
    {
     "name": "stdout",
     "output_type": "stream",
     "text": [
      "- air_mass_factor_total\n",
      "- air_mass_factor_troposphere\n"
     ]
    },
    {
     "name": "stdout",
     "output_type": "stream",
     "text": [
      "- latitude\n",
      "- longitude\n",
      "- preslev\n"
     ]
    },
    {
     "name": "stdout",
     "output_type": "stream",
     "text": [
      "reading /scratch1/BMC/rcm2/mbruckner/tropomi/no2/S5P_OFFL_L2__NO2____20230627T064453_20230627T082623_29551_03_020500_20230628T224738.nc\n"
     ]
    },
    {
     "name": "stderr",
     "output_type": "stream",
     "text": [
      "/scratch1/BMC/rcm2/mbruckner/melodies_monet/monetio/monetio/sat/_tropomi_l2_no2_mm.py:48: UserWarning: Converting non-nanosecond precision timedelta values to nanosecond precision. This behavior can eventually be relaxed in xarray, as it is an artifact from pandas which is now beginning to support non-nanosecond precision values. This warning is caused by passing non-nanosecond np.datetime64 or np.timedelta64 values to the DataArray or Variable constructor; it can be silenced by converting the values to nanosecond precision ahead of time.\n",
      "  dtime = xr.DataArray(dtime_var[:].squeeze(), dims=(\"y\",)).astype(\"timedelta64[ms]\")\n"
     ]
    },
    {
     "name": "stderr",
     "output_type": "stream",
     "text": [
      "/scratch1/BMC/rcm2/mbruckner/melodies_monet/monetio/monetio/sat/_tropomi_l2_no2_mm.py:60: UserWarning: Converting non-nanosecond precision datetime values to nanosecond precision. This behavior can eventually be relaxed in xarray, as it is an artifact from pandas which is now beginning to support non-nanosecond precision values. This warning is caused by passing non-nanosecond np.datetime64 or np.timedelta64 values to the DataArray or Variable constructor; it can be silenced by converting the values to nanosecond precision ahead of time.\n",
      "  ds[\"time\"] = ((), ref_time_val, {\"long_name\": \"reference time\"})\n",
      "/scratch1/BMC/rcm2/mbruckner/melodies_monet/monetio/monetio/sat/_tropomi_l2_no2_mm.py:60: UserWarning: Converting non-nanosecond precision datetime values to nanosecond precision. This behavior can eventually be relaxed in xarray, as it is an artifact from pandas which is now beginning to support non-nanosecond precision values. This warning is caused by passing non-nanosecond np.datetime64 or np.timedelta64 values to the DataArray or Variable constructor; it can be silenced by converting the values to nanosecond precision ahead of time.\n",
      "  ds[\"time\"] = ((), ref_time_val, {\"long_name\": \"reference time\"})\n"
     ]
    },
    {
     "name": "stdout",
     "output_type": "stream",
     "text": [
      "- qa_value\n",
      "- nitrogendioxide_tropospheric_column\n",
      "- averaging_kernel\n"
     ]
    },
    {
     "name": "stdout",
     "output_type": "stream",
     "text": [
      "- air_mass_factor_total\n",
      "- air_mass_factor_troposphere\n"
     ]
    },
    {
     "name": "stdout",
     "output_type": "stream",
     "text": [
      "- latitude\n",
      "- longitude\n",
      "- preslev\n"
     ]
    },
    {
     "name": "stdout",
     "output_type": "stream",
     "text": [
      "reading /scratch1/BMC/rcm2/mbruckner/tropomi/no2/S5P_OFFL_L2__NO2____20230627T082623_20230627T100753_29552_03_020500_20230629T002254.nc\n"
     ]
    },
    {
     "name": "stderr",
     "output_type": "stream",
     "text": [
      "/scratch1/BMC/rcm2/mbruckner/melodies_monet/monetio/monetio/sat/_tropomi_l2_no2_mm.py:48: UserWarning: Converting non-nanosecond precision timedelta values to nanosecond precision. This behavior can eventually be relaxed in xarray, as it is an artifact from pandas which is now beginning to support non-nanosecond precision values. This warning is caused by passing non-nanosecond np.datetime64 or np.timedelta64 values to the DataArray or Variable constructor; it can be silenced by converting the values to nanosecond precision ahead of time.\n",
      "  dtime = xr.DataArray(dtime_var[:].squeeze(), dims=(\"y\",)).astype(\"timedelta64[ms]\")\n"
     ]
    },
    {
     "name": "stderr",
     "output_type": "stream",
     "text": [
      "/scratch1/BMC/rcm2/mbruckner/melodies_monet/monetio/monetio/sat/_tropomi_l2_no2_mm.py:60: UserWarning: Converting non-nanosecond precision datetime values to nanosecond precision. This behavior can eventually be relaxed in xarray, as it is an artifact from pandas which is now beginning to support non-nanosecond precision values. This warning is caused by passing non-nanosecond np.datetime64 or np.timedelta64 values to the DataArray or Variable constructor; it can be silenced by converting the values to nanosecond precision ahead of time.\n",
      "  ds[\"time\"] = ((), ref_time_val, {\"long_name\": \"reference time\"})\n",
      "/scratch1/BMC/rcm2/mbruckner/melodies_monet/monetio/monetio/sat/_tropomi_l2_no2_mm.py:60: UserWarning: Converting non-nanosecond precision datetime values to nanosecond precision. This behavior can eventually be relaxed in xarray, as it is an artifact from pandas which is now beginning to support non-nanosecond precision values. This warning is caused by passing non-nanosecond np.datetime64 or np.timedelta64 values to the DataArray or Variable constructor; it can be silenced by converting the values to nanosecond precision ahead of time.\n",
      "  ds[\"time\"] = ((), ref_time_val, {\"long_name\": \"reference time\"})\n"
     ]
    },
    {
     "name": "stdout",
     "output_type": "stream",
     "text": [
      "- qa_value\n",
      "- nitrogendioxide_tropospheric_column\n",
      "- averaging_kernel\n"
     ]
    },
    {
     "name": "stdout",
     "output_type": "stream",
     "text": [
      "- air_mass_factor_total\n",
      "- air_mass_factor_troposphere\n"
     ]
    },
    {
     "name": "stdout",
     "output_type": "stream",
     "text": [
      "- latitude\n",
      "- longitude\n",
      "- preslev\n"
     ]
    },
    {
     "name": "stdout",
     "output_type": "stream",
     "text": [
      "reading /scratch1/BMC/rcm2/mbruckner/tropomi/no2/S5P_OFFL_L2__NO2____20230627T100753_20230627T114923_29553_03_020500_20230629T022607.nc\n"
     ]
    },
    {
     "name": "stderr",
     "output_type": "stream",
     "text": [
      "/scratch1/BMC/rcm2/mbruckner/melodies_monet/monetio/monetio/sat/_tropomi_l2_no2_mm.py:48: UserWarning: Converting non-nanosecond precision timedelta values to nanosecond precision. This behavior can eventually be relaxed in xarray, as it is an artifact from pandas which is now beginning to support non-nanosecond precision values. This warning is caused by passing non-nanosecond np.datetime64 or np.timedelta64 values to the DataArray or Variable constructor; it can be silenced by converting the values to nanosecond precision ahead of time.\n",
      "  dtime = xr.DataArray(dtime_var[:].squeeze(), dims=(\"y\",)).astype(\"timedelta64[ms]\")\n"
     ]
    },
    {
     "name": "stderr",
     "output_type": "stream",
     "text": [
      "/scratch1/BMC/rcm2/mbruckner/melodies_monet/monetio/monetio/sat/_tropomi_l2_no2_mm.py:60: UserWarning: Converting non-nanosecond precision datetime values to nanosecond precision. This behavior can eventually be relaxed in xarray, as it is an artifact from pandas which is now beginning to support non-nanosecond precision values. This warning is caused by passing non-nanosecond np.datetime64 or np.timedelta64 values to the DataArray or Variable constructor; it can be silenced by converting the values to nanosecond precision ahead of time.\n",
      "  ds[\"time\"] = ((), ref_time_val, {\"long_name\": \"reference time\"})\n",
      "/scratch1/BMC/rcm2/mbruckner/melodies_monet/monetio/monetio/sat/_tropomi_l2_no2_mm.py:60: UserWarning: Converting non-nanosecond precision datetime values to nanosecond precision. This behavior can eventually be relaxed in xarray, as it is an artifact from pandas which is now beginning to support non-nanosecond precision values. This warning is caused by passing non-nanosecond np.datetime64 or np.timedelta64 values to the DataArray or Variable constructor; it can be silenced by converting the values to nanosecond precision ahead of time.\n",
      "  ds[\"time\"] = ((), ref_time_val, {\"long_name\": \"reference time\"})\n"
     ]
    },
    {
     "name": "stdout",
     "output_type": "stream",
     "text": [
      "- qa_value\n",
      "- nitrogendioxide_tropospheric_column\n",
      "- averaging_kernel\n"
     ]
    },
    {
     "name": "stdout",
     "output_type": "stream",
     "text": [
      "- air_mass_factor_total\n",
      "- air_mass_factor_troposphere\n"
     ]
    },
    {
     "name": "stdout",
     "output_type": "stream",
     "text": [
      "- latitude\n",
      "- longitude\n",
      "- preslev\n"
     ]
    },
    {
     "name": "stdout",
     "output_type": "stream",
     "text": [
      "reading /scratch1/BMC/rcm2/mbruckner/tropomi/no2/S5P_OFFL_L2__NO2____20230627T114923_20230627T133052_29554_03_020500_20230629T040256.nc\n"
     ]
    },
    {
     "name": "stderr",
     "output_type": "stream",
     "text": [
      "/scratch1/BMC/rcm2/mbruckner/melodies_monet/monetio/monetio/sat/_tropomi_l2_no2_mm.py:48: UserWarning: Converting non-nanosecond precision timedelta values to nanosecond precision. This behavior can eventually be relaxed in xarray, as it is an artifact from pandas which is now beginning to support non-nanosecond precision values. This warning is caused by passing non-nanosecond np.datetime64 or np.timedelta64 values to the DataArray or Variable constructor; it can be silenced by converting the values to nanosecond precision ahead of time.\n",
      "  dtime = xr.DataArray(dtime_var[:].squeeze(), dims=(\"y\",)).astype(\"timedelta64[ms]\")\n"
     ]
    },
    {
     "name": "stderr",
     "output_type": "stream",
     "text": [
      "/scratch1/BMC/rcm2/mbruckner/melodies_monet/monetio/monetio/sat/_tropomi_l2_no2_mm.py:60: UserWarning: Converting non-nanosecond precision datetime values to nanosecond precision. This behavior can eventually be relaxed in xarray, as it is an artifact from pandas which is now beginning to support non-nanosecond precision values. This warning is caused by passing non-nanosecond np.datetime64 or np.timedelta64 values to the DataArray or Variable constructor; it can be silenced by converting the values to nanosecond precision ahead of time.\n",
      "  ds[\"time\"] = ((), ref_time_val, {\"long_name\": \"reference time\"})\n",
      "/scratch1/BMC/rcm2/mbruckner/melodies_monet/monetio/monetio/sat/_tropomi_l2_no2_mm.py:60: UserWarning: Converting non-nanosecond precision datetime values to nanosecond precision. This behavior can eventually be relaxed in xarray, as it is an artifact from pandas which is now beginning to support non-nanosecond precision values. This warning is caused by passing non-nanosecond np.datetime64 or np.timedelta64 values to the DataArray or Variable constructor; it can be silenced by converting the values to nanosecond precision ahead of time.\n",
      "  ds[\"time\"] = ((), ref_time_val, {\"long_name\": \"reference time\"})\n"
     ]
    },
    {
     "name": "stdout",
     "output_type": "stream",
     "text": [
      "- qa_value\n",
      "- nitrogendioxide_tropospheric_column\n",
      "- averaging_kernel\n"
     ]
    },
    {
     "name": "stdout",
     "output_type": "stream",
     "text": [
      "- air_mass_factor_total\n",
      "- air_mass_factor_troposphere\n"
     ]
    },
    {
     "name": "stdout",
     "output_type": "stream",
     "text": [
      "- latitude\n",
      "- longitude\n",
      "- preslev\n"
     ]
    },
    {
     "name": "stdout",
     "output_type": "stream",
     "text": [
      "reading /scratch1/BMC/rcm2/mbruckner/tropomi/no2/S5P_OFFL_L2__NO2____20230627T133052_20230627T151222_29555_03_020500_20230629T053015.nc\n"
     ]
    },
    {
     "name": "stderr",
     "output_type": "stream",
     "text": [
      "/scratch1/BMC/rcm2/mbruckner/melodies_monet/monetio/monetio/sat/_tropomi_l2_no2_mm.py:48: UserWarning: Converting non-nanosecond precision timedelta values to nanosecond precision. This behavior can eventually be relaxed in xarray, as it is an artifact from pandas which is now beginning to support non-nanosecond precision values. This warning is caused by passing non-nanosecond np.datetime64 or np.timedelta64 values to the DataArray or Variable constructor; it can be silenced by converting the values to nanosecond precision ahead of time.\n",
      "  dtime = xr.DataArray(dtime_var[:].squeeze(), dims=(\"y\",)).astype(\"timedelta64[ms]\")\n"
     ]
    },
    {
     "name": "stderr",
     "output_type": "stream",
     "text": [
      "/scratch1/BMC/rcm2/mbruckner/melodies_monet/monetio/monetio/sat/_tropomi_l2_no2_mm.py:60: UserWarning: Converting non-nanosecond precision datetime values to nanosecond precision. This behavior can eventually be relaxed in xarray, as it is an artifact from pandas which is now beginning to support non-nanosecond precision values. This warning is caused by passing non-nanosecond np.datetime64 or np.timedelta64 values to the DataArray or Variable constructor; it can be silenced by converting the values to nanosecond precision ahead of time.\n",
      "  ds[\"time\"] = ((), ref_time_val, {\"long_name\": \"reference time\"})\n",
      "/scratch1/BMC/rcm2/mbruckner/melodies_monet/monetio/monetio/sat/_tropomi_l2_no2_mm.py:60: UserWarning: Converting non-nanosecond precision datetime values to nanosecond precision. This behavior can eventually be relaxed in xarray, as it is an artifact from pandas which is now beginning to support non-nanosecond precision values. This warning is caused by passing non-nanosecond np.datetime64 or np.timedelta64 values to the DataArray or Variable constructor; it can be silenced by converting the values to nanosecond precision ahead of time.\n",
      "  ds[\"time\"] = ((), ref_time_val, {\"long_name\": \"reference time\"})\n"
     ]
    },
    {
     "name": "stdout",
     "output_type": "stream",
     "text": [
      "- qa_value\n",
      "- nitrogendioxide_tropospheric_column\n",
      "- averaging_kernel\n"
     ]
    },
    {
     "name": "stdout",
     "output_type": "stream",
     "text": [
      "- air_mass_factor_total\n",
      "- air_mass_factor_troposphere\n",
      "- latitude\n",
      "- longitude\n",
      "- preslev\n"
     ]
    },
    {
     "name": "stdout",
     "output_type": "stream",
     "text": [
      "reading /scratch1/BMC/rcm2/mbruckner/tropomi/no2/S5P_OFFL_L2__NO2____20230627T151222_20230627T165352_29556_03_020500_20230629T070113.nc\n"
     ]
    },
    {
     "name": "stderr",
     "output_type": "stream",
     "text": [
      "/scratch1/BMC/rcm2/mbruckner/melodies_monet/monetio/monetio/sat/_tropomi_l2_no2_mm.py:48: UserWarning: Converting non-nanosecond precision timedelta values to nanosecond precision. This behavior can eventually be relaxed in xarray, as it is an artifact from pandas which is now beginning to support non-nanosecond precision values. This warning is caused by passing non-nanosecond np.datetime64 or np.timedelta64 values to the DataArray or Variable constructor; it can be silenced by converting the values to nanosecond precision ahead of time.\n",
      "  dtime = xr.DataArray(dtime_var[:].squeeze(), dims=(\"y\",)).astype(\"timedelta64[ms]\")\n"
     ]
    },
    {
     "name": "stderr",
     "output_type": "stream",
     "text": [
      "/scratch1/BMC/rcm2/mbruckner/melodies_monet/monetio/monetio/sat/_tropomi_l2_no2_mm.py:60: UserWarning: Converting non-nanosecond precision datetime values to nanosecond precision. This behavior can eventually be relaxed in xarray, as it is an artifact from pandas which is now beginning to support non-nanosecond precision values. This warning is caused by passing non-nanosecond np.datetime64 or np.timedelta64 values to the DataArray or Variable constructor; it can be silenced by converting the values to nanosecond precision ahead of time.\n",
      "  ds[\"time\"] = ((), ref_time_val, {\"long_name\": \"reference time\"})\n",
      "/scratch1/BMC/rcm2/mbruckner/melodies_monet/monetio/monetio/sat/_tropomi_l2_no2_mm.py:60: UserWarning: Converting non-nanosecond precision datetime values to nanosecond precision. This behavior can eventually be relaxed in xarray, as it is an artifact from pandas which is now beginning to support non-nanosecond precision values. This warning is caused by passing non-nanosecond np.datetime64 or np.timedelta64 values to the DataArray or Variable constructor; it can be silenced by converting the values to nanosecond precision ahead of time.\n",
      "  ds[\"time\"] = ((), ref_time_val, {\"long_name\": \"reference time\"})\n"
     ]
    },
    {
     "name": "stdout",
     "output_type": "stream",
     "text": [
      "- qa_value\n",
      "- nitrogendioxide_tropospheric_column\n"
     ]
    },
    {
     "name": "stdout",
     "output_type": "stream",
     "text": [
      "- averaging_kernel\n"
     ]
    },
    {
     "name": "stdout",
     "output_type": "stream",
     "text": [
      "- air_mass_factor_total\n",
      "- air_mass_factor_troposphere\n"
     ]
    },
    {
     "name": "stdout",
     "output_type": "stream",
     "text": [
      "- latitude\n",
      "- longitude\n",
      "- preslev\n"
     ]
    },
    {
     "name": "stdout",
     "output_type": "stream",
     "text": [
      "reading /scratch1/BMC/rcm2/mbruckner/tropomi/no2/S5P_OFFL_L2__NO2____20230627T165352_20230627T183521_29557_03_020500_20230629T090102.nc\n"
     ]
    },
    {
     "name": "stderr",
     "output_type": "stream",
     "text": [
      "/scratch1/BMC/rcm2/mbruckner/melodies_monet/monetio/monetio/sat/_tropomi_l2_no2_mm.py:48: UserWarning: Converting non-nanosecond precision timedelta values to nanosecond precision. This behavior can eventually be relaxed in xarray, as it is an artifact from pandas which is now beginning to support non-nanosecond precision values. This warning is caused by passing non-nanosecond np.datetime64 or np.timedelta64 values to the DataArray or Variable constructor; it can be silenced by converting the values to nanosecond precision ahead of time.\n",
      "  dtime = xr.DataArray(dtime_var[:].squeeze(), dims=(\"y\",)).astype(\"timedelta64[ms]\")\n",
      "/scratch1/BMC/rcm2/mbruckner/melodies_monet/monetio/monetio/sat/_tropomi_l2_no2_mm.py:60: UserWarning: Converting non-nanosecond precision datetime values to nanosecond precision. This behavior can eventually be relaxed in xarray, as it is an artifact from pandas which is now beginning to support non-nanosecond precision values. This warning is caused by passing non-nanosecond np.datetime64 or np.timedelta64 values to the DataArray or Variable constructor; it can be silenced by converting the values to nanosecond precision ahead of time.\n",
      "  ds[\"time\"] = ((), ref_time_val, {\"long_name\": \"reference time\"})\n",
      "/scratch1/BMC/rcm2/mbruckner/melodies_monet/monetio/monetio/sat/_tropomi_l2_no2_mm.py:60: UserWarning: Converting non-nanosecond precision datetime values to nanosecond precision. This behavior can eventually be relaxed in xarray, as it is an artifact from pandas which is now beginning to support non-nanosecond precision values. This warning is caused by passing non-nanosecond np.datetime64 or np.timedelta64 values to the DataArray or Variable constructor; it can be silenced by converting the values to nanosecond precision ahead of time.\n",
      "  ds[\"time\"] = ((), ref_time_val, {\"long_name\": \"reference time\"})\n"
     ]
    },
    {
     "name": "stdout",
     "output_type": "stream",
     "text": [
      "- qa_value\n",
      "- nitrogendioxide_tropospheric_column\n",
      "- averaging_kernel\n"
     ]
    },
    {
     "name": "stdout",
     "output_type": "stream",
     "text": [
      "- air_mass_factor_total\n",
      "- air_mass_factor_troposphere\n",
      "- latitude\n",
      "- longitude\n",
      "- preslev\n"
     ]
    },
    {
     "name": "stdout",
     "output_type": "stream",
     "text": [
      "reading /scratch1/BMC/rcm2/mbruckner/tropomi/no2/S5P_OFFL_L2__NO2____20230627T183521_20230627T201651_29558_03_020500_20230629T104156.nc\n"
     ]
    },
    {
     "name": "stderr",
     "output_type": "stream",
     "text": [
      "/scratch1/BMC/rcm2/mbruckner/melodies_monet/monetio/monetio/sat/_tropomi_l2_no2_mm.py:48: UserWarning: Converting non-nanosecond precision timedelta values to nanosecond precision. This behavior can eventually be relaxed in xarray, as it is an artifact from pandas which is now beginning to support non-nanosecond precision values. This warning is caused by passing non-nanosecond np.datetime64 or np.timedelta64 values to the DataArray or Variable constructor; it can be silenced by converting the values to nanosecond precision ahead of time.\n",
      "  dtime = xr.DataArray(dtime_var[:].squeeze(), dims=(\"y\",)).astype(\"timedelta64[ms]\")\n"
     ]
    },
    {
     "name": "stderr",
     "output_type": "stream",
     "text": [
      "/scratch1/BMC/rcm2/mbruckner/melodies_monet/monetio/monetio/sat/_tropomi_l2_no2_mm.py:60: UserWarning: Converting non-nanosecond precision datetime values to nanosecond precision. This behavior can eventually be relaxed in xarray, as it is an artifact from pandas which is now beginning to support non-nanosecond precision values. This warning is caused by passing non-nanosecond np.datetime64 or np.timedelta64 values to the DataArray or Variable constructor; it can be silenced by converting the values to nanosecond precision ahead of time.\n",
      "  ds[\"time\"] = ((), ref_time_val, {\"long_name\": \"reference time\"})\n",
      "/scratch1/BMC/rcm2/mbruckner/melodies_monet/monetio/monetio/sat/_tropomi_l2_no2_mm.py:60: UserWarning: Converting non-nanosecond precision datetime values to nanosecond precision. This behavior can eventually be relaxed in xarray, as it is an artifact from pandas which is now beginning to support non-nanosecond precision values. This warning is caused by passing non-nanosecond np.datetime64 or np.timedelta64 values to the DataArray or Variable constructor; it can be silenced by converting the values to nanosecond precision ahead of time.\n",
      "  ds[\"time\"] = ((), ref_time_val, {\"long_name\": \"reference time\"})\n"
     ]
    },
    {
     "name": "stdout",
     "output_type": "stream",
     "text": [
      "- qa_value\n",
      "- nitrogendioxide_tropospheric_column\n",
      "- averaging_kernel\n"
     ]
    },
    {
     "name": "stdout",
     "output_type": "stream",
     "text": [
      "- air_mass_factor_total\n",
      "- air_mass_factor_troposphere\n"
     ]
    },
    {
     "name": "stdout",
     "output_type": "stream",
     "text": [
      "- latitude\n",
      "- longitude\n",
      "- preslev\n"
     ]
    },
    {
     "name": "stdout",
     "output_type": "stream",
     "text": [
      "reading /scratch1/BMC/rcm2/mbruckner/tropomi/no2/S5P_OFFL_L2__NO2____20230627T201651_20230627T215821_29559_03_020500_20230629T122904.nc\n"
     ]
    },
    {
     "name": "stderr",
     "output_type": "stream",
     "text": [
      "/scratch1/BMC/rcm2/mbruckner/melodies_monet/monetio/monetio/sat/_tropomi_l2_no2_mm.py:48: UserWarning: Converting non-nanosecond precision timedelta values to nanosecond precision. This behavior can eventually be relaxed in xarray, as it is an artifact from pandas which is now beginning to support non-nanosecond precision values. This warning is caused by passing non-nanosecond np.datetime64 or np.timedelta64 values to the DataArray or Variable constructor; it can be silenced by converting the values to nanosecond precision ahead of time.\n",
      "  dtime = xr.DataArray(dtime_var[:].squeeze(), dims=(\"y\",)).astype(\"timedelta64[ms]\")\n"
     ]
    },
    {
     "name": "stderr",
     "output_type": "stream",
     "text": [
      "/scratch1/BMC/rcm2/mbruckner/melodies_monet/monetio/monetio/sat/_tropomi_l2_no2_mm.py:60: UserWarning: Converting non-nanosecond precision datetime values to nanosecond precision. This behavior can eventually be relaxed in xarray, as it is an artifact from pandas which is now beginning to support non-nanosecond precision values. This warning is caused by passing non-nanosecond np.datetime64 or np.timedelta64 values to the DataArray or Variable constructor; it can be silenced by converting the values to nanosecond precision ahead of time.\n",
      "  ds[\"time\"] = ((), ref_time_val, {\"long_name\": \"reference time\"})\n",
      "/scratch1/BMC/rcm2/mbruckner/melodies_monet/monetio/monetio/sat/_tropomi_l2_no2_mm.py:60: UserWarning: Converting non-nanosecond precision datetime values to nanosecond precision. This behavior can eventually be relaxed in xarray, as it is an artifact from pandas which is now beginning to support non-nanosecond precision values. This warning is caused by passing non-nanosecond np.datetime64 or np.timedelta64 values to the DataArray or Variable constructor; it can be silenced by converting the values to nanosecond precision ahead of time.\n",
      "  ds[\"time\"] = ((), ref_time_val, {\"long_name\": \"reference time\"})\n"
     ]
    },
    {
     "name": "stdout",
     "output_type": "stream",
     "text": [
      "- qa_value\n",
      "- nitrogendioxide_tropospheric_column\n",
      "- averaging_kernel\n"
     ]
    },
    {
     "name": "stdout",
     "output_type": "stream",
     "text": [
      "- air_mass_factor_total\n",
      "- air_mass_factor_troposphere\n",
      "- latitude\n",
      "- longitude\n",
      "- preslev\n"
     ]
    },
    {
     "name": "stdout",
     "output_type": "stream",
     "text": [
      "reading /scratch1/BMC/rcm2/mbruckner/tropomi/no2/S5P_OFFL_L2__NO2____20230627T215821_20230627T233951_29560_03_020500_20230629T141501.nc\n"
     ]
    },
    {
     "name": "stderr",
     "output_type": "stream",
     "text": [
      "/scratch1/BMC/rcm2/mbruckner/melodies_monet/monetio/monetio/sat/_tropomi_l2_no2_mm.py:48: UserWarning: Converting non-nanosecond precision timedelta values to nanosecond precision. This behavior can eventually be relaxed in xarray, as it is an artifact from pandas which is now beginning to support non-nanosecond precision values. This warning is caused by passing non-nanosecond np.datetime64 or np.timedelta64 values to the DataArray or Variable constructor; it can be silenced by converting the values to nanosecond precision ahead of time.\n",
      "  dtime = xr.DataArray(dtime_var[:].squeeze(), dims=(\"y\",)).astype(\"timedelta64[ms]\")\n"
     ]
    },
    {
     "name": "stderr",
     "output_type": "stream",
     "text": [
      "/scratch1/BMC/rcm2/mbruckner/melodies_monet/monetio/monetio/sat/_tropomi_l2_no2_mm.py:60: UserWarning: Converting non-nanosecond precision datetime values to nanosecond precision. This behavior can eventually be relaxed in xarray, as it is an artifact from pandas which is now beginning to support non-nanosecond precision values. This warning is caused by passing non-nanosecond np.datetime64 or np.timedelta64 values to the DataArray or Variable constructor; it can be silenced by converting the values to nanosecond precision ahead of time.\n",
      "  ds[\"time\"] = ((), ref_time_val, {\"long_name\": \"reference time\"})\n",
      "/scratch1/BMC/rcm2/mbruckner/melodies_monet/monetio/monetio/sat/_tropomi_l2_no2_mm.py:60: UserWarning: Converting non-nanosecond precision datetime values to nanosecond precision. This behavior can eventually be relaxed in xarray, as it is an artifact from pandas which is now beginning to support non-nanosecond precision values. This warning is caused by passing non-nanosecond np.datetime64 or np.timedelta64 values to the DataArray or Variable constructor; it can be silenced by converting the values to nanosecond precision ahead of time.\n",
      "  ds[\"time\"] = ((), ref_time_val, {\"long_name\": \"reference time\"})\n"
     ]
    },
    {
     "name": "stdout",
     "output_type": "stream",
     "text": [
      "- qa_value\n",
      "- nitrogendioxide_tropospheric_column\n",
      "- averaging_kernel\n"
     ]
    },
    {
     "name": "stdout",
     "output_type": "stream",
     "text": [
      "- air_mass_factor_total\n",
      "- air_mass_factor_troposphere\n",
      "- latitude\n",
      "- longitude\n",
      "- preslev\n"
     ]
    },
    {
     "name": "stdout",
     "output_type": "stream",
     "text": [
      "reading /scratch1/BMC/rcm2/mbruckner/tropomi/no2/S5P_OFFL_L2__NO2____20230627T233951_20230628T012120_29561_03_020500_20230629T154136.nc\n"
     ]
    },
    {
     "name": "stderr",
     "output_type": "stream",
     "text": [
      "/scratch1/BMC/rcm2/mbruckner/melodies_monet/monetio/monetio/sat/_tropomi_l2_no2_mm.py:48: UserWarning: Converting non-nanosecond precision timedelta values to nanosecond precision. This behavior can eventually be relaxed in xarray, as it is an artifact from pandas which is now beginning to support non-nanosecond precision values. This warning is caused by passing non-nanosecond np.datetime64 or np.timedelta64 values to the DataArray or Variable constructor; it can be silenced by converting the values to nanosecond precision ahead of time.\n",
      "  dtime = xr.DataArray(dtime_var[:].squeeze(), dims=(\"y\",)).astype(\"timedelta64[ms]\")\n",
      "/scratch1/BMC/rcm2/mbruckner/melodies_monet/monetio/monetio/sat/_tropomi_l2_no2_mm.py:60: UserWarning: Converting non-nanosecond precision datetime values to nanosecond precision. This behavior can eventually be relaxed in xarray, as it is an artifact from pandas which is now beginning to support non-nanosecond precision values. This warning is caused by passing non-nanosecond np.datetime64 or np.timedelta64 values to the DataArray or Variable constructor; it can be silenced by converting the values to nanosecond precision ahead of time.\n",
      "  ds[\"time\"] = ((), ref_time_val, {\"long_name\": \"reference time\"})\n",
      "/scratch1/BMC/rcm2/mbruckner/melodies_monet/monetio/monetio/sat/_tropomi_l2_no2_mm.py:60: UserWarning: Converting non-nanosecond precision datetime values to nanosecond precision. This behavior can eventually be relaxed in xarray, as it is an artifact from pandas which is now beginning to support non-nanosecond precision values. This warning is caused by passing non-nanosecond np.datetime64 or np.timedelta64 values to the DataArray or Variable constructor; it can be silenced by converting the values to nanosecond precision ahead of time.\n",
      "  ds[\"time\"] = ((), ref_time_val, {\"long_name\": \"reference time\"})\n"
     ]
    },
    {
     "name": "stdout",
     "output_type": "stream",
     "text": [
      "- qa_value\n",
      "- nitrogendioxide_tropospheric_column\n",
      "- averaging_kernel\n"
     ]
    },
    {
     "name": "stdout",
     "output_type": "stream",
     "text": [
      "- air_mass_factor_total\n",
      "- air_mass_factor_troposphere\n",
      "- latitude\n",
      "- longitude\n",
      "- preslev\n"
     ]
    },
    {
     "name": "stdout",
     "output_type": "stream",
     "text": [
      "reading /scratch1/BMC/rcm2/mbruckner/tropomi/no2/S5P_OFFL_L2__NO2____20230628T012120_20230628T030250_29562_03_020500_20230629T171250.nc\n"
     ]
    },
    {
     "name": "stderr",
     "output_type": "stream",
     "text": [
      "/scratch1/BMC/rcm2/mbruckner/melodies_monet/monetio/monetio/sat/_tropomi_l2_no2_mm.py:48: UserWarning: Converting non-nanosecond precision timedelta values to nanosecond precision. This behavior can eventually be relaxed in xarray, as it is an artifact from pandas which is now beginning to support non-nanosecond precision values. This warning is caused by passing non-nanosecond np.datetime64 or np.timedelta64 values to the DataArray or Variable constructor; it can be silenced by converting the values to nanosecond precision ahead of time.\n",
      "  dtime = xr.DataArray(dtime_var[:].squeeze(), dims=(\"y\",)).astype(\"timedelta64[ms]\")\n",
      "/scratch1/BMC/rcm2/mbruckner/melodies_monet/monetio/monetio/sat/_tropomi_l2_no2_mm.py:60: UserWarning: Converting non-nanosecond precision datetime values to nanosecond precision. This behavior can eventually be relaxed in xarray, as it is an artifact from pandas which is now beginning to support non-nanosecond precision values. This warning is caused by passing non-nanosecond np.datetime64 or np.timedelta64 values to the DataArray or Variable constructor; it can be silenced by converting the values to nanosecond precision ahead of time.\n",
      "  ds[\"time\"] = ((), ref_time_val, {\"long_name\": \"reference time\"})\n",
      "/scratch1/BMC/rcm2/mbruckner/melodies_monet/monetio/monetio/sat/_tropomi_l2_no2_mm.py:60: UserWarning: Converting non-nanosecond precision datetime values to nanosecond precision. This behavior can eventually be relaxed in xarray, as it is an artifact from pandas which is now beginning to support non-nanosecond precision values. This warning is caused by passing non-nanosecond np.datetime64 or np.timedelta64 values to the DataArray or Variable constructor; it can be silenced by converting the values to nanosecond precision ahead of time.\n",
      "  ds[\"time\"] = ((), ref_time_val, {\"long_name\": \"reference time\"})\n"
     ]
    },
    {
     "name": "stdout",
     "output_type": "stream",
     "text": [
      "- qa_value\n",
      "- nitrogendioxide_tropospheric_column\n",
      "- averaging_kernel\n"
     ]
    },
    {
     "name": "stdout",
     "output_type": "stream",
     "text": [
      "- air_mass_factor_total\n",
      "- air_mass_factor_troposphere\n",
      "- latitude\n",
      "- longitude\n",
      "- preslev\n"
     ]
    },
    {
     "name": "stdout",
     "output_type": "stream",
     "text": [
      "reading /scratch1/BMC/rcm2/mbruckner/tropomi/no2/S5P_OFFL_L2__NO2____20230628T030250_20230628T044420_29563_03_020500_20230629T185712.nc\n"
     ]
    },
    {
     "name": "stderr",
     "output_type": "stream",
     "text": [
      "/scratch1/BMC/rcm2/mbruckner/melodies_monet/monetio/monetio/sat/_tropomi_l2_no2_mm.py:48: UserWarning: Converting non-nanosecond precision timedelta values to nanosecond precision. This behavior can eventually be relaxed in xarray, as it is an artifact from pandas which is now beginning to support non-nanosecond precision values. This warning is caused by passing non-nanosecond np.datetime64 or np.timedelta64 values to the DataArray or Variable constructor; it can be silenced by converting the values to nanosecond precision ahead of time.\n",
      "  dtime = xr.DataArray(dtime_var[:].squeeze(), dims=(\"y\",)).astype(\"timedelta64[ms]\")\n"
     ]
    },
    {
     "name": "stderr",
     "output_type": "stream",
     "text": [
      "/scratch1/BMC/rcm2/mbruckner/melodies_monet/monetio/monetio/sat/_tropomi_l2_no2_mm.py:60: UserWarning: Converting non-nanosecond precision datetime values to nanosecond precision. This behavior can eventually be relaxed in xarray, as it is an artifact from pandas which is now beginning to support non-nanosecond precision values. This warning is caused by passing non-nanosecond np.datetime64 or np.timedelta64 values to the DataArray or Variable constructor; it can be silenced by converting the values to nanosecond precision ahead of time.\n",
      "  ds[\"time\"] = ((), ref_time_val, {\"long_name\": \"reference time\"})\n",
      "/scratch1/BMC/rcm2/mbruckner/melodies_monet/monetio/monetio/sat/_tropomi_l2_no2_mm.py:60: UserWarning: Converting non-nanosecond precision datetime values to nanosecond precision. This behavior can eventually be relaxed in xarray, as it is an artifact from pandas which is now beginning to support non-nanosecond precision values. This warning is caused by passing non-nanosecond np.datetime64 or np.timedelta64 values to the DataArray or Variable constructor; it can be silenced by converting the values to nanosecond precision ahead of time.\n",
      "  ds[\"time\"] = ((), ref_time_val, {\"long_name\": \"reference time\"})\n"
     ]
    },
    {
     "name": "stdout",
     "output_type": "stream",
     "text": [
      "- qa_value\n",
      "- nitrogendioxide_tropospheric_column\n",
      "- averaging_kernel\n"
     ]
    },
    {
     "name": "stdout",
     "output_type": "stream",
     "text": [
      "- air_mass_factor_total\n",
      "- air_mass_factor_troposphere\n",
      "- latitude\n",
      "- longitude\n"
     ]
    },
    {
     "name": "stdout",
     "output_type": "stream",
     "text": [
      "- preslev\n"
     ]
    },
    {
     "name": "stdout",
     "output_type": "stream",
     "text": [
      "reading /scratch1/BMC/rcm2/mbruckner/tropomi/no2/S5P_OFFL_L2__NO2____20230628T044420_20230628T062549_29564_03_020500_20230629T204646.nc\n"
     ]
    },
    {
     "name": "stderr",
     "output_type": "stream",
     "text": [
      "/scratch1/BMC/rcm2/mbruckner/melodies_monet/monetio/monetio/sat/_tropomi_l2_no2_mm.py:48: UserWarning: Converting non-nanosecond precision timedelta values to nanosecond precision. This behavior can eventually be relaxed in xarray, as it is an artifact from pandas which is now beginning to support non-nanosecond precision values. This warning is caused by passing non-nanosecond np.datetime64 or np.timedelta64 values to the DataArray or Variable constructor; it can be silenced by converting the values to nanosecond precision ahead of time.\n",
      "  dtime = xr.DataArray(dtime_var[:].squeeze(), dims=(\"y\",)).astype(\"timedelta64[ms]\")\n"
     ]
    },
    {
     "name": "stderr",
     "output_type": "stream",
     "text": [
      "/scratch1/BMC/rcm2/mbruckner/melodies_monet/monetio/monetio/sat/_tropomi_l2_no2_mm.py:60: UserWarning: Converting non-nanosecond precision datetime values to nanosecond precision. This behavior can eventually be relaxed in xarray, as it is an artifact from pandas which is now beginning to support non-nanosecond precision values. This warning is caused by passing non-nanosecond np.datetime64 or np.timedelta64 values to the DataArray or Variable constructor; it can be silenced by converting the values to nanosecond precision ahead of time.\n",
      "  ds[\"time\"] = ((), ref_time_val, {\"long_name\": \"reference time\"})\n",
      "/scratch1/BMC/rcm2/mbruckner/melodies_monet/monetio/monetio/sat/_tropomi_l2_no2_mm.py:60: UserWarning: Converting non-nanosecond precision datetime values to nanosecond precision. This behavior can eventually be relaxed in xarray, as it is an artifact from pandas which is now beginning to support non-nanosecond precision values. This warning is caused by passing non-nanosecond np.datetime64 or np.timedelta64 values to the DataArray or Variable constructor; it can be silenced by converting the values to nanosecond precision ahead of time.\n",
      "  ds[\"time\"] = ((), ref_time_val, {\"long_name\": \"reference time\"})\n"
     ]
    },
    {
     "name": "stdout",
     "output_type": "stream",
     "text": [
      "- qa_value\n",
      "- nitrogendioxide_tropospheric_column\n",
      "- averaging_kernel\n"
     ]
    },
    {
     "name": "stdout",
     "output_type": "stream",
     "text": [
      "- air_mass_factor_total\n",
      "- air_mass_factor_troposphere\n"
     ]
    },
    {
     "name": "stdout",
     "output_type": "stream",
     "text": [
      "- latitude\n",
      "- longitude\n",
      "- preslev\n"
     ]
    },
    {
     "name": "stdout",
     "output_type": "stream",
     "text": [
      "reading /scratch1/BMC/rcm2/mbruckner/tropomi/no2/S5P_OFFL_L2__NO2____20230628T062549_20230628T080719_29565_03_020500_20230629T223040.nc\n"
     ]
    },
    {
     "name": "stderr",
     "output_type": "stream",
     "text": [
      "/scratch1/BMC/rcm2/mbruckner/melodies_monet/monetio/monetio/sat/_tropomi_l2_no2_mm.py:48: UserWarning: Converting non-nanosecond precision timedelta values to nanosecond precision. This behavior can eventually be relaxed in xarray, as it is an artifact from pandas which is now beginning to support non-nanosecond precision values. This warning is caused by passing non-nanosecond np.datetime64 or np.timedelta64 values to the DataArray or Variable constructor; it can be silenced by converting the values to nanosecond precision ahead of time.\n",
      "  dtime = xr.DataArray(dtime_var[:].squeeze(), dims=(\"y\",)).astype(\"timedelta64[ms]\")\n"
     ]
    },
    {
     "name": "stderr",
     "output_type": "stream",
     "text": [
      "/scratch1/BMC/rcm2/mbruckner/melodies_monet/monetio/monetio/sat/_tropomi_l2_no2_mm.py:60: UserWarning: Converting non-nanosecond precision datetime values to nanosecond precision. This behavior can eventually be relaxed in xarray, as it is an artifact from pandas which is now beginning to support non-nanosecond precision values. This warning is caused by passing non-nanosecond np.datetime64 or np.timedelta64 values to the DataArray or Variable constructor; it can be silenced by converting the values to nanosecond precision ahead of time.\n",
      "  ds[\"time\"] = ((), ref_time_val, {\"long_name\": \"reference time\"})\n",
      "/scratch1/BMC/rcm2/mbruckner/melodies_monet/monetio/monetio/sat/_tropomi_l2_no2_mm.py:60: UserWarning: Converting non-nanosecond precision datetime values to nanosecond precision. This behavior can eventually be relaxed in xarray, as it is an artifact from pandas which is now beginning to support non-nanosecond precision values. This warning is caused by passing non-nanosecond np.datetime64 or np.timedelta64 values to the DataArray or Variable constructor; it can be silenced by converting the values to nanosecond precision ahead of time.\n",
      "  ds[\"time\"] = ((), ref_time_val, {\"long_name\": \"reference time\"})\n"
     ]
    },
    {
     "name": "stdout",
     "output_type": "stream",
     "text": [
      "- qa_value\n",
      "- nitrogendioxide_tropospheric_column\n",
      "- averaging_kernel\n"
     ]
    },
    {
     "name": "stdout",
     "output_type": "stream",
     "text": [
      "- air_mass_factor_total\n",
      "- air_mass_factor_troposphere\n"
     ]
    },
    {
     "name": "stdout",
     "output_type": "stream",
     "text": [
      "- latitude\n",
      "- longitude\n",
      "- preslev\n"
     ]
    },
    {
     "name": "stdout",
     "output_type": "stream",
     "text": [
      "reading /scratch1/BMC/rcm2/mbruckner/tropomi/no2/S5P_OFFL_L2__NO2____20230628T080719_20230628T094849_29566_03_020500_20230630T000506.nc\n"
     ]
    },
    {
     "name": "stderr",
     "output_type": "stream",
     "text": [
      "/scratch1/BMC/rcm2/mbruckner/melodies_monet/monetio/monetio/sat/_tropomi_l2_no2_mm.py:48: UserWarning: Converting non-nanosecond precision timedelta values to nanosecond precision. This behavior can eventually be relaxed in xarray, as it is an artifact from pandas which is now beginning to support non-nanosecond precision values. This warning is caused by passing non-nanosecond np.datetime64 or np.timedelta64 values to the DataArray or Variable constructor; it can be silenced by converting the values to nanosecond precision ahead of time.\n",
      "  dtime = xr.DataArray(dtime_var[:].squeeze(), dims=(\"y\",)).astype(\"timedelta64[ms]\")\n"
     ]
    },
    {
     "name": "stderr",
     "output_type": "stream",
     "text": [
      "/scratch1/BMC/rcm2/mbruckner/melodies_monet/monetio/monetio/sat/_tropomi_l2_no2_mm.py:60: UserWarning: Converting non-nanosecond precision datetime values to nanosecond precision. This behavior can eventually be relaxed in xarray, as it is an artifact from pandas which is now beginning to support non-nanosecond precision values. This warning is caused by passing non-nanosecond np.datetime64 or np.timedelta64 values to the DataArray or Variable constructor; it can be silenced by converting the values to nanosecond precision ahead of time.\n",
      "  ds[\"time\"] = ((), ref_time_val, {\"long_name\": \"reference time\"})\n",
      "/scratch1/BMC/rcm2/mbruckner/melodies_monet/monetio/monetio/sat/_tropomi_l2_no2_mm.py:60: UserWarning: Converting non-nanosecond precision datetime values to nanosecond precision. This behavior can eventually be relaxed in xarray, as it is an artifact from pandas which is now beginning to support non-nanosecond precision values. This warning is caused by passing non-nanosecond np.datetime64 or np.timedelta64 values to the DataArray or Variable constructor; it can be silenced by converting the values to nanosecond precision ahead of time.\n",
      "  ds[\"time\"] = ((), ref_time_val, {\"long_name\": \"reference time\"})\n"
     ]
    },
    {
     "name": "stdout",
     "output_type": "stream",
     "text": [
      "- qa_value\n",
      "- nitrogendioxide_tropospheric_column\n",
      "- averaging_kernel\n"
     ]
    },
    {
     "name": "stdout",
     "output_type": "stream",
     "text": [
      "- air_mass_factor_total\n",
      "- air_mass_factor_troposphere\n"
     ]
    },
    {
     "name": "stdout",
     "output_type": "stream",
     "text": [
      "- latitude\n",
      "- longitude\n",
      "- preslev\n"
     ]
    },
    {
     "name": "stdout",
     "output_type": "stream",
     "text": [
      "reading /scratch1/BMC/rcm2/mbruckner/tropomi/no2/S5P_OFFL_L2__NO2____20230628T094849_20230628T113019_29567_03_020500_20230630T015842.nc\n"
     ]
    },
    {
     "name": "stderr",
     "output_type": "stream",
     "text": [
      "/scratch1/BMC/rcm2/mbruckner/melodies_monet/monetio/monetio/sat/_tropomi_l2_no2_mm.py:48: UserWarning: Converting non-nanosecond precision timedelta values to nanosecond precision. This behavior can eventually be relaxed in xarray, as it is an artifact from pandas which is now beginning to support non-nanosecond precision values. This warning is caused by passing non-nanosecond np.datetime64 or np.timedelta64 values to the DataArray or Variable constructor; it can be silenced by converting the values to nanosecond precision ahead of time.\n",
      "  dtime = xr.DataArray(dtime_var[:].squeeze(), dims=(\"y\",)).astype(\"timedelta64[ms]\")\n"
     ]
    },
    {
     "name": "stderr",
     "output_type": "stream",
     "text": [
      "/scratch1/BMC/rcm2/mbruckner/melodies_monet/monetio/monetio/sat/_tropomi_l2_no2_mm.py:60: UserWarning: Converting non-nanosecond precision datetime values to nanosecond precision. This behavior can eventually be relaxed in xarray, as it is an artifact from pandas which is now beginning to support non-nanosecond precision values. This warning is caused by passing non-nanosecond np.datetime64 or np.timedelta64 values to the DataArray or Variable constructor; it can be silenced by converting the values to nanosecond precision ahead of time.\n",
      "  ds[\"time\"] = ((), ref_time_val, {\"long_name\": \"reference time\"})\n",
      "/scratch1/BMC/rcm2/mbruckner/melodies_monet/monetio/monetio/sat/_tropomi_l2_no2_mm.py:60: UserWarning: Converting non-nanosecond precision datetime values to nanosecond precision. This behavior can eventually be relaxed in xarray, as it is an artifact from pandas which is now beginning to support non-nanosecond precision values. This warning is caused by passing non-nanosecond np.datetime64 or np.timedelta64 values to the DataArray or Variable constructor; it can be silenced by converting the values to nanosecond precision ahead of time.\n",
      "  ds[\"time\"] = ((), ref_time_val, {\"long_name\": \"reference time\"})\n"
     ]
    },
    {
     "name": "stdout",
     "output_type": "stream",
     "text": [
      "- qa_value\n",
      "- nitrogendioxide_tropospheric_column\n",
      "- averaging_kernel\n"
     ]
    },
    {
     "name": "stdout",
     "output_type": "stream",
     "text": [
      "- air_mass_factor_total\n",
      "- air_mass_factor_troposphere\n"
     ]
    },
    {
     "name": "stdout",
     "output_type": "stream",
     "text": [
      "- latitude\n",
      "- longitude\n",
      "- preslev\n"
     ]
    },
    {
     "name": "stdout",
     "output_type": "stream",
     "text": [
      "reading /scratch1/BMC/rcm2/mbruckner/tropomi/no2/S5P_OFFL_L2__NO2____20230628T113019_20230628T131148_29568_03_020500_20230630T034659.nc\n"
     ]
    },
    {
     "name": "stderr",
     "output_type": "stream",
     "text": [
      "/scratch1/BMC/rcm2/mbruckner/melodies_monet/monetio/monetio/sat/_tropomi_l2_no2_mm.py:48: UserWarning: Converting non-nanosecond precision timedelta values to nanosecond precision. This behavior can eventually be relaxed in xarray, as it is an artifact from pandas which is now beginning to support non-nanosecond precision values. This warning is caused by passing non-nanosecond np.datetime64 or np.timedelta64 values to the DataArray or Variable constructor; it can be silenced by converting the values to nanosecond precision ahead of time.\n",
      "  dtime = xr.DataArray(dtime_var[:].squeeze(), dims=(\"y\",)).astype(\"timedelta64[ms]\")\n"
     ]
    },
    {
     "name": "stderr",
     "output_type": "stream",
     "text": [
      "/scratch1/BMC/rcm2/mbruckner/melodies_monet/monetio/monetio/sat/_tropomi_l2_no2_mm.py:60: UserWarning: Converting non-nanosecond precision datetime values to nanosecond precision. This behavior can eventually be relaxed in xarray, as it is an artifact from pandas which is now beginning to support non-nanosecond precision values. This warning is caused by passing non-nanosecond np.datetime64 or np.timedelta64 values to the DataArray or Variable constructor; it can be silenced by converting the values to nanosecond precision ahead of time.\n",
      "  ds[\"time\"] = ((), ref_time_val, {\"long_name\": \"reference time\"})\n",
      "/scratch1/BMC/rcm2/mbruckner/melodies_monet/monetio/monetio/sat/_tropomi_l2_no2_mm.py:60: UserWarning: Converting non-nanosecond precision datetime values to nanosecond precision. This behavior can eventually be relaxed in xarray, as it is an artifact from pandas which is now beginning to support non-nanosecond precision values. This warning is caused by passing non-nanosecond np.datetime64 or np.timedelta64 values to the DataArray or Variable constructor; it can be silenced by converting the values to nanosecond precision ahead of time.\n",
      "  ds[\"time\"] = ((), ref_time_val, {\"long_name\": \"reference time\"})\n"
     ]
    },
    {
     "name": "stdout",
     "output_type": "stream",
     "text": [
      "- qa_value\n",
      "- nitrogendioxide_tropospheric_column\n",
      "- averaging_kernel\n"
     ]
    },
    {
     "name": "stdout",
     "output_type": "stream",
     "text": [
      "- air_mass_factor_total\n",
      "- air_mass_factor_troposphere\n"
     ]
    },
    {
     "name": "stdout",
     "output_type": "stream",
     "text": [
      "- latitude\n",
      "- longitude\n",
      "- preslev\n"
     ]
    },
    {
     "name": "stdout",
     "output_type": "stream",
     "text": [
      "reading /scratch1/BMC/rcm2/mbruckner/tropomi/no2/S5P_OFFL_L2__NO2____20230628T131148_20230628T145318_29569_03_020500_20230630T051457.nc\n"
     ]
    },
    {
     "name": "stderr",
     "output_type": "stream",
     "text": [
      "/scratch1/BMC/rcm2/mbruckner/melodies_monet/monetio/monetio/sat/_tropomi_l2_no2_mm.py:48: UserWarning: Converting non-nanosecond precision timedelta values to nanosecond precision. This behavior can eventually be relaxed in xarray, as it is an artifact from pandas which is now beginning to support non-nanosecond precision values. This warning is caused by passing non-nanosecond np.datetime64 or np.timedelta64 values to the DataArray or Variable constructor; it can be silenced by converting the values to nanosecond precision ahead of time.\n",
      "  dtime = xr.DataArray(dtime_var[:].squeeze(), dims=(\"y\",)).astype(\"timedelta64[ms]\")\n",
      "/scratch1/BMC/rcm2/mbruckner/melodies_monet/monetio/monetio/sat/_tropomi_l2_no2_mm.py:60: UserWarning: Converting non-nanosecond precision datetime values to nanosecond precision. This behavior can eventually be relaxed in xarray, as it is an artifact from pandas which is now beginning to support non-nanosecond precision values. This warning is caused by passing non-nanosecond np.datetime64 or np.timedelta64 values to the DataArray or Variable constructor; it can be silenced by converting the values to nanosecond precision ahead of time.\n",
      "  ds[\"time\"] = ((), ref_time_val, {\"long_name\": \"reference time\"})\n",
      "/scratch1/BMC/rcm2/mbruckner/melodies_monet/monetio/monetio/sat/_tropomi_l2_no2_mm.py:60: UserWarning: Converting non-nanosecond precision datetime values to nanosecond precision. This behavior can eventually be relaxed in xarray, as it is an artifact from pandas which is now beginning to support non-nanosecond precision values. This warning is caused by passing non-nanosecond np.datetime64 or np.timedelta64 values to the DataArray or Variable constructor; it can be silenced by converting the values to nanosecond precision ahead of time.\n",
      "  ds[\"time\"] = ((), ref_time_val, {\"long_name\": \"reference time\"})\n"
     ]
    },
    {
     "name": "stdout",
     "output_type": "stream",
     "text": [
      "- qa_value\n",
      "- nitrogendioxide_tropospheric_column\n",
      "- averaging_kernel\n"
     ]
    },
    {
     "name": "stdout",
     "output_type": "stream",
     "text": [
      "- air_mass_factor_total\n",
      "- air_mass_factor_troposphere\n",
      "- latitude\n",
      "- longitude\n",
      "- preslev\n"
     ]
    },
    {
     "name": "stdout",
     "output_type": "stream",
     "text": [
      "reading /scratch1/BMC/rcm2/mbruckner/tropomi/no2/S5P_OFFL_L2__NO2____20230628T145318_20230628T163448_29570_03_020500_20230630T064636.nc\n"
     ]
    },
    {
     "name": "stderr",
     "output_type": "stream",
     "text": [
      "/scratch1/BMC/rcm2/mbruckner/melodies_monet/monetio/monetio/sat/_tropomi_l2_no2_mm.py:48: UserWarning: Converting non-nanosecond precision timedelta values to nanosecond precision. This behavior can eventually be relaxed in xarray, as it is an artifact from pandas which is now beginning to support non-nanosecond precision values. This warning is caused by passing non-nanosecond np.datetime64 or np.timedelta64 values to the DataArray or Variable constructor; it can be silenced by converting the values to nanosecond precision ahead of time.\n",
      "  dtime = xr.DataArray(dtime_var[:].squeeze(), dims=(\"y\",)).astype(\"timedelta64[ms]\")\n",
      "/scratch1/BMC/rcm2/mbruckner/melodies_monet/monetio/monetio/sat/_tropomi_l2_no2_mm.py:60: UserWarning: Converting non-nanosecond precision datetime values to nanosecond precision. This behavior can eventually be relaxed in xarray, as it is an artifact from pandas which is now beginning to support non-nanosecond precision values. This warning is caused by passing non-nanosecond np.datetime64 or np.timedelta64 values to the DataArray or Variable constructor; it can be silenced by converting the values to nanosecond precision ahead of time.\n",
      "  ds[\"time\"] = ((), ref_time_val, {\"long_name\": \"reference time\"})\n",
      "/scratch1/BMC/rcm2/mbruckner/melodies_monet/monetio/monetio/sat/_tropomi_l2_no2_mm.py:60: UserWarning: Converting non-nanosecond precision datetime values to nanosecond precision. This behavior can eventually be relaxed in xarray, as it is an artifact from pandas which is now beginning to support non-nanosecond precision values. This warning is caused by passing non-nanosecond np.datetime64 or np.timedelta64 values to the DataArray or Variable constructor; it can be silenced by converting the values to nanosecond precision ahead of time.\n",
      "  ds[\"time\"] = ((), ref_time_val, {\"long_name\": \"reference time\"})\n"
     ]
    },
    {
     "name": "stdout",
     "output_type": "stream",
     "text": [
      "- qa_value\n",
      "- nitrogendioxide_tropospheric_column\n",
      "- averaging_kernel\n"
     ]
    },
    {
     "name": "stdout",
     "output_type": "stream",
     "text": [
      "- air_mass_factor_total\n",
      "- air_mass_factor_troposphere\n"
     ]
    },
    {
     "name": "stdout",
     "output_type": "stream",
     "text": [
      "- latitude\n",
      "- longitude\n",
      "- preslev\n"
     ]
    },
    {
     "name": "stdout",
     "output_type": "stream",
     "text": [
      "reading /scratch1/BMC/rcm2/mbruckner/tropomi/no2/S5P_OFFL_L2__NO2____20230628T163448_20230628T181617_29571_03_020500_20230630T083753.nc\n"
     ]
    },
    {
     "name": "stderr",
     "output_type": "stream",
     "text": [
      "/scratch1/BMC/rcm2/mbruckner/melodies_monet/monetio/monetio/sat/_tropomi_l2_no2_mm.py:48: UserWarning: Converting non-nanosecond precision timedelta values to nanosecond precision. This behavior can eventually be relaxed in xarray, as it is an artifact from pandas which is now beginning to support non-nanosecond precision values. This warning is caused by passing non-nanosecond np.datetime64 or np.timedelta64 values to the DataArray or Variable constructor; it can be silenced by converting the values to nanosecond precision ahead of time.\n",
      "  dtime = xr.DataArray(dtime_var[:].squeeze(), dims=(\"y\",)).astype(\"timedelta64[ms]\")\n"
     ]
    },
    {
     "name": "stderr",
     "output_type": "stream",
     "text": [
      "/scratch1/BMC/rcm2/mbruckner/melodies_monet/monetio/monetio/sat/_tropomi_l2_no2_mm.py:60: UserWarning: Converting non-nanosecond precision datetime values to nanosecond precision. This behavior can eventually be relaxed in xarray, as it is an artifact from pandas which is now beginning to support non-nanosecond precision values. This warning is caused by passing non-nanosecond np.datetime64 or np.timedelta64 values to the DataArray or Variable constructor; it can be silenced by converting the values to nanosecond precision ahead of time.\n",
      "  ds[\"time\"] = ((), ref_time_val, {\"long_name\": \"reference time\"})\n",
      "/scratch1/BMC/rcm2/mbruckner/melodies_monet/monetio/monetio/sat/_tropomi_l2_no2_mm.py:60: UserWarning: Converting non-nanosecond precision datetime values to nanosecond precision. This behavior can eventually be relaxed in xarray, as it is an artifact from pandas which is now beginning to support non-nanosecond precision values. This warning is caused by passing non-nanosecond np.datetime64 or np.timedelta64 values to the DataArray or Variable constructor; it can be silenced by converting the values to nanosecond precision ahead of time.\n",
      "  ds[\"time\"] = ((), ref_time_val, {\"long_name\": \"reference time\"})\n"
     ]
    },
    {
     "name": "stdout",
     "output_type": "stream",
     "text": [
      "- qa_value\n",
      "- nitrogendioxide_tropospheric_column\n",
      "- averaging_kernel\n"
     ]
    },
    {
     "name": "stdout",
     "output_type": "stream",
     "text": [
      "- air_mass_factor_total\n",
      "- air_mass_factor_troposphere\n"
     ]
    },
    {
     "name": "stdout",
     "output_type": "stream",
     "text": [
      "- latitude\n",
      "- longitude\n",
      "- preslev\n"
     ]
    },
    {
     "name": "stdout",
     "output_type": "stream",
     "text": [
      "reading /scratch1/BMC/rcm2/mbruckner/tropomi/no2/S5P_OFFL_L2__NO2____20230628T181617_20230628T195747_29572_03_020500_20230630T102127.nc\n"
     ]
    },
    {
     "name": "stderr",
     "output_type": "stream",
     "text": [
      "/scratch1/BMC/rcm2/mbruckner/melodies_monet/monetio/monetio/sat/_tropomi_l2_no2_mm.py:48: UserWarning: Converting non-nanosecond precision timedelta values to nanosecond precision. This behavior can eventually be relaxed in xarray, as it is an artifact from pandas which is now beginning to support non-nanosecond precision values. This warning is caused by passing non-nanosecond np.datetime64 or np.timedelta64 values to the DataArray or Variable constructor; it can be silenced by converting the values to nanosecond precision ahead of time.\n",
      "  dtime = xr.DataArray(dtime_var[:].squeeze(), dims=(\"y\",)).astype(\"timedelta64[ms]\")\n",
      "/scratch1/BMC/rcm2/mbruckner/melodies_monet/monetio/monetio/sat/_tropomi_l2_no2_mm.py:60: UserWarning: Converting non-nanosecond precision datetime values to nanosecond precision. This behavior can eventually be relaxed in xarray, as it is an artifact from pandas which is now beginning to support non-nanosecond precision values. This warning is caused by passing non-nanosecond np.datetime64 or np.timedelta64 values to the DataArray or Variable constructor; it can be silenced by converting the values to nanosecond precision ahead of time.\n",
      "  ds[\"time\"] = ((), ref_time_val, {\"long_name\": \"reference time\"})\n",
      "/scratch1/BMC/rcm2/mbruckner/melodies_monet/monetio/monetio/sat/_tropomi_l2_no2_mm.py:60: UserWarning: Converting non-nanosecond precision datetime values to nanosecond precision. This behavior can eventually be relaxed in xarray, as it is an artifact from pandas which is now beginning to support non-nanosecond precision values. This warning is caused by passing non-nanosecond np.datetime64 or np.timedelta64 values to the DataArray or Variable constructor; it can be silenced by converting the values to nanosecond precision ahead of time.\n",
      "  ds[\"time\"] = ((), ref_time_val, {\"long_name\": \"reference time\"})\n"
     ]
    },
    {
     "name": "stdout",
     "output_type": "stream",
     "text": [
      "- qa_value\n",
      "- nitrogendioxide_tropospheric_column\n",
      "- averaging_kernel\n"
     ]
    },
    {
     "name": "stdout",
     "output_type": "stream",
     "text": [
      "- air_mass_factor_total\n"
     ]
    },
    {
     "name": "stdout",
     "output_type": "stream",
     "text": [
      "- air_mass_factor_troposphere\n",
      "- latitude\n",
      "- longitude\n",
      "- preslev\n"
     ]
    },
    {
     "name": "stdout",
     "output_type": "stream",
     "text": [
      "reading /scratch1/BMC/rcm2/mbruckner/tropomi/no2/S5P_OFFL_L2__NO2____20230628T195747_20230628T213917_29573_03_020500_20230630T120227.nc\n"
     ]
    },
    {
     "name": "stderr",
     "output_type": "stream",
     "text": [
      "/scratch1/BMC/rcm2/mbruckner/melodies_monet/monetio/monetio/sat/_tropomi_l2_no2_mm.py:48: UserWarning: Converting non-nanosecond precision timedelta values to nanosecond precision. This behavior can eventually be relaxed in xarray, as it is an artifact from pandas which is now beginning to support non-nanosecond precision values. This warning is caused by passing non-nanosecond np.datetime64 or np.timedelta64 values to the DataArray or Variable constructor; it can be silenced by converting the values to nanosecond precision ahead of time.\n",
      "  dtime = xr.DataArray(dtime_var[:].squeeze(), dims=(\"y\",)).astype(\"timedelta64[ms]\")\n"
     ]
    },
    {
     "name": "stderr",
     "output_type": "stream",
     "text": [
      "/scratch1/BMC/rcm2/mbruckner/melodies_monet/monetio/monetio/sat/_tropomi_l2_no2_mm.py:60: UserWarning: Converting non-nanosecond precision datetime values to nanosecond precision. This behavior can eventually be relaxed in xarray, as it is an artifact from pandas which is now beginning to support non-nanosecond precision values. This warning is caused by passing non-nanosecond np.datetime64 or np.timedelta64 values to the DataArray or Variable constructor; it can be silenced by converting the values to nanosecond precision ahead of time.\n",
      "  ds[\"time\"] = ((), ref_time_val, {\"long_name\": \"reference time\"})\n",
      "/scratch1/BMC/rcm2/mbruckner/melodies_monet/monetio/monetio/sat/_tropomi_l2_no2_mm.py:60: UserWarning: Converting non-nanosecond precision datetime values to nanosecond precision. This behavior can eventually be relaxed in xarray, as it is an artifact from pandas which is now beginning to support non-nanosecond precision values. This warning is caused by passing non-nanosecond np.datetime64 or np.timedelta64 values to the DataArray or Variable constructor; it can be silenced by converting the values to nanosecond precision ahead of time.\n",
      "  ds[\"time\"] = ((), ref_time_val, {\"long_name\": \"reference time\"})\n"
     ]
    },
    {
     "name": "stdout",
     "output_type": "stream",
     "text": [
      "- qa_value\n",
      "- nitrogendioxide_tropospheric_column\n"
     ]
    },
    {
     "name": "stdout",
     "output_type": "stream",
     "text": [
      "- averaging_kernel\n"
     ]
    },
    {
     "name": "stdout",
     "output_type": "stream",
     "text": [
      "- air_mass_factor_total\n",
      "- air_mass_factor_troposphere\n"
     ]
    },
    {
     "name": "stdout",
     "output_type": "stream",
     "text": [
      "- latitude\n",
      "- longitude\n",
      "- preslev\n"
     ]
    },
    {
     "name": "stdout",
     "output_type": "stream",
     "text": [
      "reading /scratch1/BMC/rcm2/mbruckner/tropomi/no2/S5P_OFFL_L2__NO2____20230628T213917_20230628T232047_29574_03_020500_20230630T135643.nc\n"
     ]
    },
    {
     "name": "stderr",
     "output_type": "stream",
     "text": [
      "/scratch1/BMC/rcm2/mbruckner/melodies_monet/monetio/monetio/sat/_tropomi_l2_no2_mm.py:48: UserWarning: Converting non-nanosecond precision timedelta values to nanosecond precision. This behavior can eventually be relaxed in xarray, as it is an artifact from pandas which is now beginning to support non-nanosecond precision values. This warning is caused by passing non-nanosecond np.datetime64 or np.timedelta64 values to the DataArray or Variable constructor; it can be silenced by converting the values to nanosecond precision ahead of time.\n",
      "  dtime = xr.DataArray(dtime_var[:].squeeze(), dims=(\"y\",)).astype(\"timedelta64[ms]\")\n"
     ]
    },
    {
     "name": "stderr",
     "output_type": "stream",
     "text": [
      "/scratch1/BMC/rcm2/mbruckner/melodies_monet/monetio/monetio/sat/_tropomi_l2_no2_mm.py:60: UserWarning: Converting non-nanosecond precision datetime values to nanosecond precision. This behavior can eventually be relaxed in xarray, as it is an artifact from pandas which is now beginning to support non-nanosecond precision values. This warning is caused by passing non-nanosecond np.datetime64 or np.timedelta64 values to the DataArray or Variable constructor; it can be silenced by converting the values to nanosecond precision ahead of time.\n",
      "  ds[\"time\"] = ((), ref_time_val, {\"long_name\": \"reference time\"})\n",
      "/scratch1/BMC/rcm2/mbruckner/melodies_monet/monetio/monetio/sat/_tropomi_l2_no2_mm.py:60: UserWarning: Converting non-nanosecond precision datetime values to nanosecond precision. This behavior can eventually be relaxed in xarray, as it is an artifact from pandas which is now beginning to support non-nanosecond precision values. This warning is caused by passing non-nanosecond np.datetime64 or np.timedelta64 values to the DataArray or Variable constructor; it can be silenced by converting the values to nanosecond precision ahead of time.\n",
      "  ds[\"time\"] = ((), ref_time_val, {\"long_name\": \"reference time\"})\n"
     ]
    },
    {
     "name": "stdout",
     "output_type": "stream",
     "text": [
      "- qa_value\n",
      "- nitrogendioxide_tropospheric_column\n"
     ]
    },
    {
     "name": "stdout",
     "output_type": "stream",
     "text": [
      "- averaging_kernel\n"
     ]
    },
    {
     "name": "stdout",
     "output_type": "stream",
     "text": [
      "- air_mass_factor_total\n"
     ]
    },
    {
     "name": "stdout",
     "output_type": "stream",
     "text": [
      "- air_mass_factor_troposphere\n",
      "- latitude\n",
      "- longitude\n",
      "- preslev\n"
     ]
    },
    {
     "name": "stdout",
     "output_type": "stream",
     "text": [
      "reading /scratch1/BMC/rcm2/mbruckner/tropomi/no2/S5P_OFFL_L2__NO2____20230628T232047_20230629T010216_29575_03_020500_20230630T152248.nc\n"
     ]
    },
    {
     "name": "stderr",
     "output_type": "stream",
     "text": [
      "/scratch1/BMC/rcm2/mbruckner/melodies_monet/monetio/monetio/sat/_tropomi_l2_no2_mm.py:48: UserWarning: Converting non-nanosecond precision timedelta values to nanosecond precision. This behavior can eventually be relaxed in xarray, as it is an artifact from pandas which is now beginning to support non-nanosecond precision values. This warning is caused by passing non-nanosecond np.datetime64 or np.timedelta64 values to the DataArray or Variable constructor; it can be silenced by converting the values to nanosecond precision ahead of time.\n",
      "  dtime = xr.DataArray(dtime_var[:].squeeze(), dims=(\"y\",)).astype(\"timedelta64[ms]\")\n"
     ]
    },
    {
     "name": "stderr",
     "output_type": "stream",
     "text": [
      "/scratch1/BMC/rcm2/mbruckner/melodies_monet/monetio/monetio/sat/_tropomi_l2_no2_mm.py:60: UserWarning: Converting non-nanosecond precision datetime values to nanosecond precision. This behavior can eventually be relaxed in xarray, as it is an artifact from pandas which is now beginning to support non-nanosecond precision values. This warning is caused by passing non-nanosecond np.datetime64 or np.timedelta64 values to the DataArray or Variable constructor; it can be silenced by converting the values to nanosecond precision ahead of time.\n",
      "  ds[\"time\"] = ((), ref_time_val, {\"long_name\": \"reference time\"})\n",
      "/scratch1/BMC/rcm2/mbruckner/melodies_monet/monetio/monetio/sat/_tropomi_l2_no2_mm.py:60: UserWarning: Converting non-nanosecond precision datetime values to nanosecond precision. This behavior can eventually be relaxed in xarray, as it is an artifact from pandas which is now beginning to support non-nanosecond precision values. This warning is caused by passing non-nanosecond np.datetime64 or np.timedelta64 values to the DataArray or Variable constructor; it can be silenced by converting the values to nanosecond precision ahead of time.\n",
      "  ds[\"time\"] = ((), ref_time_val, {\"long_name\": \"reference time\"})\n"
     ]
    },
    {
     "name": "stdout",
     "output_type": "stream",
     "text": [
      "- qa_value\n",
      "- nitrogendioxide_tropospheric_column\n"
     ]
    },
    {
     "name": "stdout",
     "output_type": "stream",
     "text": [
      "- averaging_kernel\n"
     ]
    },
    {
     "name": "stdout",
     "output_type": "stream",
     "text": [
      "- air_mass_factor_total\n"
     ]
    },
    {
     "name": "stdout",
     "output_type": "stream",
     "text": [
      "- air_mass_factor_troposphere\n",
      "- latitude\n",
      "- longitude\n",
      "- preslev\n"
     ]
    },
    {
     "name": "stdout",
     "output_type": "stream",
     "text": [
      "reading /scratch1/BMC/rcm2/mbruckner/tropomi/no2/S5P_OFFL_L2__NO2____20230629T010216_20230629T024346_29576_03_020500_20230630T164731.nc\n"
     ]
    },
    {
     "name": "stderr",
     "output_type": "stream",
     "text": [
      "/scratch1/BMC/rcm2/mbruckner/melodies_monet/monetio/monetio/sat/_tropomi_l2_no2_mm.py:48: UserWarning: Converting non-nanosecond precision timedelta values to nanosecond precision. This behavior can eventually be relaxed in xarray, as it is an artifact from pandas which is now beginning to support non-nanosecond precision values. This warning is caused by passing non-nanosecond np.datetime64 or np.timedelta64 values to the DataArray or Variable constructor; it can be silenced by converting the values to nanosecond precision ahead of time.\n",
      "  dtime = xr.DataArray(dtime_var[:].squeeze(), dims=(\"y\",)).astype(\"timedelta64[ms]\")\n"
     ]
    },
    {
     "name": "stderr",
     "output_type": "stream",
     "text": [
      "/scratch1/BMC/rcm2/mbruckner/melodies_monet/monetio/monetio/sat/_tropomi_l2_no2_mm.py:60: UserWarning: Converting non-nanosecond precision datetime values to nanosecond precision. This behavior can eventually be relaxed in xarray, as it is an artifact from pandas which is now beginning to support non-nanosecond precision values. This warning is caused by passing non-nanosecond np.datetime64 or np.timedelta64 values to the DataArray or Variable constructor; it can be silenced by converting the values to nanosecond precision ahead of time.\n",
      "  ds[\"time\"] = ((), ref_time_val, {\"long_name\": \"reference time\"})\n",
      "/scratch1/BMC/rcm2/mbruckner/melodies_monet/monetio/monetio/sat/_tropomi_l2_no2_mm.py:60: UserWarning: Converting non-nanosecond precision datetime values to nanosecond precision. This behavior can eventually be relaxed in xarray, as it is an artifact from pandas which is now beginning to support non-nanosecond precision values. This warning is caused by passing non-nanosecond np.datetime64 or np.timedelta64 values to the DataArray or Variable constructor; it can be silenced by converting the values to nanosecond precision ahead of time.\n",
      "  ds[\"time\"] = ((), ref_time_val, {\"long_name\": \"reference time\"})\n"
     ]
    },
    {
     "name": "stdout",
     "output_type": "stream",
     "text": [
      "- qa_value\n",
      "- nitrogendioxide_tropospheric_column\n"
     ]
    },
    {
     "name": "stdout",
     "output_type": "stream",
     "text": [
      "- averaging_kernel\n"
     ]
    },
    {
     "name": "stdout",
     "output_type": "stream",
     "text": [
      "- air_mass_factor_total\n",
      "- air_mass_factor_troposphere\n",
      "- latitude\n"
     ]
    },
    {
     "name": "stdout",
     "output_type": "stream",
     "text": [
      "- longitude\n",
      "- preslev\n"
     ]
    },
    {
     "name": "stdout",
     "output_type": "stream",
     "text": [
      "reading /scratch1/BMC/rcm2/mbruckner/tropomi/no2/S5P_OFFL_L2__NO2____20230629T024346_20230629T042515_29577_03_020500_20230630T184311.nc\n"
     ]
    },
    {
     "name": "stderr",
     "output_type": "stream",
     "text": [
      "/scratch1/BMC/rcm2/mbruckner/melodies_monet/monetio/monetio/sat/_tropomi_l2_no2_mm.py:48: UserWarning: Converting non-nanosecond precision timedelta values to nanosecond precision. This behavior can eventually be relaxed in xarray, as it is an artifact from pandas which is now beginning to support non-nanosecond precision values. This warning is caused by passing non-nanosecond np.datetime64 or np.timedelta64 values to the DataArray or Variable constructor; it can be silenced by converting the values to nanosecond precision ahead of time.\n",
      "  dtime = xr.DataArray(dtime_var[:].squeeze(), dims=(\"y\",)).astype(\"timedelta64[ms]\")\n"
     ]
    },
    {
     "name": "stderr",
     "output_type": "stream",
     "text": [
      "/scratch1/BMC/rcm2/mbruckner/melodies_monet/monetio/monetio/sat/_tropomi_l2_no2_mm.py:60: UserWarning: Converting non-nanosecond precision datetime values to nanosecond precision. This behavior can eventually be relaxed in xarray, as it is an artifact from pandas which is now beginning to support non-nanosecond precision values. This warning is caused by passing non-nanosecond np.datetime64 or np.timedelta64 values to the DataArray or Variable constructor; it can be silenced by converting the values to nanosecond precision ahead of time.\n",
      "  ds[\"time\"] = ((), ref_time_val, {\"long_name\": \"reference time\"})\n",
      "/scratch1/BMC/rcm2/mbruckner/melodies_monet/monetio/monetio/sat/_tropomi_l2_no2_mm.py:60: UserWarning: Converting non-nanosecond precision datetime values to nanosecond precision. This behavior can eventually be relaxed in xarray, as it is an artifact from pandas which is now beginning to support non-nanosecond precision values. This warning is caused by passing non-nanosecond np.datetime64 or np.timedelta64 values to the DataArray or Variable constructor; it can be silenced by converting the values to nanosecond precision ahead of time.\n",
      "  ds[\"time\"] = ((), ref_time_val, {\"long_name\": \"reference time\"})\n"
     ]
    },
    {
     "name": "stdout",
     "output_type": "stream",
     "text": [
      "- qa_value\n",
      "- nitrogendioxide_tropospheric_column\n"
     ]
    },
    {
     "name": "stdout",
     "output_type": "stream",
     "text": [
      "- averaging_kernel\n"
     ]
    },
    {
     "name": "stdout",
     "output_type": "stream",
     "text": [
      "- air_mass_factor_total\n",
      "- air_mass_factor_troposphere\n"
     ]
    },
    {
     "name": "stdout",
     "output_type": "stream",
     "text": [
      "- latitude\n",
      "- longitude\n",
      "- preslev\n"
     ]
    },
    {
     "name": "stdout",
     "output_type": "stream",
     "text": [
      "reading /scratch1/BMC/rcm2/mbruckner/tropomi/no2/S5P_OFFL_L2__NO2____20230629T042515_20230629T060645_29578_03_020500_20230630T202850.nc\n"
     ]
    },
    {
     "name": "stderr",
     "output_type": "stream",
     "text": [
      "/scratch1/BMC/rcm2/mbruckner/melodies_monet/monetio/monetio/sat/_tropomi_l2_no2_mm.py:48: UserWarning: Converting non-nanosecond precision timedelta values to nanosecond precision. This behavior can eventually be relaxed in xarray, as it is an artifact from pandas which is now beginning to support non-nanosecond precision values. This warning is caused by passing non-nanosecond np.datetime64 or np.timedelta64 values to the DataArray or Variable constructor; it can be silenced by converting the values to nanosecond precision ahead of time.\n",
      "  dtime = xr.DataArray(dtime_var[:].squeeze(), dims=(\"y\",)).astype(\"timedelta64[ms]\")\n"
     ]
    },
    {
     "name": "stderr",
     "output_type": "stream",
     "text": [
      "/scratch1/BMC/rcm2/mbruckner/melodies_monet/monetio/monetio/sat/_tropomi_l2_no2_mm.py:60: UserWarning: Converting non-nanosecond precision datetime values to nanosecond precision. This behavior can eventually be relaxed in xarray, as it is an artifact from pandas which is now beginning to support non-nanosecond precision values. This warning is caused by passing non-nanosecond np.datetime64 or np.timedelta64 values to the DataArray or Variable constructor; it can be silenced by converting the values to nanosecond precision ahead of time.\n",
      "  ds[\"time\"] = ((), ref_time_val, {\"long_name\": \"reference time\"})\n",
      "/scratch1/BMC/rcm2/mbruckner/melodies_monet/monetio/monetio/sat/_tropomi_l2_no2_mm.py:60: UserWarning: Converting non-nanosecond precision datetime values to nanosecond precision. This behavior can eventually be relaxed in xarray, as it is an artifact from pandas which is now beginning to support non-nanosecond precision values. This warning is caused by passing non-nanosecond np.datetime64 or np.timedelta64 values to the DataArray or Variable constructor; it can be silenced by converting the values to nanosecond precision ahead of time.\n",
      "  ds[\"time\"] = ((), ref_time_val, {\"long_name\": \"reference time\"})\n"
     ]
    },
    {
     "name": "stdout",
     "output_type": "stream",
     "text": [
      "- qa_value\n",
      "- nitrogendioxide_tropospheric_column\n",
      "- averaging_kernel\n"
     ]
    },
    {
     "name": "stdout",
     "output_type": "stream",
     "text": [
      "- air_mass_factor_total\n",
      "- air_mass_factor_troposphere\n",
      "- latitude\n",
      "- longitude\n",
      "- preslev\n"
     ]
    },
    {
     "name": "stdout",
     "output_type": "stream",
     "text": [
      "reading /scratch1/BMC/rcm2/mbruckner/tropomi/no2/S5P_OFFL_L2__NO2____20230629T060645_20230629T074815_29579_03_020500_20230630T221343.nc\n"
     ]
    },
    {
     "name": "stderr",
     "output_type": "stream",
     "text": [
      "/scratch1/BMC/rcm2/mbruckner/melodies_monet/monetio/monetio/sat/_tropomi_l2_no2_mm.py:48: UserWarning: Converting non-nanosecond precision timedelta values to nanosecond precision. This behavior can eventually be relaxed in xarray, as it is an artifact from pandas which is now beginning to support non-nanosecond precision values. This warning is caused by passing non-nanosecond np.datetime64 or np.timedelta64 values to the DataArray or Variable constructor; it can be silenced by converting the values to nanosecond precision ahead of time.\n",
      "  dtime = xr.DataArray(dtime_var[:].squeeze(), dims=(\"y\",)).astype(\"timedelta64[ms]\")\n"
     ]
    },
    {
     "name": "stderr",
     "output_type": "stream",
     "text": [
      "/scratch1/BMC/rcm2/mbruckner/melodies_monet/monetio/monetio/sat/_tropomi_l2_no2_mm.py:60: UserWarning: Converting non-nanosecond precision datetime values to nanosecond precision. This behavior can eventually be relaxed in xarray, as it is an artifact from pandas which is now beginning to support non-nanosecond precision values. This warning is caused by passing non-nanosecond np.datetime64 or np.timedelta64 values to the DataArray or Variable constructor; it can be silenced by converting the values to nanosecond precision ahead of time.\n",
      "  ds[\"time\"] = ((), ref_time_val, {\"long_name\": \"reference time\"})\n",
      "/scratch1/BMC/rcm2/mbruckner/melodies_monet/monetio/monetio/sat/_tropomi_l2_no2_mm.py:60: UserWarning: Converting non-nanosecond precision datetime values to nanosecond precision. This behavior can eventually be relaxed in xarray, as it is an artifact from pandas which is now beginning to support non-nanosecond precision values. This warning is caused by passing non-nanosecond np.datetime64 or np.timedelta64 values to the DataArray or Variable constructor; it can be silenced by converting the values to nanosecond precision ahead of time.\n",
      "  ds[\"time\"] = ((), ref_time_val, {\"long_name\": \"reference time\"})\n"
     ]
    },
    {
     "name": "stdout",
     "output_type": "stream",
     "text": [
      "- qa_value\n",
      "- nitrogendioxide_tropospheric_column\n"
     ]
    },
    {
     "name": "stdout",
     "output_type": "stream",
     "text": [
      "- averaging_kernel\n"
     ]
    },
    {
     "name": "stdout",
     "output_type": "stream",
     "text": [
      "- air_mass_factor_total\n",
      "- air_mass_factor_troposphere\n"
     ]
    },
    {
     "name": "stdout",
     "output_type": "stream",
     "text": [
      "- latitude\n",
      "- longitude\n",
      "- preslev\n"
     ]
    },
    {
     "name": "stdout",
     "output_type": "stream",
     "text": [
      "reading /scratch1/BMC/rcm2/mbruckner/tropomi/no2/S5P_OFFL_L2__NO2____20230629T074815_20230629T092945_29580_03_020500_20230630T234309.nc\n"
     ]
    },
    {
     "name": "stderr",
     "output_type": "stream",
     "text": [
      "/scratch1/BMC/rcm2/mbruckner/melodies_monet/monetio/monetio/sat/_tropomi_l2_no2_mm.py:48: UserWarning: Converting non-nanosecond precision timedelta values to nanosecond precision. This behavior can eventually be relaxed in xarray, as it is an artifact from pandas which is now beginning to support non-nanosecond precision values. This warning is caused by passing non-nanosecond np.datetime64 or np.timedelta64 values to the DataArray or Variable constructor; it can be silenced by converting the values to nanosecond precision ahead of time.\n",
      "  dtime = xr.DataArray(dtime_var[:].squeeze(), dims=(\"y\",)).astype(\"timedelta64[ms]\")\n"
     ]
    },
    {
     "name": "stderr",
     "output_type": "stream",
     "text": [
      "/scratch1/BMC/rcm2/mbruckner/melodies_monet/monetio/monetio/sat/_tropomi_l2_no2_mm.py:60: UserWarning: Converting non-nanosecond precision datetime values to nanosecond precision. This behavior can eventually be relaxed in xarray, as it is an artifact from pandas which is now beginning to support non-nanosecond precision values. This warning is caused by passing non-nanosecond np.datetime64 or np.timedelta64 values to the DataArray or Variable constructor; it can be silenced by converting the values to nanosecond precision ahead of time.\n",
      "  ds[\"time\"] = ((), ref_time_val, {\"long_name\": \"reference time\"})\n",
      "/scratch1/BMC/rcm2/mbruckner/melodies_monet/monetio/monetio/sat/_tropomi_l2_no2_mm.py:60: UserWarning: Converting non-nanosecond precision datetime values to nanosecond precision. This behavior can eventually be relaxed in xarray, as it is an artifact from pandas which is now beginning to support non-nanosecond precision values. This warning is caused by passing non-nanosecond np.datetime64 or np.timedelta64 values to the DataArray or Variable constructor; it can be silenced by converting the values to nanosecond precision ahead of time.\n",
      "  ds[\"time\"] = ((), ref_time_val, {\"long_name\": \"reference time\"})\n"
     ]
    },
    {
     "name": "stdout",
     "output_type": "stream",
     "text": [
      "- qa_value\n",
      "- nitrogendioxide_tropospheric_column\n",
      "- averaging_kernel\n"
     ]
    },
    {
     "name": "stdout",
     "output_type": "stream",
     "text": [
      "- air_mass_factor_total\n",
      "- air_mass_factor_troposphere\n"
     ]
    },
    {
     "name": "stdout",
     "output_type": "stream",
     "text": [
      "- latitude\n",
      "- longitude\n",
      "- preslev\n"
     ]
    },
    {
     "name": "stdout",
     "output_type": "stream",
     "text": [
      "reading /scratch1/BMC/rcm2/mbruckner/tropomi/no2/S5P_OFFL_L2__NO2____20230629T092945_20230629T111115_29581_03_020500_20230701T014304.nc\n"
     ]
    },
    {
     "name": "stderr",
     "output_type": "stream",
     "text": [
      "/scratch1/BMC/rcm2/mbruckner/melodies_monet/monetio/monetio/sat/_tropomi_l2_no2_mm.py:48: UserWarning: Converting non-nanosecond precision timedelta values to nanosecond precision. This behavior can eventually be relaxed in xarray, as it is an artifact from pandas which is now beginning to support non-nanosecond precision values. This warning is caused by passing non-nanosecond np.datetime64 or np.timedelta64 values to the DataArray or Variable constructor; it can be silenced by converting the values to nanosecond precision ahead of time.\n",
      "  dtime = xr.DataArray(dtime_var[:].squeeze(), dims=(\"y\",)).astype(\"timedelta64[ms]\")\n"
     ]
    },
    {
     "name": "stderr",
     "output_type": "stream",
     "text": [
      "/scratch1/BMC/rcm2/mbruckner/melodies_monet/monetio/monetio/sat/_tropomi_l2_no2_mm.py:60: UserWarning: Converting non-nanosecond precision datetime values to nanosecond precision. This behavior can eventually be relaxed in xarray, as it is an artifact from pandas which is now beginning to support non-nanosecond precision values. This warning is caused by passing non-nanosecond np.datetime64 or np.timedelta64 values to the DataArray or Variable constructor; it can be silenced by converting the values to nanosecond precision ahead of time.\n",
      "  ds[\"time\"] = ((), ref_time_val, {\"long_name\": \"reference time\"})\n",
      "/scratch1/BMC/rcm2/mbruckner/melodies_monet/monetio/monetio/sat/_tropomi_l2_no2_mm.py:60: UserWarning: Converting non-nanosecond precision datetime values to nanosecond precision. This behavior can eventually be relaxed in xarray, as it is an artifact from pandas which is now beginning to support non-nanosecond precision values. This warning is caused by passing non-nanosecond np.datetime64 or np.timedelta64 values to the DataArray or Variable constructor; it can be silenced by converting the values to nanosecond precision ahead of time.\n",
      "  ds[\"time\"] = ((), ref_time_val, {\"long_name\": \"reference time\"})\n"
     ]
    },
    {
     "name": "stdout",
     "output_type": "stream",
     "text": [
      "- qa_value\n",
      "- nitrogendioxide_tropospheric_column\n",
      "- averaging_kernel\n"
     ]
    },
    {
     "name": "stdout",
     "output_type": "stream",
     "text": [
      "- air_mass_factor_total\n",
      "- air_mass_factor_troposphere\n"
     ]
    },
    {
     "name": "stdout",
     "output_type": "stream",
     "text": [
      "- latitude\n",
      "- longitude\n",
      "- preslev\n"
     ]
    },
    {
     "name": "stdout",
     "output_type": "stream",
     "text": [
      "reading /scratch1/BMC/rcm2/mbruckner/tropomi/no2/S5P_OFFL_L2__NO2____20230629T111115_20230629T125244_29582_03_020500_20230701T032240.nc\n"
     ]
    },
    {
     "name": "stderr",
     "output_type": "stream",
     "text": [
      "/scratch1/BMC/rcm2/mbruckner/melodies_monet/monetio/monetio/sat/_tropomi_l2_no2_mm.py:48: UserWarning: Converting non-nanosecond precision timedelta values to nanosecond precision. This behavior can eventually be relaxed in xarray, as it is an artifact from pandas which is now beginning to support non-nanosecond precision values. This warning is caused by passing non-nanosecond np.datetime64 or np.timedelta64 values to the DataArray or Variable constructor; it can be silenced by converting the values to nanosecond precision ahead of time.\n",
      "  dtime = xr.DataArray(dtime_var[:].squeeze(), dims=(\"y\",)).astype(\"timedelta64[ms]\")\n",
      "/scratch1/BMC/rcm2/mbruckner/melodies_monet/monetio/monetio/sat/_tropomi_l2_no2_mm.py:60: UserWarning: Converting non-nanosecond precision datetime values to nanosecond precision. This behavior can eventually be relaxed in xarray, as it is an artifact from pandas which is now beginning to support non-nanosecond precision values. This warning is caused by passing non-nanosecond np.datetime64 or np.timedelta64 values to the DataArray or Variable constructor; it can be silenced by converting the values to nanosecond precision ahead of time.\n",
      "  ds[\"time\"] = ((), ref_time_val, {\"long_name\": \"reference time\"})\n",
      "/scratch1/BMC/rcm2/mbruckner/melodies_monet/monetio/monetio/sat/_tropomi_l2_no2_mm.py:60: UserWarning: Converting non-nanosecond precision datetime values to nanosecond precision. This behavior can eventually be relaxed in xarray, as it is an artifact from pandas which is now beginning to support non-nanosecond precision values. This warning is caused by passing non-nanosecond np.datetime64 or np.timedelta64 values to the DataArray or Variable constructor; it can be silenced by converting the values to nanosecond precision ahead of time.\n",
      "  ds[\"time\"] = ((), ref_time_val, {\"long_name\": \"reference time\"})\n"
     ]
    },
    {
     "name": "stdout",
     "output_type": "stream",
     "text": [
      "- qa_value\n",
      "- nitrogendioxide_tropospheric_column\n",
      "- averaging_kernel\n"
     ]
    },
    {
     "name": "stdout",
     "output_type": "stream",
     "text": [
      "- air_mass_factor_total\n",
      "- air_mass_factor_troposphere\n"
     ]
    },
    {
     "name": "stdout",
     "output_type": "stream",
     "text": [
      "- latitude\n",
      "- longitude\n",
      "- preslev\n"
     ]
    },
    {
     "name": "stdout",
     "output_type": "stream",
     "text": [
      "reading /scratch1/BMC/rcm2/mbruckner/tropomi/no2/S5P_OFFL_L2__NO2____20230629T125244_20230629T143414_29583_03_020500_20230701T050511.nc\n"
     ]
    },
    {
     "name": "stderr",
     "output_type": "stream",
     "text": [
      "/scratch1/BMC/rcm2/mbruckner/melodies_monet/monetio/monetio/sat/_tropomi_l2_no2_mm.py:48: UserWarning: Converting non-nanosecond precision timedelta values to nanosecond precision. This behavior can eventually be relaxed in xarray, as it is an artifact from pandas which is now beginning to support non-nanosecond precision values. This warning is caused by passing non-nanosecond np.datetime64 or np.timedelta64 values to the DataArray or Variable constructor; it can be silenced by converting the values to nanosecond precision ahead of time.\n",
      "  dtime = xr.DataArray(dtime_var[:].squeeze(), dims=(\"y\",)).astype(\"timedelta64[ms]\")\n",
      "/scratch1/BMC/rcm2/mbruckner/melodies_monet/monetio/monetio/sat/_tropomi_l2_no2_mm.py:60: UserWarning: Converting non-nanosecond precision datetime values to nanosecond precision. This behavior can eventually be relaxed in xarray, as it is an artifact from pandas which is now beginning to support non-nanosecond precision values. This warning is caused by passing non-nanosecond np.datetime64 or np.timedelta64 values to the DataArray or Variable constructor; it can be silenced by converting the values to nanosecond precision ahead of time.\n",
      "  ds[\"time\"] = ((), ref_time_val, {\"long_name\": \"reference time\"})\n",
      "/scratch1/BMC/rcm2/mbruckner/melodies_monet/monetio/monetio/sat/_tropomi_l2_no2_mm.py:60: UserWarning: Converting non-nanosecond precision datetime values to nanosecond precision. This behavior can eventually be relaxed in xarray, as it is an artifact from pandas which is now beginning to support non-nanosecond precision values. This warning is caused by passing non-nanosecond np.datetime64 or np.timedelta64 values to the DataArray or Variable constructor; it can be silenced by converting the values to nanosecond precision ahead of time.\n",
      "  ds[\"time\"] = ((), ref_time_val, {\"long_name\": \"reference time\"})\n"
     ]
    },
    {
     "name": "stdout",
     "output_type": "stream",
     "text": [
      "- qa_value\n",
      "- nitrogendioxide_tropospheric_column\n",
      "- averaging_kernel\n"
     ]
    },
    {
     "name": "stdout",
     "output_type": "stream",
     "text": [
      "- air_mass_factor_total\n",
      "- air_mass_factor_troposphere\n",
      "- latitude\n",
      "- longitude\n",
      "- preslev\n"
     ]
    },
    {
     "name": "stdout",
     "output_type": "stream",
     "text": [
      "reading /scratch1/BMC/rcm2/mbruckner/tropomi/no2/S5P_OFFL_L2__NO2____20230629T143414_20230629T161543_29584_03_020500_20230701T063053.nc\n"
     ]
    },
    {
     "name": "stderr",
     "output_type": "stream",
     "text": [
      "/scratch1/BMC/rcm2/mbruckner/melodies_monet/monetio/monetio/sat/_tropomi_l2_no2_mm.py:48: UserWarning: Converting non-nanosecond precision timedelta values to nanosecond precision. This behavior can eventually be relaxed in xarray, as it is an artifact from pandas which is now beginning to support non-nanosecond precision values. This warning is caused by passing non-nanosecond np.datetime64 or np.timedelta64 values to the DataArray or Variable constructor; it can be silenced by converting the values to nanosecond precision ahead of time.\n",
      "  dtime = xr.DataArray(dtime_var[:].squeeze(), dims=(\"y\",)).astype(\"timedelta64[ms]\")\n"
     ]
    },
    {
     "name": "stderr",
     "output_type": "stream",
     "text": [
      "/scratch1/BMC/rcm2/mbruckner/melodies_monet/monetio/monetio/sat/_tropomi_l2_no2_mm.py:60: UserWarning: Converting non-nanosecond precision datetime values to nanosecond precision. This behavior can eventually be relaxed in xarray, as it is an artifact from pandas which is now beginning to support non-nanosecond precision values. This warning is caused by passing non-nanosecond np.datetime64 or np.timedelta64 values to the DataArray or Variable constructor; it can be silenced by converting the values to nanosecond precision ahead of time.\n",
      "  ds[\"time\"] = ((), ref_time_val, {\"long_name\": \"reference time\"})\n",
      "/scratch1/BMC/rcm2/mbruckner/melodies_monet/monetio/monetio/sat/_tropomi_l2_no2_mm.py:60: UserWarning: Converting non-nanosecond precision datetime values to nanosecond precision. This behavior can eventually be relaxed in xarray, as it is an artifact from pandas which is now beginning to support non-nanosecond precision values. This warning is caused by passing non-nanosecond np.datetime64 or np.timedelta64 values to the DataArray or Variable constructor; it can be silenced by converting the values to nanosecond precision ahead of time.\n",
      "  ds[\"time\"] = ((), ref_time_val, {\"long_name\": \"reference time\"})\n"
     ]
    },
    {
     "name": "stdout",
     "output_type": "stream",
     "text": [
      "- qa_value\n",
      "- nitrogendioxide_tropospheric_column\n",
      "- averaging_kernel\n"
     ]
    },
    {
     "name": "stdout",
     "output_type": "stream",
     "text": [
      "- air_mass_factor_total\n",
      "- air_mass_factor_troposphere\n"
     ]
    },
    {
     "name": "stdout",
     "output_type": "stream",
     "text": [
      "- latitude\n",
      "- longitude\n",
      "- preslev\n"
     ]
    },
    {
     "name": "stdout",
     "output_type": "stream",
     "text": [
      "reading /scratch1/BMC/rcm2/mbruckner/tropomi/no2/S5P_OFFL_L2__NO2____20230629T161543_20230629T175713_29585_03_020500_20230701T082111.nc\n"
     ]
    },
    {
     "name": "stderr",
     "output_type": "stream",
     "text": [
      "/scratch1/BMC/rcm2/mbruckner/melodies_monet/monetio/monetio/sat/_tropomi_l2_no2_mm.py:48: UserWarning: Converting non-nanosecond precision timedelta values to nanosecond precision. This behavior can eventually be relaxed in xarray, as it is an artifact from pandas which is now beginning to support non-nanosecond precision values. This warning is caused by passing non-nanosecond np.datetime64 or np.timedelta64 values to the DataArray or Variable constructor; it can be silenced by converting the values to nanosecond precision ahead of time.\n",
      "  dtime = xr.DataArray(dtime_var[:].squeeze(), dims=(\"y\",)).astype(\"timedelta64[ms]\")\n"
     ]
    },
    {
     "name": "stderr",
     "output_type": "stream",
     "text": [
      "/scratch1/BMC/rcm2/mbruckner/melodies_monet/monetio/monetio/sat/_tropomi_l2_no2_mm.py:60: UserWarning: Converting non-nanosecond precision datetime values to nanosecond precision. This behavior can eventually be relaxed in xarray, as it is an artifact from pandas which is now beginning to support non-nanosecond precision values. This warning is caused by passing non-nanosecond np.datetime64 or np.timedelta64 values to the DataArray or Variable constructor; it can be silenced by converting the values to nanosecond precision ahead of time.\n",
      "  ds[\"time\"] = ((), ref_time_val, {\"long_name\": \"reference time\"})\n",
      "/scratch1/BMC/rcm2/mbruckner/melodies_monet/monetio/monetio/sat/_tropomi_l2_no2_mm.py:60: UserWarning: Converting non-nanosecond precision datetime values to nanosecond precision. This behavior can eventually be relaxed in xarray, as it is an artifact from pandas which is now beginning to support non-nanosecond precision values. This warning is caused by passing non-nanosecond np.datetime64 or np.timedelta64 values to the DataArray or Variable constructor; it can be silenced by converting the values to nanosecond precision ahead of time.\n",
      "  ds[\"time\"] = ((), ref_time_val, {\"long_name\": \"reference time\"})\n"
     ]
    },
    {
     "name": "stdout",
     "output_type": "stream",
     "text": [
      "- qa_value\n",
      "- nitrogendioxide_tropospheric_column\n",
      "- averaging_kernel\n"
     ]
    },
    {
     "name": "stdout",
     "output_type": "stream",
     "text": [
      "- air_mass_factor_total\n"
     ]
    },
    {
     "name": "stdout",
     "output_type": "stream",
     "text": [
      "- air_mass_factor_troposphere\n",
      "- latitude\n",
      "- longitude\n",
      "- preslev\n"
     ]
    },
    {
     "name": "stdout",
     "output_type": "stream",
     "text": [
      "reading /scratch1/BMC/rcm2/mbruckner/tropomi/no2/S5P_OFFL_L2__NO2____20230629T175713_20230629T193843_29586_03_020500_20230701T100316.nc\n"
     ]
    },
    {
     "name": "stderr",
     "output_type": "stream",
     "text": [
      "/scratch1/BMC/rcm2/mbruckner/melodies_monet/monetio/monetio/sat/_tropomi_l2_no2_mm.py:48: UserWarning: Converting non-nanosecond precision timedelta values to nanosecond precision. This behavior can eventually be relaxed in xarray, as it is an artifact from pandas which is now beginning to support non-nanosecond precision values. This warning is caused by passing non-nanosecond np.datetime64 or np.timedelta64 values to the DataArray or Variable constructor; it can be silenced by converting the values to nanosecond precision ahead of time.\n",
      "  dtime = xr.DataArray(dtime_var[:].squeeze(), dims=(\"y\",)).astype(\"timedelta64[ms]\")\n"
     ]
    },
    {
     "name": "stderr",
     "output_type": "stream",
     "text": [
      "/scratch1/BMC/rcm2/mbruckner/melodies_monet/monetio/monetio/sat/_tropomi_l2_no2_mm.py:60: UserWarning: Converting non-nanosecond precision datetime values to nanosecond precision. This behavior can eventually be relaxed in xarray, as it is an artifact from pandas which is now beginning to support non-nanosecond precision values. This warning is caused by passing non-nanosecond np.datetime64 or np.timedelta64 values to the DataArray or Variable constructor; it can be silenced by converting the values to nanosecond precision ahead of time.\n",
      "  ds[\"time\"] = ((), ref_time_val, {\"long_name\": \"reference time\"})\n",
      "/scratch1/BMC/rcm2/mbruckner/melodies_monet/monetio/monetio/sat/_tropomi_l2_no2_mm.py:60: UserWarning: Converting non-nanosecond precision datetime values to nanosecond precision. This behavior can eventually be relaxed in xarray, as it is an artifact from pandas which is now beginning to support non-nanosecond precision values. This warning is caused by passing non-nanosecond np.datetime64 or np.timedelta64 values to the DataArray or Variable constructor; it can be silenced by converting the values to nanosecond precision ahead of time.\n",
      "  ds[\"time\"] = ((), ref_time_val, {\"long_name\": \"reference time\"})\n"
     ]
    },
    {
     "name": "stdout",
     "output_type": "stream",
     "text": [
      "- qa_value\n",
      "- nitrogendioxide_tropospheric_column\n",
      "- averaging_kernel\n"
     ]
    },
    {
     "name": "stdout",
     "output_type": "stream",
     "text": [
      "- air_mass_factor_total\n",
      "- air_mass_factor_troposphere\n",
      "- latitude\n"
     ]
    },
    {
     "name": "stdout",
     "output_type": "stream",
     "text": [
      "- longitude\n",
      "- preslev\n"
     ]
    },
    {
     "name": "stdout",
     "output_type": "stream",
     "text": [
      "reading /scratch1/BMC/rcm2/mbruckner/tropomi/no2/S5P_OFFL_L2__NO2____20230629T193843_20230629T212013_29587_03_020500_20230701T114110.nc\n"
     ]
    },
    {
     "name": "stderr",
     "output_type": "stream",
     "text": [
      "/scratch1/BMC/rcm2/mbruckner/melodies_monet/monetio/monetio/sat/_tropomi_l2_no2_mm.py:48: UserWarning: Converting non-nanosecond precision timedelta values to nanosecond precision. This behavior can eventually be relaxed in xarray, as it is an artifact from pandas which is now beginning to support non-nanosecond precision values. This warning is caused by passing non-nanosecond np.datetime64 or np.timedelta64 values to the DataArray or Variable constructor; it can be silenced by converting the values to nanosecond precision ahead of time.\n",
      "  dtime = xr.DataArray(dtime_var[:].squeeze(), dims=(\"y\",)).astype(\"timedelta64[ms]\")\n"
     ]
    },
    {
     "name": "stderr",
     "output_type": "stream",
     "text": [
      "/scratch1/BMC/rcm2/mbruckner/melodies_monet/monetio/monetio/sat/_tropomi_l2_no2_mm.py:60: UserWarning: Converting non-nanosecond precision datetime values to nanosecond precision. This behavior can eventually be relaxed in xarray, as it is an artifact from pandas which is now beginning to support non-nanosecond precision values. This warning is caused by passing non-nanosecond np.datetime64 or np.timedelta64 values to the DataArray or Variable constructor; it can be silenced by converting the values to nanosecond precision ahead of time.\n",
      "  ds[\"time\"] = ((), ref_time_val, {\"long_name\": \"reference time\"})\n",
      "/scratch1/BMC/rcm2/mbruckner/melodies_monet/monetio/monetio/sat/_tropomi_l2_no2_mm.py:60: UserWarning: Converting non-nanosecond precision datetime values to nanosecond precision. This behavior can eventually be relaxed in xarray, as it is an artifact from pandas which is now beginning to support non-nanosecond precision values. This warning is caused by passing non-nanosecond np.datetime64 or np.timedelta64 values to the DataArray or Variable constructor; it can be silenced by converting the values to nanosecond precision ahead of time.\n",
      "  ds[\"time\"] = ((), ref_time_val, {\"long_name\": \"reference time\"})\n"
     ]
    },
    {
     "name": "stdout",
     "output_type": "stream",
     "text": [
      "- qa_value\n",
      "- nitrogendioxide_tropospheric_column\n"
     ]
    },
    {
     "name": "stdout",
     "output_type": "stream",
     "text": [
      "- averaging_kernel\n"
     ]
    },
    {
     "name": "stdout",
     "output_type": "stream",
     "text": [
      "- air_mass_factor_total\n",
      "- air_mass_factor_troposphere\n"
     ]
    },
    {
     "name": "stdout",
     "output_type": "stream",
     "text": [
      "- latitude\n",
      "- longitude\n",
      "- preslev\n"
     ]
    },
    {
     "name": "stdout",
     "output_type": "stream",
     "text": [
      "reading /scratch1/BMC/rcm2/mbruckner/tropomi/no2/S5P_OFFL_L2__NO2____20230629T212013_20230629T230142_29588_03_020500_20230701T133424.nc\n"
     ]
    },
    {
     "name": "stderr",
     "output_type": "stream",
     "text": [
      "/scratch1/BMC/rcm2/mbruckner/melodies_monet/monetio/monetio/sat/_tropomi_l2_no2_mm.py:48: UserWarning: Converting non-nanosecond precision timedelta values to nanosecond precision. This behavior can eventually be relaxed in xarray, as it is an artifact from pandas which is now beginning to support non-nanosecond precision values. This warning is caused by passing non-nanosecond np.datetime64 or np.timedelta64 values to the DataArray or Variable constructor; it can be silenced by converting the values to nanosecond precision ahead of time.\n",
      "  dtime = xr.DataArray(dtime_var[:].squeeze(), dims=(\"y\",)).astype(\"timedelta64[ms]\")\n"
     ]
    },
    {
     "name": "stderr",
     "output_type": "stream",
     "text": [
      "/scratch1/BMC/rcm2/mbruckner/melodies_monet/monetio/monetio/sat/_tropomi_l2_no2_mm.py:60: UserWarning: Converting non-nanosecond precision datetime values to nanosecond precision. This behavior can eventually be relaxed in xarray, as it is an artifact from pandas which is now beginning to support non-nanosecond precision values. This warning is caused by passing non-nanosecond np.datetime64 or np.timedelta64 values to the DataArray or Variable constructor; it can be silenced by converting the values to nanosecond precision ahead of time.\n",
      "  ds[\"time\"] = ((), ref_time_val, {\"long_name\": \"reference time\"})\n",
      "/scratch1/BMC/rcm2/mbruckner/melodies_monet/monetio/monetio/sat/_tropomi_l2_no2_mm.py:60: UserWarning: Converting non-nanosecond precision datetime values to nanosecond precision. This behavior can eventually be relaxed in xarray, as it is an artifact from pandas which is now beginning to support non-nanosecond precision values. This warning is caused by passing non-nanosecond np.datetime64 or np.timedelta64 values to the DataArray or Variable constructor; it can be silenced by converting the values to nanosecond precision ahead of time.\n",
      "  ds[\"time\"] = ((), ref_time_val, {\"long_name\": \"reference time\"})\n"
     ]
    },
    {
     "name": "stdout",
     "output_type": "stream",
     "text": [
      "- qa_value\n",
      "- nitrogendioxide_tropospheric_column\n",
      "- averaging_kernel\n"
     ]
    },
    {
     "name": "stdout",
     "output_type": "stream",
     "text": [
      "- air_mass_factor_total\n",
      "- air_mass_factor_troposphere\n"
     ]
    },
    {
     "name": "stdout",
     "output_type": "stream",
     "text": [
      "- latitude\n",
      "- longitude\n",
      "- preslev\n"
     ]
    },
    {
     "name": "stdout",
     "output_type": "stream",
     "text": [
      "reading /scratch1/BMC/rcm2/mbruckner/tropomi/no2/S5P_OFFL_L2__NO2____20230629T230142_20230630T004312_29589_03_020500_20230701T145828.nc\n"
     ]
    },
    {
     "name": "stderr",
     "output_type": "stream",
     "text": [
      "/scratch1/BMC/rcm2/mbruckner/melodies_monet/monetio/monetio/sat/_tropomi_l2_no2_mm.py:48: UserWarning: Converting non-nanosecond precision timedelta values to nanosecond precision. This behavior can eventually be relaxed in xarray, as it is an artifact from pandas which is now beginning to support non-nanosecond precision values. This warning is caused by passing non-nanosecond np.datetime64 or np.timedelta64 values to the DataArray or Variable constructor; it can be silenced by converting the values to nanosecond precision ahead of time.\n",
      "  dtime = xr.DataArray(dtime_var[:].squeeze(), dims=(\"y\",)).astype(\"timedelta64[ms]\")\n",
      "/scratch1/BMC/rcm2/mbruckner/melodies_monet/monetio/monetio/sat/_tropomi_l2_no2_mm.py:60: UserWarning: Converting non-nanosecond precision datetime values to nanosecond precision. This behavior can eventually be relaxed in xarray, as it is an artifact from pandas which is now beginning to support non-nanosecond precision values. This warning is caused by passing non-nanosecond np.datetime64 or np.timedelta64 values to the DataArray or Variable constructor; it can be silenced by converting the values to nanosecond precision ahead of time.\n",
      "  ds[\"time\"] = ((), ref_time_val, {\"long_name\": \"reference time\"})\n",
      "/scratch1/BMC/rcm2/mbruckner/melodies_monet/monetio/monetio/sat/_tropomi_l2_no2_mm.py:60: UserWarning: Converting non-nanosecond precision datetime values to nanosecond precision. This behavior can eventually be relaxed in xarray, as it is an artifact from pandas which is now beginning to support non-nanosecond precision values. This warning is caused by passing non-nanosecond np.datetime64 or np.timedelta64 values to the DataArray or Variable constructor; it can be silenced by converting the values to nanosecond precision ahead of time.\n",
      "  ds[\"time\"] = ((), ref_time_val, {\"long_name\": \"reference time\"})\n"
     ]
    },
    {
     "name": "stdout",
     "output_type": "stream",
     "text": [
      "- qa_value\n",
      "- nitrogendioxide_tropospheric_column\n",
      "- averaging_kernel\n"
     ]
    },
    {
     "name": "stdout",
     "output_type": "stream",
     "text": [
      "- air_mass_factor_total\n",
      "- air_mass_factor_troposphere\n",
      "- latitude\n",
      "- longitude\n",
      "- preslev\n"
     ]
    }
   ],
   "source": [
    "an.open_obs()"
   ]
  },
  {
   "cell_type": "markdown",
   "id": "0a11be74-a756-4757-8494-c75d6e0906ad",
   "metadata": {},
   "source": [
    "We can look at the data we just loaded based on the observation names defined in the yaml dictionary."
   ]
  },
  {
   "cell_type": "markdown",
   "id": "7356a780-7221-4250-b57b-6a251261fb05",
   "metadata": {},
   "source": [
    "### Loading the model data\n",
    "\n",
    "driver will automatically loop through the \"models\" found in the model section of the yaml file and create an instance of the driver.model class for each that includes the label, mapping information, and xarray object as well as the filenames. Note it can open multiple files easily by including hot keys\n",
    "\n",
    "The optional boolean argument 'is_global' should be set to False for analyses using regional model data."
   ]
  },
  {
   "cell_type": "code",
   "execution_count": 5,
   "id": "7ea13104-6108-4b9f-9b78-33f567bbe435",
   "metadata": {
    "execution": {
     "iopub.execute_input": "2025-03-21T15:07:48.712533Z",
     "iopub.status.busy": "2025-03-21T15:07:48.712200Z",
     "iopub.status.idle": "2025-03-21T15:15:25.257166Z",
     "shell.execute_reply": "2025-03-21T15:15:25.254739Z"
    }
   },
   "outputs": [
    {
     "name": "stdout",
     "output_type": "stream",
     "text": [
      "rrfs\n",
      "/scratch1/BMC/rcm2/rhs/monet_example/AEROMMA/UFS-AQM/cmaq54_OriRave1/aqm.2023*/12/aqm.t12z.dyn.*.nc\n",
      "**** Reading RRFS-CMAQ model output...\n"
     ]
    }
   ],
   "source": [
    "an.open_models()"
   ]
  },
  {
   "cell_type": "markdown",
   "id": "07b0d4f0-0f35-4d05-ac7f-ce6605a22ddc",
   "metadata": {},
   "source": [
    "### Pair the data\n",
    "\n",
    "Pairing of model data with TROPOMI NO2 tropospheric column data in Melodies Monet is a bilinear interpolation with the xesmf regridding tools. The 'apply_ak' satellite pairing option can be either True or False.\n",
    "\n",
    "When the pairing option mod_to_overpass is specified, model data will be processed to the (hardwired) local satellite overpass time. For TROPOMI this is approximately 1:30 P.M. This step occurs prior to the spatial interpolation steps. \n"
   ]
  },
  {
   "cell_type": "code",
   "execution_count": 6,
   "id": "3b7fff1f-9103-4265-aa6e-3f84ba38e34f",
   "metadata": {
    "execution": {
     "iopub.execute_input": "2025-03-21T15:15:25.265379Z",
     "iopub.status.busy": "2025-03-21T15:15:25.265177Z",
     "iopub.status.idle": "2025-03-21T16:42:07.523004Z",
     "shell.execute_reply": "2025-03-21T16:42:07.516716Z"
    }
   },
   "outputs": [
    {
     "name": "stdout",
     "output_type": "stream",
     "text": [
      "1, in pair data\n",
      "sampling model to 13:30 local overpass time\n"
     ]
    },
    {
     "name": "stdout",
     "output_type": "stream",
     "text": [
      "Caution: model tropospheric NO2 column was calculated assuming the model top is the tropopause\n"
     ]
    },
    {
     "name": "stderr",
     "output_type": "stream",
     "text": [
      "/scratch1/BMC/rcm2/mbruckner/miniconda/envs/mm_develop/lib/python3.11/site-packages/xesmf/frontend.py:718: UserWarning: Using dimensions ('y', 'x') from data variable pres_pa_mid as the horizontal dimensions for the regridding.\n",
      "  warnings.warn(\n"
     ]
    },
    {
     "name": "stderr",
     "output_type": "stream",
     "text": [
      "/scratch1/BMC/rcm2/mbruckner/melodies_monet/MELODIES-MONET/melodies_monet/util/sat_l2_swath_utility.py:253: RuntimeWarning: divide by zero encountered in log10\n",
      "  f = interpolate.interp1d(np.log10(vertical_pres[:]),vertical_scatw[:], fill_value=\"extrapolate\")# relationship between pressure to avk\n"
     ]
    },
    {
     "name": "stderr",
     "output_type": "stream",
     "text": [
      "/scratch1/BMC/rcm2/mbruckner/melodies_monet/MELODIES-MONET/melodies_monet/util/sat_l2_swath_utility.py:279: RuntimeWarning: invalid value encountered in divide\n",
      "  amf_wrfchem = nume / deno * tamf_org\n"
     ]
    },
    {
     "name": "stdout",
     "output_type": "stream",
     "text": [
      "Done with Averaging Kernel revision, factor min: 1.0 max: 1.0\n"
     ]
    },
    {
     "name": "stderr",
     "output_type": "stream",
     "text": [
      "/scratch1/BMC/rcm2/mbruckner/miniconda/envs/mm_develop/lib/python3.11/site-packages/xesmf/frontend.py:718: UserWarning: Using dimensions ('y', 'x') from data variable nitrogendioxide_tropospheric_column as the horizontal dimensions for the regridding.\n",
      "  warnings.warn(\n"
     ]
    },
    {
     "name": "stderr",
     "output_type": "stream",
     "text": [
      "/scratch1/BMC/rcm2/mbruckner/miniconda/envs/mm_develop/lib/python3.11/site-packages/xesmf/frontend.py:718: UserWarning: Using dimensions ('y', 'x') from data variable pres_pa_mid as the horizontal dimensions for the regridding.\n",
      "  warnings.warn(\n"
     ]
    },
    {
     "name": "stdout",
     "output_type": "stream",
     "text": [
      "Caution: There are no observations within the model domain\n",
      "Done with Averaging Kernel revision, factor min: 1.0 max: 1.0\n"
     ]
    },
    {
     "name": "stderr",
     "output_type": "stream",
     "text": [
      "/scratch1/BMC/rcm2/mbruckner/melodies_monet/MELODIES-MONET/melodies_monet/util/sat_l2_swath_utility.py:279: RuntimeWarning: invalid value encountered in divide\n",
      "  amf_wrfchem = nume / deno * tamf_org\n"
     ]
    },
    {
     "name": "stderr",
     "output_type": "stream",
     "text": [
      "/scratch1/BMC/rcm2/mbruckner/miniconda/envs/mm_develop/lib/python3.11/site-packages/xesmf/frontend.py:718: UserWarning: Using dimensions ('y', 'x') from data variable nitrogendioxide_tropospheric_column as the horizontal dimensions for the regridding.\n",
      "  warnings.warn(\n"
     ]
    },
    {
     "name": "stderr",
     "output_type": "stream",
     "text": [
      "/scratch1/BMC/rcm2/mbruckner/miniconda/envs/mm_develop/lib/python3.11/site-packages/xesmf/frontend.py:718: UserWarning: Using dimensions ('y', 'x') from data variable pres_pa_mid as the horizontal dimensions for the regridding.\n",
      "  warnings.warn(\n"
     ]
    },
    {
     "name": "stdout",
     "output_type": "stream",
     "text": [
      "Caution: There are no observations within the model domain\n",
      "Done with Averaging Kernel revision, factor min: 1.0 max: 1.0\n"
     ]
    },
    {
     "name": "stderr",
     "output_type": "stream",
     "text": [
      "/scratch1/BMC/rcm2/mbruckner/melodies_monet/MELODIES-MONET/melodies_monet/util/sat_l2_swath_utility.py:279: RuntimeWarning: invalid value encountered in divide\n",
      "  amf_wrfchem = nume / deno * tamf_org\n"
     ]
    },
    {
     "name": "stderr",
     "output_type": "stream",
     "text": [
      "/scratch1/BMC/rcm2/mbruckner/miniconda/envs/mm_develop/lib/python3.11/site-packages/xesmf/frontend.py:718: UserWarning: Using dimensions ('y', 'x') from data variable nitrogendioxide_tropospheric_column as the horizontal dimensions for the regridding.\n",
      "  warnings.warn(\n"
     ]
    },
    {
     "name": "stderr",
     "output_type": "stream",
     "text": [
      "/scratch1/BMC/rcm2/mbruckner/miniconda/envs/mm_develop/lib/python3.11/site-packages/xesmf/frontend.py:718: UserWarning: Using dimensions ('y', 'x') from data variable pres_pa_mid as the horizontal dimensions for the regridding.\n",
      "  warnings.warn(\n"
     ]
    },
    {
     "name": "stdout",
     "output_type": "stream",
     "text": [
      "Caution: There are no observations within the model domain\n",
      "Done with Averaging Kernel revision, factor min: 1.0 max: 1.0\n"
     ]
    },
    {
     "name": "stderr",
     "output_type": "stream",
     "text": [
      "/scratch1/BMC/rcm2/mbruckner/melodies_monet/MELODIES-MONET/melodies_monet/util/sat_l2_swath_utility.py:279: RuntimeWarning: invalid value encountered in divide\n",
      "  amf_wrfchem = nume / deno * tamf_org\n"
     ]
    },
    {
     "name": "stderr",
     "output_type": "stream",
     "text": [
      "/scratch1/BMC/rcm2/mbruckner/miniconda/envs/mm_develop/lib/python3.11/site-packages/xesmf/frontend.py:718: UserWarning: Using dimensions ('y', 'x') from data variable nitrogendioxide_tropospheric_column as the horizontal dimensions for the regridding.\n",
      "  warnings.warn(\n"
     ]
    },
    {
     "name": "stderr",
     "output_type": "stream",
     "text": [
      "/scratch1/BMC/rcm2/mbruckner/miniconda/envs/mm_develop/lib/python3.11/site-packages/xesmf/frontend.py:718: UserWarning: Using dimensions ('y', 'x') from data variable pres_pa_mid as the horizontal dimensions for the regridding.\n",
      "  warnings.warn(\n"
     ]
    },
    {
     "name": "stdout",
     "output_type": "stream",
     "text": [
      "Caution: There are no observations within the model domain\n",
      "Done with Averaging Kernel revision, factor min: 1.0 max: 1.0\n"
     ]
    },
    {
     "name": "stderr",
     "output_type": "stream",
     "text": [
      "/scratch1/BMC/rcm2/mbruckner/melodies_monet/MELODIES-MONET/melodies_monet/util/sat_l2_swath_utility.py:279: RuntimeWarning: invalid value encountered in divide\n",
      "  amf_wrfchem = nume / deno * tamf_org\n"
     ]
    },
    {
     "name": "stderr",
     "output_type": "stream",
     "text": [
      "/scratch1/BMC/rcm2/mbruckner/miniconda/envs/mm_develop/lib/python3.11/site-packages/xesmf/frontend.py:718: UserWarning: Using dimensions ('y', 'x') from data variable nitrogendioxide_tropospheric_column as the horizontal dimensions for the regridding.\n",
      "  warnings.warn(\n"
     ]
    },
    {
     "name": "stderr",
     "output_type": "stream",
     "text": [
      "/scratch1/BMC/rcm2/mbruckner/miniconda/envs/mm_develop/lib/python3.11/site-packages/xesmf/frontend.py:718: UserWarning: Using dimensions ('y', 'x') from data variable pres_pa_mid as the horizontal dimensions for the regridding.\n",
      "  warnings.warn(\n"
     ]
    },
    {
     "name": "stdout",
     "output_type": "stream",
     "text": [
      "Caution: There are no observations within the model domain\n",
      "Done with Averaging Kernel revision, factor min: 1.0 max: 1.0\n"
     ]
    },
    {
     "name": "stderr",
     "output_type": "stream",
     "text": [
      "/scratch1/BMC/rcm2/mbruckner/melodies_monet/MELODIES-MONET/melodies_monet/util/sat_l2_swath_utility.py:279: RuntimeWarning: invalid value encountered in divide\n",
      "  amf_wrfchem = nume / deno * tamf_org\n"
     ]
    },
    {
     "name": "stderr",
     "output_type": "stream",
     "text": [
      "/scratch1/BMC/rcm2/mbruckner/miniconda/envs/mm_develop/lib/python3.11/site-packages/xesmf/frontend.py:718: UserWarning: Using dimensions ('y', 'x') from data variable nitrogendioxide_tropospheric_column as the horizontal dimensions for the regridding.\n",
      "  warnings.warn(\n"
     ]
    },
    {
     "name": "stderr",
     "output_type": "stream",
     "text": [
      "/scratch1/BMC/rcm2/mbruckner/miniconda/envs/mm_develop/lib/python3.11/site-packages/xesmf/frontend.py:718: UserWarning: Using dimensions ('y', 'x') from data variable pres_pa_mid as the horizontal dimensions for the regridding.\n",
      "  warnings.warn(\n"
     ]
    },
    {
     "name": "stderr",
     "output_type": "stream",
     "text": [
      "/scratch1/BMC/rcm2/mbruckner/melodies_monet/MELODIES-MONET/melodies_monet/util/sat_l2_swath_utility.py:253: RuntimeWarning: divide by zero encountered in log10\n",
      "  f = interpolate.interp1d(np.log10(vertical_pres[:]),vertical_scatw[:], fill_value=\"extrapolate\")# relationship between pressure to avk\n"
     ]
    },
    {
     "name": "stderr",
     "output_type": "stream",
     "text": [
      "/scratch1/BMC/rcm2/mbruckner/melodies_monet/MELODIES-MONET/melodies_monet/util/sat_l2_swath_utility.py:279: RuntimeWarning: invalid value encountered in divide\n",
      "  amf_wrfchem = nume / deno * tamf_org\n"
     ]
    },
    {
     "name": "stdout",
     "output_type": "stream",
     "text": [
      "Done with Averaging Kernel revision, factor min: 1.0 max: 1.0\n"
     ]
    },
    {
     "name": "stderr",
     "output_type": "stream",
     "text": [
      "/scratch1/BMC/rcm2/mbruckner/miniconda/envs/mm_develop/lib/python3.11/site-packages/xesmf/frontend.py:718: UserWarning: Using dimensions ('y', 'x') from data variable nitrogendioxide_tropospheric_column as the horizontal dimensions for the regridding.\n",
      "  warnings.warn(\n"
     ]
    },
    {
     "name": "stderr",
     "output_type": "stream",
     "text": [
      "/scratch1/BMC/rcm2/mbruckner/miniconda/envs/mm_develop/lib/python3.11/site-packages/xesmf/frontend.py:718: UserWarning: Using dimensions ('y', 'x') from data variable pres_pa_mid as the horizontal dimensions for the regridding.\n",
      "  warnings.warn(\n"
     ]
    },
    {
     "name": "stderr",
     "output_type": "stream",
     "text": [
      "/scratch1/BMC/rcm2/mbruckner/melodies_monet/MELODIES-MONET/melodies_monet/util/sat_l2_swath_utility.py:253: RuntimeWarning: divide by zero encountered in log10\n",
      "  f = interpolate.interp1d(np.log10(vertical_pres[:]),vertical_scatw[:], fill_value=\"extrapolate\")# relationship between pressure to avk\n"
     ]
    },
    {
     "name": "stderr",
     "output_type": "stream",
     "text": [
      "/scratch1/BMC/rcm2/mbruckner/melodies_monet/MELODIES-MONET/melodies_monet/util/sat_l2_swath_utility.py:279: RuntimeWarning: invalid value encountered in divide\n",
      "  amf_wrfchem = nume / deno * tamf_org\n"
     ]
    },
    {
     "name": "stdout",
     "output_type": "stream",
     "text": [
      "Done with Averaging Kernel revision, factor min: 1.0 max: 1.0\n"
     ]
    },
    {
     "name": "stderr",
     "output_type": "stream",
     "text": [
      "/scratch1/BMC/rcm2/mbruckner/miniconda/envs/mm_develop/lib/python3.11/site-packages/xesmf/frontend.py:718: UserWarning: Using dimensions ('y', 'x') from data variable nitrogendioxide_tropospheric_column as the horizontal dimensions for the regridding.\n",
      "  warnings.warn(\n"
     ]
    },
    {
     "name": "stderr",
     "output_type": "stream",
     "text": [
      "/scratch1/BMC/rcm2/mbruckner/miniconda/envs/mm_develop/lib/python3.11/site-packages/xesmf/frontend.py:718: UserWarning: Using dimensions ('y', 'x') from data variable pres_pa_mid as the horizontal dimensions for the regridding.\n",
      "  warnings.warn(\n"
     ]
    },
    {
     "name": "stderr",
     "output_type": "stream",
     "text": [
      "/scratch1/BMC/rcm2/mbruckner/melodies_monet/MELODIES-MONET/melodies_monet/util/sat_l2_swath_utility.py:253: RuntimeWarning: divide by zero encountered in log10\n",
      "  f = interpolate.interp1d(np.log10(vertical_pres[:]),vertical_scatw[:], fill_value=\"extrapolate\")# relationship between pressure to avk\n"
     ]
    },
    {
     "name": "stderr",
     "output_type": "stream",
     "text": [
      "/scratch1/BMC/rcm2/mbruckner/melodies_monet/MELODIES-MONET/melodies_monet/util/sat_l2_swath_utility.py:279: RuntimeWarning: invalid value encountered in divide\n",
      "  amf_wrfchem = nume / deno * tamf_org\n"
     ]
    },
    {
     "name": "stdout",
     "output_type": "stream",
     "text": [
      "Done with Averaging Kernel revision, factor min: 1.0 max: 1.0\n"
     ]
    },
    {
     "name": "stderr",
     "output_type": "stream",
     "text": [
      "/scratch1/BMC/rcm2/mbruckner/miniconda/envs/mm_develop/lib/python3.11/site-packages/xesmf/frontend.py:718: UserWarning: Using dimensions ('y', 'x') from data variable nitrogendioxide_tropospheric_column as the horizontal dimensions for the regridding.\n",
      "  warnings.warn(\n"
     ]
    },
    {
     "name": "stderr",
     "output_type": "stream",
     "text": [
      "/scratch1/BMC/rcm2/mbruckner/miniconda/envs/mm_develop/lib/python3.11/site-packages/xesmf/frontend.py:718: UserWarning: Using dimensions ('y', 'x') from data variable pres_pa_mid as the horizontal dimensions for the regridding.\n",
      "  warnings.warn(\n"
     ]
    },
    {
     "name": "stderr",
     "output_type": "stream",
     "text": [
      "/scratch1/BMC/rcm2/mbruckner/melodies_monet/MELODIES-MONET/melodies_monet/util/sat_l2_swath_utility.py:253: RuntimeWarning: divide by zero encountered in log10\n",
      "  f = interpolate.interp1d(np.log10(vertical_pres[:]),vertical_scatw[:], fill_value=\"extrapolate\")# relationship between pressure to avk\n"
     ]
    },
    {
     "name": "stderr",
     "output_type": "stream",
     "text": [
      "/scratch1/BMC/rcm2/mbruckner/melodies_monet/MELODIES-MONET/melodies_monet/util/sat_l2_swath_utility.py:279: RuntimeWarning: invalid value encountered in divide\n",
      "  amf_wrfchem = nume / deno * tamf_org\n"
     ]
    },
    {
     "name": "stdout",
     "output_type": "stream",
     "text": [
      "Done with Averaging Kernel revision, factor min: 1.0 max: 1.0\n"
     ]
    },
    {
     "name": "stderr",
     "output_type": "stream",
     "text": [
      "/scratch1/BMC/rcm2/mbruckner/miniconda/envs/mm_develop/lib/python3.11/site-packages/xesmf/frontend.py:718: UserWarning: Using dimensions ('y', 'x') from data variable nitrogendioxide_tropospheric_column as the horizontal dimensions for the regridding.\n",
      "  warnings.warn(\n"
     ]
    },
    {
     "name": "stderr",
     "output_type": "stream",
     "text": [
      "/scratch1/BMC/rcm2/mbruckner/miniconda/envs/mm_develop/lib/python3.11/site-packages/xesmf/frontend.py:718: UserWarning: Using dimensions ('y', 'x') from data variable pres_pa_mid as the horizontal dimensions for the regridding.\n",
      "  warnings.warn(\n"
     ]
    },
    {
     "name": "stderr",
     "output_type": "stream",
     "text": [
      "/scratch1/BMC/rcm2/mbruckner/melodies_monet/MELODIES-MONET/melodies_monet/util/sat_l2_swath_utility.py:253: RuntimeWarning: divide by zero encountered in log10\n",
      "  f = interpolate.interp1d(np.log10(vertical_pres[:]),vertical_scatw[:], fill_value=\"extrapolate\")# relationship between pressure to avk\n"
     ]
    },
    {
     "name": "stderr",
     "output_type": "stream",
     "text": [
      "/scratch1/BMC/rcm2/mbruckner/melodies_monet/MELODIES-MONET/melodies_monet/util/sat_l2_swath_utility.py:279: RuntimeWarning: invalid value encountered in divide\n",
      "  amf_wrfchem = nume / deno * tamf_org\n"
     ]
    },
    {
     "name": "stdout",
     "output_type": "stream",
     "text": [
      "Done with Averaging Kernel revision, factor min: 1.0 max: 1.0\n"
     ]
    },
    {
     "name": "stderr",
     "output_type": "stream",
     "text": [
      "/scratch1/BMC/rcm2/mbruckner/miniconda/envs/mm_develop/lib/python3.11/site-packages/xesmf/frontend.py:718: UserWarning: Using dimensions ('y', 'x') from data variable nitrogendioxide_tropospheric_column as the horizontal dimensions for the regridding.\n",
      "  warnings.warn(\n"
     ]
    },
    {
     "name": "stderr",
     "output_type": "stream",
     "text": [
      "/scratch1/BMC/rcm2/mbruckner/miniconda/envs/mm_develop/lib/python3.11/site-packages/xesmf/frontend.py:718: UserWarning: Using dimensions ('y', 'x') from data variable pres_pa_mid as the horizontal dimensions for the regridding.\n",
      "  warnings.warn(\n"
     ]
    },
    {
     "name": "stderr",
     "output_type": "stream",
     "text": [
      "/scratch1/BMC/rcm2/mbruckner/melodies_monet/MELODIES-MONET/melodies_monet/util/sat_l2_swath_utility.py:253: RuntimeWarning: divide by zero encountered in log10\n",
      "  f = interpolate.interp1d(np.log10(vertical_pres[:]),vertical_scatw[:], fill_value=\"extrapolate\")# relationship between pressure to avk\n"
     ]
    },
    {
     "name": "stderr",
     "output_type": "stream",
     "text": [
      "/scratch1/BMC/rcm2/mbruckner/melodies_monet/MELODIES-MONET/melodies_monet/util/sat_l2_swath_utility.py:279: RuntimeWarning: invalid value encountered in divide\n",
      "  amf_wrfchem = nume / deno * tamf_org\n"
     ]
    },
    {
     "name": "stdout",
     "output_type": "stream",
     "text": [
      "Done with Averaging Kernel revision, factor min: 1.0 max: 1.0\n"
     ]
    },
    {
     "name": "stderr",
     "output_type": "stream",
     "text": [
      "/scratch1/BMC/rcm2/mbruckner/miniconda/envs/mm_develop/lib/python3.11/site-packages/xesmf/frontend.py:718: UserWarning: Using dimensions ('y', 'x') from data variable nitrogendioxide_tropospheric_column as the horizontal dimensions for the regridding.\n",
      "  warnings.warn(\n"
     ]
    },
    {
     "name": "stderr",
     "output_type": "stream",
     "text": [
      "/scratch1/BMC/rcm2/mbruckner/miniconda/envs/mm_develop/lib/python3.11/site-packages/xesmf/frontend.py:718: UserWarning: Using dimensions ('y', 'x') from data variable pres_pa_mid as the horizontal dimensions for the regridding.\n",
      "  warnings.warn(\n"
     ]
    },
    {
     "name": "stderr",
     "output_type": "stream",
     "text": [
      "/scratch1/BMC/rcm2/mbruckner/melodies_monet/MELODIES-MONET/melodies_monet/util/sat_l2_swath_utility.py:253: RuntimeWarning: divide by zero encountered in log10\n",
      "  f = interpolate.interp1d(np.log10(vertical_pres[:]),vertical_scatw[:], fill_value=\"extrapolate\")# relationship between pressure to avk\n"
     ]
    },
    {
     "name": "stderr",
     "output_type": "stream",
     "text": [
      "/scratch1/BMC/rcm2/mbruckner/melodies_monet/MELODIES-MONET/melodies_monet/util/sat_l2_swath_utility.py:279: RuntimeWarning: invalid value encountered in divide\n",
      "  amf_wrfchem = nume / deno * tamf_org\n"
     ]
    },
    {
     "name": "stdout",
     "output_type": "stream",
     "text": [
      "Done with Averaging Kernel revision, factor min: 1.0 max: 1.0\n"
     ]
    },
    {
     "name": "stderr",
     "output_type": "stream",
     "text": [
      "/scratch1/BMC/rcm2/mbruckner/miniconda/envs/mm_develop/lib/python3.11/site-packages/xesmf/frontend.py:718: UserWarning: Using dimensions ('y', 'x') from data variable nitrogendioxide_tropospheric_column as the horizontal dimensions for the regridding.\n",
      "  warnings.warn(\n"
     ]
    },
    {
     "name": "stderr",
     "output_type": "stream",
     "text": [
      "/scratch1/BMC/rcm2/mbruckner/miniconda/envs/mm_develop/lib/python3.11/site-packages/xesmf/frontend.py:718: UserWarning: Using dimensions ('y', 'x') from data variable pres_pa_mid as the horizontal dimensions for the regridding.\n",
      "  warnings.warn(\n"
     ]
    },
    {
     "name": "stderr",
     "output_type": "stream",
     "text": [
      "/scratch1/BMC/rcm2/mbruckner/melodies_monet/MELODIES-MONET/melodies_monet/util/sat_l2_swath_utility.py:253: RuntimeWarning: divide by zero encountered in log10\n",
      "  f = interpolate.interp1d(np.log10(vertical_pres[:]),vertical_scatw[:], fill_value=\"extrapolate\")# relationship between pressure to avk\n"
     ]
    },
    {
     "name": "stderr",
     "output_type": "stream",
     "text": [
      "/scratch1/BMC/rcm2/mbruckner/melodies_monet/MELODIES-MONET/melodies_monet/util/sat_l2_swath_utility.py:279: RuntimeWarning: invalid value encountered in divide\n",
      "  amf_wrfchem = nume / deno * tamf_org\n"
     ]
    },
    {
     "name": "stdout",
     "output_type": "stream",
     "text": [
      "Done with Averaging Kernel revision, factor min: 1.0 max: 1.0\n"
     ]
    },
    {
     "name": "stderr",
     "output_type": "stream",
     "text": [
      "/scratch1/BMC/rcm2/mbruckner/miniconda/envs/mm_develop/lib/python3.11/site-packages/xesmf/frontend.py:718: UserWarning: Using dimensions ('y', 'x') from data variable nitrogendioxide_tropospheric_column as the horizontal dimensions for the regridding.\n",
      "  warnings.warn(\n",
      "/scratch1/BMC/rcm2/mbruckner/melodies_monet/MELODIES-MONET/melodies_monet/util/sat_l2_swath_utility.py:205: RuntimeWarning: Mean of empty slice\n",
      "  no2_modgrid_avg['nitrogendioxide_tropospheric_column'][nd,:,:] = np.nanmean(np.where(no2_modgrid_all > 0.0, no2_modgrid_all, np.nan), axis=2)\n"
     ]
    },
    {
     "name": "stdout",
     "output_type": "stream",
     "text": [
      "Caution: model tropospheric NO2 column was calculated assuming the model top is the tropopause\n"
     ]
    },
    {
     "name": "stderr",
     "output_type": "stream",
     "text": [
      "/scratch1/BMC/rcm2/mbruckner/miniconda/envs/mm_develop/lib/python3.11/site-packages/xesmf/frontend.py:718: UserWarning: Using dimensions ('y', 'x') from data variable pres_pa_mid as the horizontal dimensions for the regridding.\n",
      "  warnings.warn(\n"
     ]
    },
    {
     "name": "stderr",
     "output_type": "stream",
     "text": [
      "/scratch1/BMC/rcm2/mbruckner/melodies_monet/MELODIES-MONET/melodies_monet/util/sat_l2_swath_utility.py:253: RuntimeWarning: divide by zero encountered in log10\n",
      "  f = interpolate.interp1d(np.log10(vertical_pres[:]),vertical_scatw[:], fill_value=\"extrapolate\")# relationship between pressure to avk\n"
     ]
    },
    {
     "name": "stdout",
     "output_type": "stream",
     "text": [
      "Done with Averaging Kernel revision, factor min: 0.39147124 max: 2.2175663\n"
     ]
    },
    {
     "name": "stderr",
     "output_type": "stream",
     "text": [
      "/scratch1/BMC/rcm2/mbruckner/miniconda/envs/mm_develop/lib/python3.11/site-packages/xesmf/frontend.py:718: UserWarning: Using dimensions ('y', 'x') from data variable nitrogendioxide_tropospheric_column as the horizontal dimensions for the regridding.\n",
      "  warnings.warn(\n"
     ]
    },
    {
     "name": "stderr",
     "output_type": "stream",
     "text": [
      "/scratch1/BMC/rcm2/mbruckner/miniconda/envs/mm_develop/lib/python3.11/site-packages/xesmf/frontend.py:718: UserWarning: Using dimensions ('y', 'x') from data variable pres_pa_mid as the horizontal dimensions for the regridding.\n",
      "  warnings.warn(\n"
     ]
    },
    {
     "name": "stderr",
     "output_type": "stream",
     "text": [
      "/scratch1/BMC/rcm2/mbruckner/melodies_monet/MELODIES-MONET/melodies_monet/util/sat_l2_swath_utility.py:253: RuntimeWarning: divide by zero encountered in log10\n",
      "  f = interpolate.interp1d(np.log10(vertical_pres[:]),vertical_scatw[:], fill_value=\"extrapolate\")# relationship between pressure to avk\n",
      "/scratch1/BMC/rcm2/mbruckner/melodies_monet/MELODIES-MONET/melodies_monet/util/sat_l2_swath_utility.py:279: RuntimeWarning: invalid value encountered in divide\n",
      "  amf_wrfchem = nume / deno * tamf_org\n"
     ]
    },
    {
     "name": "stdout",
     "output_type": "stream",
     "text": [
      "Done with Averaging Kernel revision, factor min: 1.0 max: 1.0\n"
     ]
    },
    {
     "name": "stderr",
     "output_type": "stream",
     "text": [
      "/scratch1/BMC/rcm2/mbruckner/miniconda/envs/mm_develop/lib/python3.11/site-packages/xesmf/frontend.py:718: UserWarning: Using dimensions ('y', 'x') from data variable nitrogendioxide_tropospheric_column as the horizontal dimensions for the regridding.\n",
      "  warnings.warn(\n"
     ]
    },
    {
     "name": "stderr",
     "output_type": "stream",
     "text": [
      "/scratch1/BMC/rcm2/mbruckner/miniconda/envs/mm_develop/lib/python3.11/site-packages/xesmf/frontend.py:718: UserWarning: Using dimensions ('y', 'x') from data variable pres_pa_mid as the horizontal dimensions for the regridding.\n",
      "  warnings.warn(\n"
     ]
    },
    {
     "name": "stdout",
     "output_type": "stream",
     "text": [
      "Caution: There are no observations within the model domain\n"
     ]
    },
    {
     "name": "stdout",
     "output_type": "stream",
     "text": [
      "Done with Averaging Kernel revision, factor min: 1.0 max: 1.0\n"
     ]
    },
    {
     "name": "stderr",
     "output_type": "stream",
     "text": [
      "/scratch1/BMC/rcm2/mbruckner/miniconda/envs/mm_develop/lib/python3.11/site-packages/xesmf/frontend.py:718: UserWarning: Using dimensions ('y', 'x') from data variable nitrogendioxide_tropospheric_column as the horizontal dimensions for the regridding.\n",
      "  warnings.warn(\n"
     ]
    },
    {
     "name": "stderr",
     "output_type": "stream",
     "text": [
      "/scratch1/BMC/rcm2/mbruckner/miniconda/envs/mm_develop/lib/python3.11/site-packages/xesmf/frontend.py:718: UserWarning: Using dimensions ('y', 'x') from data variable pres_pa_mid as the horizontal dimensions for the regridding.\n",
      "  warnings.warn(\n"
     ]
    },
    {
     "name": "stdout",
     "output_type": "stream",
     "text": [
      "Caution: There are no observations within the model domain\n"
     ]
    },
    {
     "name": "stdout",
     "output_type": "stream",
     "text": [
      "Done with Averaging Kernel revision, factor min: 1.0 max: 1.0\n"
     ]
    },
    {
     "name": "stderr",
     "output_type": "stream",
     "text": [
      "/scratch1/BMC/rcm2/mbruckner/miniconda/envs/mm_develop/lib/python3.11/site-packages/xesmf/frontend.py:718: UserWarning: Using dimensions ('y', 'x') from data variable nitrogendioxide_tropospheric_column as the horizontal dimensions for the regridding.\n",
      "  warnings.warn(\n"
     ]
    },
    {
     "name": "stderr",
     "output_type": "stream",
     "text": [
      "/scratch1/BMC/rcm2/mbruckner/miniconda/envs/mm_develop/lib/python3.11/site-packages/xesmf/frontend.py:718: UserWarning: Using dimensions ('y', 'x') from data variable pres_pa_mid as the horizontal dimensions for the regridding.\n",
      "  warnings.warn(\n"
     ]
    },
    {
     "name": "stdout",
     "output_type": "stream",
     "text": [
      "Caution: There are no observations within the model domain\n"
     ]
    },
    {
     "name": "stdout",
     "output_type": "stream",
     "text": [
      "Done with Averaging Kernel revision, factor min: 1.0 max: 1.0\n"
     ]
    },
    {
     "name": "stderr",
     "output_type": "stream",
     "text": [
      "/scratch1/BMC/rcm2/mbruckner/miniconda/envs/mm_develop/lib/python3.11/site-packages/xesmf/frontend.py:718: UserWarning: Using dimensions ('y', 'x') from data variable nitrogendioxide_tropospheric_column as the horizontal dimensions for the regridding.\n",
      "  warnings.warn(\n"
     ]
    },
    {
     "name": "stderr",
     "output_type": "stream",
     "text": [
      "/scratch1/BMC/rcm2/mbruckner/miniconda/envs/mm_develop/lib/python3.11/site-packages/xesmf/frontend.py:718: UserWarning: Using dimensions ('y', 'x') from data variable pres_pa_mid as the horizontal dimensions for the regridding.\n",
      "  warnings.warn(\n"
     ]
    },
    {
     "name": "stdout",
     "output_type": "stream",
     "text": [
      "Caution: There are no observations within the model domain\n"
     ]
    },
    {
     "name": "stdout",
     "output_type": "stream",
     "text": [
      "Done with Averaging Kernel revision, factor min: 1.0 max: 1.0\n"
     ]
    },
    {
     "name": "stderr",
     "output_type": "stream",
     "text": [
      "/scratch1/BMC/rcm2/mbruckner/miniconda/envs/mm_develop/lib/python3.11/site-packages/xesmf/frontend.py:718: UserWarning: Using dimensions ('y', 'x') from data variable nitrogendioxide_tropospheric_column as the horizontal dimensions for the regridding.\n",
      "  warnings.warn(\n"
     ]
    },
    {
     "name": "stderr",
     "output_type": "stream",
     "text": [
      "/scratch1/BMC/rcm2/mbruckner/miniconda/envs/mm_develop/lib/python3.11/site-packages/xesmf/frontend.py:718: UserWarning: Using dimensions ('y', 'x') from data variable pres_pa_mid as the horizontal dimensions for the regridding.\n",
      "  warnings.warn(\n"
     ]
    },
    {
     "name": "stderr",
     "output_type": "stream",
     "text": [
      "/scratch1/BMC/rcm2/mbruckner/melodies_monet/MELODIES-MONET/melodies_monet/util/sat_l2_swath_utility.py:253: RuntimeWarning: divide by zero encountered in log10\n",
      "  f = interpolate.interp1d(np.log10(vertical_pres[:]),vertical_scatw[:], fill_value=\"extrapolate\")# relationship between pressure to avk\n"
     ]
    },
    {
     "name": "stdout",
     "output_type": "stream",
     "text": [
      "Done with Averaging Kernel revision, factor min: 1.0 max: 1.0\n"
     ]
    },
    {
     "name": "stderr",
     "output_type": "stream",
     "text": [
      "/scratch1/BMC/rcm2/mbruckner/miniconda/envs/mm_develop/lib/python3.11/site-packages/xesmf/frontend.py:718: UserWarning: Using dimensions ('y', 'x') from data variable nitrogendioxide_tropospheric_column as the horizontal dimensions for the regridding.\n",
      "  warnings.warn(\n"
     ]
    },
    {
     "name": "stderr",
     "output_type": "stream",
     "text": [
      "/scratch1/BMC/rcm2/mbruckner/miniconda/envs/mm_develop/lib/python3.11/site-packages/xesmf/frontend.py:718: UserWarning: Using dimensions ('y', 'x') from data variable pres_pa_mid as the horizontal dimensions for the regridding.\n",
      "  warnings.warn(\n"
     ]
    },
    {
     "name": "stderr",
     "output_type": "stream",
     "text": [
      "/scratch1/BMC/rcm2/mbruckner/melodies_monet/MELODIES-MONET/melodies_monet/util/sat_l2_swath_utility.py:253: RuntimeWarning: divide by zero encountered in log10\n",
      "  f = interpolate.interp1d(np.log10(vertical_pres[:]),vertical_scatw[:], fill_value=\"extrapolate\")# relationship between pressure to avk\n"
     ]
    },
    {
     "name": "stdout",
     "output_type": "stream",
     "text": [
      "Done with Averaging Kernel revision, factor min: 0.357192 max: 1.3992068\n"
     ]
    },
    {
     "name": "stderr",
     "output_type": "stream",
     "text": [
      "/scratch1/BMC/rcm2/mbruckner/miniconda/envs/mm_develop/lib/python3.11/site-packages/xesmf/frontend.py:718: UserWarning: Using dimensions ('y', 'x') from data variable nitrogendioxide_tropospheric_column as the horizontal dimensions for the regridding.\n",
      "  warnings.warn(\n"
     ]
    },
    {
     "name": "stderr",
     "output_type": "stream",
     "text": [
      "/scratch1/BMC/rcm2/mbruckner/miniconda/envs/mm_develop/lib/python3.11/site-packages/xesmf/frontend.py:718: UserWarning: Using dimensions ('y', 'x') from data variable pres_pa_mid as the horizontal dimensions for the regridding.\n",
      "  warnings.warn(\n"
     ]
    },
    {
     "name": "stderr",
     "output_type": "stream",
     "text": [
      "/scratch1/BMC/rcm2/mbruckner/melodies_monet/MELODIES-MONET/melodies_monet/util/sat_l2_swath_utility.py:253: RuntimeWarning: divide by zero encountered in log10\n",
      "  f = interpolate.interp1d(np.log10(vertical_pres[:]),vertical_scatw[:], fill_value=\"extrapolate\")# relationship between pressure to avk\n"
     ]
    },
    {
     "name": "stdout",
     "output_type": "stream",
     "text": [
      "Done with Averaging Kernel revision, factor min: 0.3873546 max: 1.5893338\n"
     ]
    },
    {
     "name": "stderr",
     "output_type": "stream",
     "text": [
      "/scratch1/BMC/rcm2/mbruckner/miniconda/envs/mm_develop/lib/python3.11/site-packages/xesmf/frontend.py:718: UserWarning: Using dimensions ('y', 'x') from data variable nitrogendioxide_tropospheric_column as the horizontal dimensions for the regridding.\n",
      "  warnings.warn(\n"
     ]
    },
    {
     "name": "stderr",
     "output_type": "stream",
     "text": [
      "/scratch1/BMC/rcm2/mbruckner/miniconda/envs/mm_develop/lib/python3.11/site-packages/xesmf/frontend.py:718: UserWarning: Using dimensions ('y', 'x') from data variable pres_pa_mid as the horizontal dimensions for the regridding.\n",
      "  warnings.warn(\n"
     ]
    },
    {
     "name": "stderr",
     "output_type": "stream",
     "text": [
      "/scratch1/BMC/rcm2/mbruckner/melodies_monet/MELODIES-MONET/melodies_monet/util/sat_l2_swath_utility.py:253: RuntimeWarning: divide by zero encountered in log10\n",
      "  f = interpolate.interp1d(np.log10(vertical_pres[:]),vertical_scatw[:], fill_value=\"extrapolate\")# relationship between pressure to avk\n"
     ]
    },
    {
     "name": "stdout",
     "output_type": "stream",
     "text": [
      "Done with Averaging Kernel revision, factor min: 0.37730467 max: 1.0173821\n"
     ]
    },
    {
     "name": "stderr",
     "output_type": "stream",
     "text": [
      "/scratch1/BMC/rcm2/mbruckner/miniconda/envs/mm_develop/lib/python3.11/site-packages/xesmf/frontend.py:718: UserWarning: Using dimensions ('y', 'x') from data variable nitrogendioxide_tropospheric_column as the horizontal dimensions for the regridding.\n",
      "  warnings.warn(\n"
     ]
    },
    {
     "name": "stderr",
     "output_type": "stream",
     "text": [
      "/scratch1/BMC/rcm2/mbruckner/miniconda/envs/mm_develop/lib/python3.11/site-packages/xesmf/frontend.py:718: UserWarning: Using dimensions ('y', 'x') from data variable pres_pa_mid as the horizontal dimensions for the regridding.\n",
      "  warnings.warn(\n"
     ]
    },
    {
     "name": "stderr",
     "output_type": "stream",
     "text": [
      "/scratch1/BMC/rcm2/mbruckner/melodies_monet/MELODIES-MONET/melodies_monet/util/sat_l2_swath_utility.py:253: RuntimeWarning: divide by zero encountered in log10\n",
      "  f = interpolate.interp1d(np.log10(vertical_pres[:]),vertical_scatw[:], fill_value=\"extrapolate\")# relationship between pressure to avk\n"
     ]
    },
    {
     "name": "stdout",
     "output_type": "stream",
     "text": [
      "Done with Averaging Kernel revision, factor min: 0.54421586 max: 1.0\n"
     ]
    },
    {
     "name": "stderr",
     "output_type": "stream",
     "text": [
      "/scratch1/BMC/rcm2/mbruckner/miniconda/envs/mm_develop/lib/python3.11/site-packages/xesmf/frontend.py:718: UserWarning: Using dimensions ('y', 'x') from data variable nitrogendioxide_tropospheric_column as the horizontal dimensions for the regridding.\n",
      "  warnings.warn(\n"
     ]
    },
    {
     "name": "stderr",
     "output_type": "stream",
     "text": [
      "/scratch1/BMC/rcm2/mbruckner/miniconda/envs/mm_develop/lib/python3.11/site-packages/xesmf/frontend.py:718: UserWarning: Using dimensions ('y', 'x') from data variable pres_pa_mid as the horizontal dimensions for the regridding.\n",
      "  warnings.warn(\n"
     ]
    },
    {
     "name": "stderr",
     "output_type": "stream",
     "text": [
      "/scratch1/BMC/rcm2/mbruckner/melodies_monet/MELODIES-MONET/melodies_monet/util/sat_l2_swath_utility.py:253: RuntimeWarning: divide by zero encountered in log10\n",
      "  f = interpolate.interp1d(np.log10(vertical_pres[:]),vertical_scatw[:], fill_value=\"extrapolate\")# relationship between pressure to avk\n"
     ]
    },
    {
     "name": "stdout",
     "output_type": "stream",
     "text": [
      "Done with Averaging Kernel revision, factor min: 0.4941474 max: 1.0\n"
     ]
    },
    {
     "name": "stderr",
     "output_type": "stream",
     "text": [
      "/scratch1/BMC/rcm2/mbruckner/miniconda/envs/mm_develop/lib/python3.11/site-packages/xesmf/frontend.py:718: UserWarning: Using dimensions ('y', 'x') from data variable nitrogendioxide_tropospheric_column as the horizontal dimensions for the regridding.\n",
      "  warnings.warn(\n"
     ]
    },
    {
     "name": "stderr",
     "output_type": "stream",
     "text": [
      "/scratch1/BMC/rcm2/mbruckner/miniconda/envs/mm_develop/lib/python3.11/site-packages/xesmf/frontend.py:718: UserWarning: Using dimensions ('y', 'x') from data variable pres_pa_mid as the horizontal dimensions for the regridding.\n",
      "  warnings.warn(\n"
     ]
    },
    {
     "name": "stderr",
     "output_type": "stream",
     "text": [
      "/scratch1/BMC/rcm2/mbruckner/melodies_monet/MELODIES-MONET/melodies_monet/util/sat_l2_swath_utility.py:253: RuntimeWarning: divide by zero encountered in log10\n",
      "  f = interpolate.interp1d(np.log10(vertical_pres[:]),vertical_scatw[:], fill_value=\"extrapolate\")# relationship between pressure to avk\n"
     ]
    },
    {
     "name": "stdout",
     "output_type": "stream",
     "text": [
      "Done with Averaging Kernel revision, factor min: 0.53563094 max: 1.1361331\n"
     ]
    },
    {
     "name": "stderr",
     "output_type": "stream",
     "text": [
      "/scratch1/BMC/rcm2/mbruckner/miniconda/envs/mm_develop/lib/python3.11/site-packages/xesmf/frontend.py:718: UserWarning: Using dimensions ('y', 'x') from data variable nitrogendioxide_tropospheric_column as the horizontal dimensions for the regridding.\n",
      "  warnings.warn(\n"
     ]
    },
    {
     "name": "stderr",
     "output_type": "stream",
     "text": [
      "/scratch1/BMC/rcm2/mbruckner/miniconda/envs/mm_develop/lib/python3.11/site-packages/xesmf/frontend.py:718: UserWarning: Using dimensions ('y', 'x') from data variable pres_pa_mid as the horizontal dimensions for the regridding.\n",
      "  warnings.warn(\n"
     ]
    },
    {
     "name": "stderr",
     "output_type": "stream",
     "text": [
      "/scratch1/BMC/rcm2/mbruckner/melodies_monet/MELODIES-MONET/melodies_monet/util/sat_l2_swath_utility.py:253: RuntimeWarning: divide by zero encountered in log10\n",
      "  f = interpolate.interp1d(np.log10(vertical_pres[:]),vertical_scatw[:], fill_value=\"extrapolate\")# relationship between pressure to avk\n"
     ]
    },
    {
     "name": "stdout",
     "output_type": "stream",
     "text": [
      "Done with Averaging Kernel revision, factor min: 0.10845069 max: 1.2944041\n"
     ]
    },
    {
     "name": "stderr",
     "output_type": "stream",
     "text": [
      "/scratch1/BMC/rcm2/mbruckner/miniconda/envs/mm_develop/lib/python3.11/site-packages/xesmf/frontend.py:718: UserWarning: Using dimensions ('y', 'x') from data variable nitrogendioxide_tropospheric_column as the horizontal dimensions for the regridding.\n",
      "  warnings.warn(\n",
      "/scratch1/BMC/rcm2/mbruckner/melodies_monet/MELODIES-MONET/melodies_monet/util/sat_l2_swath_utility.py:205: RuntimeWarning: Mean of empty slice\n",
      "  no2_modgrid_avg['nitrogendioxide_tropospheric_column'][nd,:,:] = np.nanmean(np.where(no2_modgrid_all > 0.0, no2_modgrid_all, np.nan), axis=2)\n"
     ]
    },
    {
     "name": "stdout",
     "output_type": "stream",
     "text": [
      "Caution: model tropospheric NO2 column was calculated assuming the model top is the tropopause\n"
     ]
    },
    {
     "name": "stderr",
     "output_type": "stream",
     "text": [
      "/scratch1/BMC/rcm2/mbruckner/miniconda/envs/mm_develop/lib/python3.11/site-packages/xesmf/frontend.py:718: UserWarning: Using dimensions ('y', 'x') from data variable pres_pa_mid as the horizontal dimensions for the regridding.\n",
      "  warnings.warn(\n"
     ]
    },
    {
     "name": "stderr",
     "output_type": "stream",
     "text": [
      "/scratch1/BMC/rcm2/mbruckner/melodies_monet/MELODIES-MONET/melodies_monet/util/sat_l2_swath_utility.py:253: RuntimeWarning: divide by zero encountered in log10\n",
      "  f = interpolate.interp1d(np.log10(vertical_pres[:]),vertical_scatw[:], fill_value=\"extrapolate\")# relationship between pressure to avk\n"
     ]
    },
    {
     "name": "stdout",
     "output_type": "stream",
     "text": [
      "Done with Averaging Kernel revision, factor min: 0.057877235 max: 3.0828967\n"
     ]
    },
    {
     "name": "stderr",
     "output_type": "stream",
     "text": [
      "/scratch1/BMC/rcm2/mbruckner/miniconda/envs/mm_develop/lib/python3.11/site-packages/xesmf/frontend.py:718: UserWarning: Using dimensions ('y', 'x') from data variable nitrogendioxide_tropospheric_column as the horizontal dimensions for the regridding.\n",
      "  warnings.warn(\n"
     ]
    },
    {
     "name": "stderr",
     "output_type": "stream",
     "text": [
      "/scratch1/BMC/rcm2/mbruckner/miniconda/envs/mm_develop/lib/python3.11/site-packages/xesmf/frontend.py:718: UserWarning: Using dimensions ('y', 'x') from data variable pres_pa_mid as the horizontal dimensions for the regridding.\n",
      "  warnings.warn(\n"
     ]
    },
    {
     "name": "stderr",
     "output_type": "stream",
     "text": [
      "/scratch1/BMC/rcm2/mbruckner/melodies_monet/MELODIES-MONET/melodies_monet/util/sat_l2_swath_utility.py:253: RuntimeWarning: divide by zero encountered in log10\n",
      "  f = interpolate.interp1d(np.log10(vertical_pres[:]),vertical_scatw[:], fill_value=\"extrapolate\")# relationship between pressure to avk\n"
     ]
    },
    {
     "name": "stdout",
     "output_type": "stream",
     "text": [
      "Done with Averaging Kernel revision, factor min: 0.85305476 max: 2.3928957\n"
     ]
    },
    {
     "name": "stderr",
     "output_type": "stream",
     "text": [
      "/scratch1/BMC/rcm2/mbruckner/miniconda/envs/mm_develop/lib/python3.11/site-packages/xesmf/frontend.py:718: UserWarning: Using dimensions ('y', 'x') from data variable nitrogendioxide_tropospheric_column as the horizontal dimensions for the regridding.\n",
      "  warnings.warn(\n"
     ]
    },
    {
     "name": "stderr",
     "output_type": "stream",
     "text": [
      "/scratch1/BMC/rcm2/mbruckner/miniconda/envs/mm_develop/lib/python3.11/site-packages/xesmf/frontend.py:718: UserWarning: Using dimensions ('y', 'x') from data variable pres_pa_mid as the horizontal dimensions for the regridding.\n",
      "  warnings.warn(\n"
     ]
    },
    {
     "name": "stdout",
     "output_type": "stream",
     "text": [
      "Caution: There are no observations within the model domain\n"
     ]
    },
    {
     "name": "stdout",
     "output_type": "stream",
     "text": [
      "Done with Averaging Kernel revision, factor min: 1.0 max: 1.0\n"
     ]
    },
    {
     "name": "stderr",
     "output_type": "stream",
     "text": [
      "/scratch1/BMC/rcm2/mbruckner/miniconda/envs/mm_develop/lib/python3.11/site-packages/xesmf/frontend.py:718: UserWarning: Using dimensions ('y', 'x') from data variable nitrogendioxide_tropospheric_column as the horizontal dimensions for the regridding.\n",
      "  warnings.warn(\n"
     ]
    },
    {
     "name": "stderr",
     "output_type": "stream",
     "text": [
      "/scratch1/BMC/rcm2/mbruckner/miniconda/envs/mm_develop/lib/python3.11/site-packages/xesmf/frontend.py:718: UserWarning: Using dimensions ('y', 'x') from data variable pres_pa_mid as the horizontal dimensions for the regridding.\n",
      "  warnings.warn(\n"
     ]
    },
    {
     "name": "stdout",
     "output_type": "stream",
     "text": [
      "Caution: There are no observations within the model domain\n"
     ]
    },
    {
     "name": "stdout",
     "output_type": "stream",
     "text": [
      "Done with Averaging Kernel revision, factor min: 1.0 max: 1.0\n"
     ]
    },
    {
     "name": "stderr",
     "output_type": "stream",
     "text": [
      "/scratch1/BMC/rcm2/mbruckner/miniconda/envs/mm_develop/lib/python3.11/site-packages/xesmf/frontend.py:718: UserWarning: Using dimensions ('y', 'x') from data variable nitrogendioxide_tropospheric_column as the horizontal dimensions for the regridding.\n",
      "  warnings.warn(\n"
     ]
    },
    {
     "name": "stderr",
     "output_type": "stream",
     "text": [
      "/scratch1/BMC/rcm2/mbruckner/miniconda/envs/mm_develop/lib/python3.11/site-packages/xesmf/frontend.py:718: UserWarning: Using dimensions ('y', 'x') from data variable pres_pa_mid as the horizontal dimensions for the regridding.\n",
      "  warnings.warn(\n"
     ]
    },
    {
     "name": "stdout",
     "output_type": "stream",
     "text": [
      "Caution: There are no observations within the model domain\n"
     ]
    },
    {
     "name": "stdout",
     "output_type": "stream",
     "text": [
      "Done with Averaging Kernel revision, factor min: 1.0 max: 1.0\n"
     ]
    },
    {
     "name": "stderr",
     "output_type": "stream",
     "text": [
      "/scratch1/BMC/rcm2/mbruckner/miniconda/envs/mm_develop/lib/python3.11/site-packages/xesmf/frontend.py:718: UserWarning: Using dimensions ('y', 'x') from data variable nitrogendioxide_tropospheric_column as the horizontal dimensions for the regridding.\n",
      "  warnings.warn(\n"
     ]
    },
    {
     "name": "stderr",
     "output_type": "stream",
     "text": [
      "/scratch1/BMC/rcm2/mbruckner/miniconda/envs/mm_develop/lib/python3.11/site-packages/xesmf/frontend.py:718: UserWarning: Using dimensions ('y', 'x') from data variable pres_pa_mid as the horizontal dimensions for the regridding.\n",
      "  warnings.warn(\n"
     ]
    },
    {
     "name": "stdout",
     "output_type": "stream",
     "text": [
      "Caution: There are no observations within the model domain\n"
     ]
    },
    {
     "name": "stdout",
     "output_type": "stream",
     "text": [
      "Done with Averaging Kernel revision, factor min: 1.0 max: 1.0\n"
     ]
    },
    {
     "name": "stderr",
     "output_type": "stream",
     "text": [
      "/scratch1/BMC/rcm2/mbruckner/miniconda/envs/mm_develop/lib/python3.11/site-packages/xesmf/frontend.py:718: UserWarning: Using dimensions ('y', 'x') from data variable nitrogendioxide_tropospheric_column as the horizontal dimensions for the regridding.\n",
      "  warnings.warn(\n"
     ]
    },
    {
     "name": "stderr",
     "output_type": "stream",
     "text": [
      "/scratch1/BMC/rcm2/mbruckner/miniconda/envs/mm_develop/lib/python3.11/site-packages/xesmf/frontend.py:718: UserWarning: Using dimensions ('y', 'x') from data variable pres_pa_mid as the horizontal dimensions for the regridding.\n",
      "  warnings.warn(\n"
     ]
    },
    {
     "name": "stderr",
     "output_type": "stream",
     "text": [
      "/scratch1/BMC/rcm2/mbruckner/melodies_monet/MELODIES-MONET/melodies_monet/util/sat_l2_swath_utility.py:253: RuntimeWarning: divide by zero encountered in log10\n",
      "  f = interpolate.interp1d(np.log10(vertical_pres[:]),vertical_scatw[:], fill_value=\"extrapolate\")# relationship between pressure to avk\n"
     ]
    },
    {
     "name": "stdout",
     "output_type": "stream",
     "text": [
      "Done with Averaging Kernel revision, factor min: 1.0 max: 1.0\n"
     ]
    },
    {
     "name": "stderr",
     "output_type": "stream",
     "text": [
      "/scratch1/BMC/rcm2/mbruckner/miniconda/envs/mm_develop/lib/python3.11/site-packages/xesmf/frontend.py:718: UserWarning: Using dimensions ('y', 'x') from data variable nitrogendioxide_tropospheric_column as the horizontal dimensions for the regridding.\n",
      "  warnings.warn(\n"
     ]
    },
    {
     "name": "stderr",
     "output_type": "stream",
     "text": [
      "/scratch1/BMC/rcm2/mbruckner/miniconda/envs/mm_develop/lib/python3.11/site-packages/xesmf/frontend.py:718: UserWarning: Using dimensions ('y', 'x') from data variable pres_pa_mid as the horizontal dimensions for the regridding.\n",
      "  warnings.warn(\n"
     ]
    },
    {
     "name": "stderr",
     "output_type": "stream",
     "text": [
      "/scratch1/BMC/rcm2/mbruckner/melodies_monet/MELODIES-MONET/melodies_monet/util/sat_l2_swath_utility.py:253: RuntimeWarning: divide by zero encountered in log10\n",
      "  f = interpolate.interp1d(np.log10(vertical_pres[:]),vertical_scatw[:], fill_value=\"extrapolate\")# relationship between pressure to avk\n"
     ]
    },
    {
     "name": "stdout",
     "output_type": "stream",
     "text": [
      "Done with Averaging Kernel revision, factor min: 0.7576647 max: 1.8718308\n"
     ]
    },
    {
     "name": "stderr",
     "output_type": "stream",
     "text": [
      "/scratch1/BMC/rcm2/mbruckner/miniconda/envs/mm_develop/lib/python3.11/site-packages/xesmf/frontend.py:718: UserWarning: Using dimensions ('y', 'x') from data variable nitrogendioxide_tropospheric_column as the horizontal dimensions for the regridding.\n",
      "  warnings.warn(\n"
     ]
    },
    {
     "name": "stderr",
     "output_type": "stream",
     "text": [
      "/scratch1/BMC/rcm2/mbruckner/miniconda/envs/mm_develop/lib/python3.11/site-packages/xesmf/frontend.py:718: UserWarning: Using dimensions ('y', 'x') from data variable pres_pa_mid as the horizontal dimensions for the regridding.\n",
      "  warnings.warn(\n"
     ]
    },
    {
     "name": "stderr",
     "output_type": "stream",
     "text": [
      "/scratch1/BMC/rcm2/mbruckner/melodies_monet/MELODIES-MONET/melodies_monet/util/sat_l2_swath_utility.py:253: RuntimeWarning: divide by zero encountered in log10\n",
      "  f = interpolate.interp1d(np.log10(vertical_pres[:]),vertical_scatw[:], fill_value=\"extrapolate\")# relationship between pressure to avk\n"
     ]
    },
    {
     "name": "stdout",
     "output_type": "stream",
     "text": [
      "Done with Averaging Kernel revision, factor min: 0.06823995 max: 2.128507\n"
     ]
    },
    {
     "name": "stderr",
     "output_type": "stream",
     "text": [
      "/scratch1/BMC/rcm2/mbruckner/miniconda/envs/mm_develop/lib/python3.11/site-packages/xesmf/frontend.py:718: UserWarning: Using dimensions ('y', 'x') from data variable nitrogendioxide_tropospheric_column as the horizontal dimensions for the regridding.\n",
      "  warnings.warn(\n"
     ]
    },
    {
     "name": "stderr",
     "output_type": "stream",
     "text": [
      "/scratch1/BMC/rcm2/mbruckner/miniconda/envs/mm_develop/lib/python3.11/site-packages/xesmf/frontend.py:718: UserWarning: Using dimensions ('y', 'x') from data variable pres_pa_mid as the horizontal dimensions for the regridding.\n",
      "  warnings.warn(\n"
     ]
    },
    {
     "name": "stderr",
     "output_type": "stream",
     "text": [
      "/scratch1/BMC/rcm2/mbruckner/melodies_monet/MELODIES-MONET/melodies_monet/util/sat_l2_swath_utility.py:253: RuntimeWarning: divide by zero encountered in log10\n",
      "  f = interpolate.interp1d(np.log10(vertical_pres[:]),vertical_scatw[:], fill_value=\"extrapolate\")# relationship between pressure to avk\n"
     ]
    },
    {
     "name": "stdout",
     "output_type": "stream",
     "text": [
      "Done with Averaging Kernel revision, factor min: 0.5414037 max: 1.0359997\n"
     ]
    },
    {
     "name": "stderr",
     "output_type": "stream",
     "text": [
      "/scratch1/BMC/rcm2/mbruckner/miniconda/envs/mm_develop/lib/python3.11/site-packages/xesmf/frontend.py:718: UserWarning: Using dimensions ('y', 'x') from data variable nitrogendioxide_tropospheric_column as the horizontal dimensions for the regridding.\n",
      "  warnings.warn(\n"
     ]
    },
    {
     "name": "stderr",
     "output_type": "stream",
     "text": [
      "/scratch1/BMC/rcm2/mbruckner/miniconda/envs/mm_develop/lib/python3.11/site-packages/xesmf/frontend.py:718: UserWarning: Using dimensions ('y', 'x') from data variable pres_pa_mid as the horizontal dimensions for the regridding.\n",
      "  warnings.warn(\n"
     ]
    },
    {
     "name": "stderr",
     "output_type": "stream",
     "text": [
      "/scratch1/BMC/rcm2/mbruckner/melodies_monet/MELODIES-MONET/melodies_monet/util/sat_l2_swath_utility.py:253: RuntimeWarning: divide by zero encountered in log10\n",
      "  f = interpolate.interp1d(np.log10(vertical_pres[:]),vertical_scatw[:], fill_value=\"extrapolate\")# relationship between pressure to avk\n"
     ]
    },
    {
     "name": "stdout",
     "output_type": "stream",
     "text": [
      "Done with Averaging Kernel revision, factor min: 0.44554085 max: 1.0\n"
     ]
    },
    {
     "name": "stderr",
     "output_type": "stream",
     "text": [
      "/scratch1/BMC/rcm2/mbruckner/miniconda/envs/mm_develop/lib/python3.11/site-packages/xesmf/frontend.py:718: UserWarning: Using dimensions ('y', 'x') from data variable nitrogendioxide_tropospheric_column as the horizontal dimensions for the regridding.\n",
      "  warnings.warn(\n"
     ]
    },
    {
     "name": "stderr",
     "output_type": "stream",
     "text": [
      "/scratch1/BMC/rcm2/mbruckner/miniconda/envs/mm_develop/lib/python3.11/site-packages/xesmf/frontend.py:718: UserWarning: Using dimensions ('y', 'x') from data variable pres_pa_mid as the horizontal dimensions for the regridding.\n",
      "  warnings.warn(\n"
     ]
    },
    {
     "name": "stderr",
     "output_type": "stream",
     "text": [
      "/scratch1/BMC/rcm2/mbruckner/melodies_monet/MELODIES-MONET/melodies_monet/util/sat_l2_swath_utility.py:253: RuntimeWarning: divide by zero encountered in log10\n",
      "  f = interpolate.interp1d(np.log10(vertical_pres[:]),vertical_scatw[:], fill_value=\"extrapolate\")# relationship between pressure to avk\n"
     ]
    },
    {
     "name": "stdout",
     "output_type": "stream",
     "text": [
      "Done with Averaging Kernel revision, factor min: 0.45708573 max: 1.0\n"
     ]
    },
    {
     "name": "stderr",
     "output_type": "stream",
     "text": [
      "/scratch1/BMC/rcm2/mbruckner/miniconda/envs/mm_develop/lib/python3.11/site-packages/xesmf/frontend.py:718: UserWarning: Using dimensions ('y', 'x') from data variable nitrogendioxide_tropospheric_column as the horizontal dimensions for the regridding.\n",
      "  warnings.warn(\n"
     ]
    },
    {
     "name": "stderr",
     "output_type": "stream",
     "text": [
      "/scratch1/BMC/rcm2/mbruckner/miniconda/envs/mm_develop/lib/python3.11/site-packages/xesmf/frontend.py:718: UserWarning: Using dimensions ('y', 'x') from data variable pres_pa_mid as the horizontal dimensions for the regridding.\n",
      "  warnings.warn(\n"
     ]
    },
    {
     "name": "stderr",
     "output_type": "stream",
     "text": [
      "/scratch1/BMC/rcm2/mbruckner/melodies_monet/MELODIES-MONET/melodies_monet/util/sat_l2_swath_utility.py:253: RuntimeWarning: divide by zero encountered in log10\n",
      "  f = interpolate.interp1d(np.log10(vertical_pres[:]),vertical_scatw[:], fill_value=\"extrapolate\")# relationship between pressure to avk\n"
     ]
    },
    {
     "name": "stdout",
     "output_type": "stream",
     "text": [
      "Done with Averaging Kernel revision, factor min: 0.49215016 max: 1.0\n"
     ]
    },
    {
     "name": "stderr",
     "output_type": "stream",
     "text": [
      "/scratch1/BMC/rcm2/mbruckner/miniconda/envs/mm_develop/lib/python3.11/site-packages/xesmf/frontend.py:718: UserWarning: Using dimensions ('y', 'x') from data variable nitrogendioxide_tropospheric_column as the horizontal dimensions for the regridding.\n",
      "  warnings.warn(\n"
     ]
    },
    {
     "name": "stderr",
     "output_type": "stream",
     "text": [
      "/scratch1/BMC/rcm2/mbruckner/miniconda/envs/mm_develop/lib/python3.11/site-packages/xesmf/frontend.py:718: UserWarning: Using dimensions ('y', 'x') from data variable pres_pa_mid as the horizontal dimensions for the regridding.\n",
      "  warnings.warn(\n"
     ]
    },
    {
     "name": "stderr",
     "output_type": "stream",
     "text": [
      "/scratch1/BMC/rcm2/mbruckner/melodies_monet/MELODIES-MONET/melodies_monet/util/sat_l2_swath_utility.py:253: RuntimeWarning: divide by zero encountered in log10\n",
      "  f = interpolate.interp1d(np.log10(vertical_pres[:]),vertical_scatw[:], fill_value=\"extrapolate\")# relationship between pressure to avk\n"
     ]
    },
    {
     "name": "stdout",
     "output_type": "stream",
     "text": [
      "Done with Averaging Kernel revision, factor min: 0.120709114 max: 1.384877\n"
     ]
    },
    {
     "name": "stderr",
     "output_type": "stream",
     "text": [
      "/scratch1/BMC/rcm2/mbruckner/miniconda/envs/mm_develop/lib/python3.11/site-packages/xesmf/frontend.py:718: UserWarning: Using dimensions ('y', 'x') from data variable nitrogendioxide_tropospheric_column as the horizontal dimensions for the regridding.\n",
      "  warnings.warn(\n",
      "/scratch1/BMC/rcm2/mbruckner/melodies_monet/MELODIES-MONET/melodies_monet/util/sat_l2_swath_utility.py:205: RuntimeWarning: Mean of empty slice\n",
      "  no2_modgrid_avg['nitrogendioxide_tropospheric_column'][nd,:,:] = np.nanmean(np.where(no2_modgrid_all > 0.0, no2_modgrid_all, np.nan), axis=2)\n"
     ]
    },
    {
     "data": {
      "text/plain": [
       "pair(\n",
       "    type='sat_swath_clm',\n",
       "    radius_of_influence=1000000.0,\n",
       "    obs='tropomi',\n",
       "    model='ufsaqm',\n",
       "    model_vars=['no2_ave'],\n",
       "    obs_vars=['nitrogendioxide_tropospheric_column'],\n",
       "    filename=None,\n",
       ")"
      ]
     },
     "execution_count": 6,
     "metadata": {},
     "output_type": "execute_result"
    }
   ],
   "source": [
    "an.pair_data()\n",
    "an.paired['tropomi_ufsaqm']"
   ]
  },
  {
   "cell_type": "markdown",
   "id": "4027cde3-bf3b-4493-aa0c-bf66f6ef3f41",
   "metadata": {},
   "source": [
    "### Generate Plots\n",
    "\n",
    "Generate plots as defined in yaml"
   ]
  },
  {
   "cell_type": "code",
   "execution_count": 7,
   "id": "8097c616-3d4c-4a49-a13f-25008d370d2e",
   "metadata": {
    "execution": {
     "iopub.execute_input": "2025-03-21T16:42:07.560974Z",
     "iopub.status.busy": "2025-03-21T16:42:07.552575Z",
     "iopub.status.idle": "2025-03-21T16:42:29.008039Z",
     "shell.execute_reply": "2025-03-21T16:42:29.006581Z"
    },
    "tags": []
   },
   "outputs": [
    {
     "name": "stdout",
     "output_type": "stream",
     "text": [
      "-1853039614885891.5 1853039614885891.5\n"
     ]
    },
    {
     "data": {
      "image/png": "[encoded data removed]",
      "text/plain": [
       "<Figure size 1000x500 with 2 Axes>"
      ]
     },
     "metadata": {},
     "output_type": "display_data"
    }
   ],
   "source": [
    "an.plotting()"
   ]
  }
 ],
 "metadata": {
  "kernelspec": {
   "display_name": "dev_monet",
   "language": "python",
   "name": "develop_monet"
  },
  "language_info": {
   "codemirror_mode": {
    "name": "ipython",
    "version": 3
   },
   "file_extension": ".py",
   "mimetype": "text/x-python",
   "name": "python",
   "nbconvert_exporter": "python",
   "pygments_lexer": "ipython3",
   "version": "3.11.8"
  }
 },
 "nbformat": 4,
 "nbformat_minor": 5
}

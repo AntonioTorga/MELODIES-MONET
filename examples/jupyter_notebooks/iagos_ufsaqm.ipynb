{
 "cells": [
  {
   "cell_type": "markdown",
   "id": "35411770-db20-4059-8842-568da48550e8",
   "metadata": {},
   "source": [
    "## Example for pairing IAGOS data with UFS-AQM\n",
    "\n",
    "This example demonstrates how to use MELODIES MONET to pair aircraft observations from IAGOS (https://www.iagos.org/) to model output from the UFS-AQM for a single flight. Loop pairing following the AEROMMA examples can be used.\n",
    "\n",
    "This example uses the flight timeseries IAGOS data rather than the profile data, though it will work with either format. There may be more than one IAGOS flight collecting data at a time and so right now it is recommended to set up the pairing to only process one flight at a time. Resulting from this potential time alignment, use of the plotting and statistics auto-generation tools for multiple flights is limited."
   ]
  },
  {
   "cell_type": "markdown",
   "id": "afe9cb3d-a4a0-4447-b4a7-95caea00cd4f",
   "metadata": {},
   "source": [
    "### First, import the driver and initiate the analysis class"
   ]
  },
  {
   "cell_type": "code",
   "execution_count": 1,
   "id": "48135223-1d9b-4e3b-9292-c33c2fe8f336",
   "metadata": {
    "execution": {
     "iopub.execute_input": "2025-02-03T20:58:06.233174Z",
     "iopub.status.busy": "2025-02-03T20:58:06.232932Z",
     "iopub.status.idle": "2025-02-03T20:59:04.594509Z",
     "shell.execute_reply": "2025-02-03T20:59:04.592146Z"
    }
   },
   "outputs": [
    {
     "name": "stdout",
     "output_type": "stream",
     "text": [
      "Please install h5netcdf to open files from the Amazon S3 servers.\n"
     ]
    }
   ],
   "source": [
    "from melodies_monet import driver\n",
    "\n",
    "an = driver.analysis()"
   ]
  },
  {
   "cell_type": "markdown",
   "id": "e795f540-8839-400e-a7e2-23ac5eea4e85",
   "metadata": {},
   "source": [
    "### Second, we read in a control file\n",
    "\n",
    "This control file must include renaming of some variables for both models and IAGOS observations. The model section should rename \"press_pa_mid\" to \"pressure_model\". The observation section should rename lat, lon, UTC_time, air_press_AC, and baro_alt_AC to the more standard names of \"latitude\", \"longitude\", \"time\", \"pressure_obs\", and \"altitude\"."
   ]
  },
  {
   "cell_type": "code",
   "execution_count": 2,
   "id": "a0b107a9-649f-4f37-9f64-1a5bc254788e",
   "metadata": {
    "execution": {
     "iopub.execute_input": "2025-02-03T20:59:04.598504Z",
     "iopub.status.busy": "2025-02-03T20:59:04.598331Z",
     "iopub.status.idle": "2025-02-03T20:59:04.647662Z",
     "shell.execute_reply": "2025-02-03T20:59:04.647169Z"
    }
   },
   "outputs": [],
   "source": [
    "an.control = '/scratch1/BMC/rcm2/mbruckner/melodies_monet/MELODIES-MONET/examples/yaml/control_iagos_AEROMMA_UFSAQM.yaml'\n",
    "an.read_control()"
   ]
  },
  {
   "cell_type": "markdown",
   "id": "04d06230-182b-463a-869c-f5cf2ca33cb5",
   "metadata": {},
   "source": [
    "### Load the model and observation data"
   ]
  },
  {
   "cell_type": "code",
   "execution_count": 3,
   "id": "09f85ff5-73e3-4720-bc4e-5f85d5b756d1",
   "metadata": {
    "execution": {
     "iopub.execute_input": "2025-02-03T20:59:04.649533Z",
     "iopub.status.busy": "2025-02-03T20:59:04.649175Z",
     "iopub.status.idle": "2025-02-03T21:02:04.296381Z",
     "shell.execute_reply": "2025-02-03T21:02:04.294060Z"
    }
   },
   "outputs": [
    {
     "name": "stdout",
     "output_type": "stream",
     "text": [
      "rrfs\n",
      "/scratch1/BMC/rcm2/rhs/monet_example/AEROMMA/UFS-AQM/cmaq54_OriRave1/aqm.202306*/12/aqm.t12z.dyn.*.nc\n",
      "**** Reading RRFS-CMAQ model output...\n"
     ]
    }
   ],
   "source": [
    "an.open_models()"
   ]
  },
  {
   "cell_type": "code",
   "execution_count": 4,
   "id": "cf2df737-a21f-47e5-afdc-b7cd4034475d",
   "metadata": {
    "execution": {
     "iopub.execute_input": "2025-02-03T21:02:04.300881Z",
     "iopub.status.busy": "2025-02-03T21:02:04.300572Z",
     "iopub.status.idle": "2025-02-03T21:02:04.722963Z",
     "shell.execute_reply": "2025-02-03T21:02:04.722104Z"
    }
   },
   "outputs": [],
   "source": [
    "an.open_obs()"
   ]
  },
  {
   "cell_type": "markdown",
   "id": "17eee5f0-f5ad-4e7a-8ce1-9bff845ee564",
   "metadata": {},
   "source": [
    "### Pair the observations and model data"
   ]
  },
  {
   "cell_type": "code",
   "execution_count": 5,
   "id": "7372f9ff-a1dc-47a9-bac5-9c503fda7b3d",
   "metadata": {
    "execution": {
     "iopub.execute_input": "2025-02-03T21:02:04.724861Z",
     "iopub.status.busy": "2025-02-03T21:02:04.724506Z",
     "iopub.status.idle": "2025-02-03T21:39:15.738755Z",
     "shell.execute_reply": "2025-02-03T21:39:15.738174Z"
    }
   },
   "outputs": [
    {
     "name": "stdout",
     "output_type": "stream",
     "text": [
      "1, in pair data\n"
     ]
    },
    {
     "name": "stdout",
     "output_type": "stream",
     "text": [
      "After pairing:        longitude  latitude  altitude                time  \\\n",
      "0     -157.9379   21.3068   -9999.9 2023-06-27 01:36:53   \n",
      "1     -157.9359   21.3068   -9999.9 2023-06-27 01:36:57   \n",
      "2     -157.9333   21.3066   -9999.9 2023-06-27 01:37:01   \n",
      "3     -157.9307   21.3066   -9999.9 2023-06-27 01:37:05   \n",
      "4     -157.9278   21.3066   -9999.9 2023-06-27 01:37:09   \n",
      "...         ...       ...       ...                 ...   \n",
      "5163  -111.9939   33.4309     413.6 2023-06-27 07:21:05   \n",
      "5164  -111.9970   33.4309     401.1 2023-06-27 07:21:09   \n",
      "5165  -112.0001   33.4309     394.1 2023-06-27 07:21:13   \n",
      "5166  -112.0030   33.4309     389.8 2023-06-27 07:21:17   \n",
      "5167  -112.0060   33.4309     389.5 2023-06-27 07:21:21   \n",
      "\n",
      "      baro_alt_AC_validity_flag  radio_alt_AC  radio_alt_AC_validity_flag  \\\n",
      "0                           0.0           1.2                         0.0   \n",
      "1                           0.0           1.2                         0.0   \n",
      "2                           0.0           1.2                         0.0   \n",
      "3                           0.0           1.2                         0.0   \n",
      "4                           0.0           1.2                         0.0   \n",
      "...                         ...           ...                         ...   \n",
      "5163                        0.0          13.5                         0.0   \n",
      "5164                        0.0           5.8                         0.0   \n",
      "5165                        0.0           3.4                         0.0   \n",
      "5166                        0.0           2.5                         0.0   \n",
      "5167                        0.0           1.7                         0.0   \n",
      "\n",
      "      gps_alt_AC  gps_alt_AC_validity_flag  pressure_obs  ...  O3_P1  \\\n",
      "0           27.4                       0.0      101630.0  ...    NaN   \n",
      "1           27.1                       0.0      101660.0  ...    NaN   \n",
      "2           26.5                       0.0      101690.0  ...    NaN   \n",
      "3           25.9                       0.0      101710.0  ...    NaN   \n",
      "4           25.6                       0.0      101770.0  ...    NaN   \n",
      "...          ...                       ...           ...  ...    ...   \n",
      "5163       366.7                       0.0       96450.0  ...    NaN   \n",
      "5164       357.8                       0.0       96600.0  ...    NaN   \n",
      "5165       355.1                       0.0       96670.0  ...    NaN   \n",
      "5166       351.1                       0.0       96720.0  ...    NaN   \n",
      "5167       348.4                       0.0       96730.0  ...    NaN   \n",
      "\n",
      "      O3_P1_error  O3_P1_validity_flag  O3_P1_process_flag  CO_P1  \\\n",
      "0             NaN                  7.0                 2.0    NaN   \n",
      "1             NaN                  7.0                 2.0    NaN   \n",
      "2             NaN                  7.0                 2.0    NaN   \n",
      "3             NaN                  7.0                 2.0    NaN   \n",
      "4             NaN                  7.0                 2.0    NaN   \n",
      "...           ...                  ...                 ...    ...   \n",
      "5163          NaN                  7.0                 2.0    NaN   \n",
      "5164          NaN                  7.0                 2.0    NaN   \n",
      "5165          NaN                  7.0                 2.0    NaN   \n",
      "5166          NaN                  7.0                 2.0    NaN   \n",
      "5167          NaN                  7.0                 2.0    NaN   \n",
      "\n",
      "      CO_P1_error  CO_P1_validity_flag  CO_P1_process_flag  co  temp_model  \n",
      "0             NaN                  7.0                 2.0 NaN         NaN  \n",
      "1             NaN                  7.0                 2.0 NaN         NaN  \n",
      "2             NaN                  7.0                 2.0 NaN         NaN  \n",
      "3             NaN                  7.0                 2.0 NaN         NaN  \n",
      "4             NaN                  7.0                 2.0 NaN         NaN  \n",
      "...           ...                  ...                 ...  ..         ...  \n",
      "5163          NaN                  7.0                 2.0 NaN         NaN  \n",
      "5164          NaN                  7.0                 2.0 NaN         NaN  \n",
      "5165          NaN                  7.0                 2.0 NaN         NaN  \n",
      "5166          NaN                  7.0                 2.0 NaN         NaN  \n",
      "5167          NaN                  7.0                 2.0 NaN         NaN  \n",
      "\n",
      "[5168 rows x 37 columns]\n"
     ]
    }
   ],
   "source": [
    "an.pair_data()"
   ]
  },
  {
   "cell_type": "markdown",
   "id": "c4662460-8a40-46af-bd27-e9b20bbb8d55",
   "metadata": {},
   "source": [
    "### Generate plots"
   ]
  },
  {
   "cell_type": "code",
   "execution_count": 6,
   "id": "56cfcbc2-ebfe-471d-98fa-de61e23ea150",
   "metadata": {
    "execution": {
     "iopub.execute_input": "2025-02-03T21:39:15.745125Z",
     "iopub.status.busy": "2025-02-03T21:39:15.744905Z",
     "iopub.status.idle": "2025-02-03T21:39:15.836724Z",
     "shell.execute_reply": "2025-02-03T21:39:15.836335Z"
    }
   },
   "outputs": [
    {
     "name": "stdout",
     "output_type": "stream",
     "text": [
      "Warning: no valid obs found for  \n",
      "Warning: no valid obs found for  \n",
      "Warning: no valid obs found for  \n",
      "Warning: no valid obs found for  \n",
      "Warning: no valid obs found for  \n",
      "Warning: no valid obs found for  \n"
     ]
    }
   ],
   "source": [
    "an.plotting()"
   ]
  },
  {
   "cell_type": "code",
   "execution_count": null,
   "id": "b50dd500-f06b-4fd0-8ded-1c036140af05",
   "metadata": {},
   "outputs": [],
   "source": []
  },
  {
   "cell_type": "code",
   "execution_count": null,
   "id": "4ab4086a-8b00-48bc-96ed-03c28803c120",
   "metadata": {},
   "outputs": [],
   "source": []
  }
 ],
 "metadata": {
  "kernelspec": {
   "display_name": "Python 3 (ipykernel)",
   "language": "python",
   "name": "python3"
  },
  "language_info": {
   "codemirror_mode": {
    "name": "ipython",
    "version": 3
   },
   "file_extension": ".py",
   "mimetype": "text/x-python",
   "name": "python",
   "nbconvert_exporter": "python",
   "pygments_lexer": "ipython3",
   "version": "3.11.8"
  }
 },
 "nbformat": 4,
 "nbformat_minor": 5
}
